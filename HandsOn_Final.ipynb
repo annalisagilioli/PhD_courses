{
 "cells": [
  {
   "cell_type": "markdown",
   "metadata": {},
   "source": [
    "# Hands-on session: Analysis of Higgs data"
   ]
  },
  {
   "cell_type": "code",
   "execution_count": 1,
   "metadata": {
    "execution": {
     "iopub.execute_input": "2024-11-25T16:47:12.759185Z",
     "iopub.status.busy": "2024-11-25T16:47:12.758498Z",
     "iopub.status.idle": "2024-11-25T16:47:12.855484Z",
     "shell.execute_reply": "2024-11-25T16:47:12.853803Z",
     "shell.execute_reply.started": "2024-11-25T16:47:12.759009Z"
    },
    "tags": []
   },
   "outputs": [],
   "source": [
    "%reload_ext custom_magics"
   ]
  },
  {
   "cell_type": "code",
   "execution_count": 2,
   "metadata": {
    "execution": {
     "iopub.execute_input": "2024-11-25T16:47:12.857575Z",
     "iopub.status.busy": "2024-11-25T16:47:12.857258Z",
     "iopub.status.idle": "2024-11-25T16:47:14.072997Z",
     "shell.execute_reply": "2024-11-25T16:47:14.071225Z",
     "shell.execute_reply.started": "2024-11-25T16:47:12.857543Z"
    },
    "tags": []
   },
   "outputs": [],
   "source": [
    "import pandas as pd\n",
    "import numpy as np\n",
    "import matplotlib.pyplot as plt\n",
    "%matplotlib inline\n",
    "\n",
    "from custom_functions import *"
   ]
  },
  {
   "cell_type": "code",
   "execution_count": 3,
   "metadata": {
    "execution": {
     "iopub.execute_input": "2024-11-25T16:47:14.078138Z",
     "iopub.status.busy": "2024-11-25T16:47:14.077469Z",
     "iopub.status.idle": "2024-11-25T16:47:25.011500Z",
     "shell.execute_reply": "2024-11-25T16:47:25.010655Z",
     "shell.execute_reply.started": "2024-11-25T16:47:14.078069Z"
    },
    "scrolled": true,
    "tags": []
   },
   "outputs": [
    {
     "name": "stderr",
     "output_type": "stream",
     "text": [
      "Exception in thread Thread-3:\n",
      "Traceback (most recent call last):\n",
      "  File \"/opt/conda/lib/python3.9/threading.py\", line 973, in _bootstrap_inner\n",
      "    self.run()\n",
      "  File \"/opt/conda/lib/python3.9/site-packages/sparkmonitor/kernelextension.py\", line 126, in run\n",
      "    self.onrecv(msg)\n",
      "  File \"/opt/conda/lib/python3.9/site-packages/sparkmonitor/kernelextension.py\", line 143, in onrecv\n",
      "    sendToFrontEnd({\n",
      "  File \"/opt/conda/lib/python3.9/site-packages/sparkmonitor/kernelextension.py\", line 223, in sendToFrontEnd\n",
      "    monitor.send(msg)\n",
      "  File \"/opt/conda/lib/python3.9/site-packages/sparkmonitor/kernelextension.py\", line 57, in send\n",
      "    self.comm.send(msg)\n",
      "AttributeError: 'ScalaMonitor' object has no attribute 'comm'\n"
     ]
    },
    {
     "data": {
      "text/html": [
       "\n",
       "        <div>\n",
       "            <p><b>SparkContext</b></p>\n",
       "\n",
       "            <p><a href=\"http://jupyter-annalisagilioli.jhub.svc.cluster.local:4040\">Spark UI</a></p>\n",
       "\n",
       "            <dl>\n",
       "              <dt>Version</dt>\n",
       "                <dd><code>v3.2.1</code></dd>\n",
       "              <dt>Master</dt>\n",
       "                <dd><code>k8s://https://192.168.2.39:6443</code></dd>\n",
       "              <dt>AppName</dt>\n",
       "                <dd><code>jupyter-annalisagilioli</code></dd>\n",
       "            </dl>\n",
       "        </div>\n",
       "        "
      ],
      "text/plain": [
       "<SparkContext master=k8s://https://192.168.2.39:6443 appName=jupyter-annalisagilioli>"
      ]
     },
     "execution_count": 3,
     "metadata": {},
     "output_type": "execute_result"
    }
   ],
   "source": [
    "num_workers=5\n",
    "spark=%sc $num_workers\n",
    "\n",
    "from pyspark.sql import SparkSession\n",
    "spark_session = SparkSession(spark)\n",
    "\n",
    "#check if spark is there\n",
    "spark"
   ]
  },
  {
   "cell_type": "markdown",
   "metadata": {},
   "source": [
    "## Prepare the input data"
   ]
  },
  {
   "cell_type": "code",
   "execution_count": 4,
   "metadata": {
    "execution": {
     "iopub.execute_input": "2024-11-25T16:47:25.013517Z",
     "iopub.status.busy": "2024-11-25T16:47:25.013076Z",
     "iopub.status.idle": "2024-11-25T16:47:33.525113Z",
     "shell.execute_reply": "2024-11-25T16:47:33.523620Z",
     "shell.execute_reply.started": "2024-11-25T16:47:25.013390Z"
    },
    "tags": []
   },
   "outputs": [
    {
     "name": "stdout",
     "output_type": "stream",
     "text": [
      "CPU times: user 6.09 ms, sys: 1.1 ms, total: 7.19 ms\n",
      "Wall time: 4.75 s\n",
      "There are 99999 events\n"
     ]
    }
   ],
   "source": [
    "inputFile = 'file:///home/jovyan/Higgs100k.parquet'\n",
    "#inputFile = 'file:///home/jovyan/Higgs1M.parquet'\n",
    "#inputFile = 'file:///home/jovyan/Higgs10M.parquet'\n",
    "\n",
    "%time df = spark_session.read.format('parquet').option('header', 'true').option('inferschema', 'true').load(inputFile)\n",
    "\n",
    "total_events = df.count()\n",
    "print('There are '+str(total_events)+' events')"
   ]
  },
  {
   "cell_type": "code",
   "execution_count": 5,
   "metadata": {
    "execution": {
     "iopub.execute_input": "2024-11-25T16:47:33.528060Z",
     "iopub.status.busy": "2024-11-25T16:47:33.527419Z",
     "iopub.status.idle": "2024-11-25T16:47:34.183037Z",
     "shell.execute_reply": "2024-11-25T16:47:34.181892Z",
     "shell.execute_reply.started": "2024-11-25T16:47:33.527998Z"
    },
    "tags": []
   },
   "outputs": [
    {
     "name": "stdout",
     "output_type": "stream",
     "text": [
      "There are 99999 events\n"
     ]
    }
   ],
   "source": [
    "total_events = df.count()\n",
    "\n",
    "print('There are '+str(total_events)+' events')"
   ]
  },
  {
   "cell_type": "markdown",
   "metadata": {
    "tags": []
   },
   "source": [
    "## Feature engineering\n",
    "\n",
    "### QUESTION 1: \n",
    "\n",
    "- Is the dataset unbalanced? \n",
    "- Do we need undersampling? \n",
    "- Do we need special preprocessing?"
   ]
  },
  {
   "cell_type": "markdown",
   "metadata": {
    "execution": {
     "iopub.execute_input": "2024-11-25T14:14:05.488465Z",
     "iopub.status.busy": "2024-11-25T14:14:05.487864Z",
     "iopub.status.idle": "2024-11-25T14:14:05.495286Z",
     "shell.execute_reply": "2024-11-25T14:14:05.493800Z",
     "shell.execute_reply.started": "2024-11-25T14:14:05.488401Z"
    }
   },
   "source": [
    "## Is the dataset unbalanced? "
   ]
  },
  {
   "cell_type": "code",
   "execution_count": 6,
   "metadata": {
    "execution": {
     "iopub.execute_input": "2024-11-25T16:47:34.186054Z",
     "iopub.status.busy": "2024-11-25T16:47:34.185397Z",
     "iopub.status.idle": "2024-11-25T16:47:35.564476Z",
     "shell.execute_reply": "2024-11-25T16:47:35.562938Z",
     "shell.execute_reply.started": "2024-11-25T16:47:34.185989Z"
    },
    "tags": []
   },
   "outputs": [
    {
     "name": "stdout",
     "output_type": "stream",
     "text": [
      "Number of row with 'label' equal to 1: 52833\n"
     ]
    }
   ],
   "source": [
    "#filtered_df = df.filter(df['label'] == 0)\n",
    "filtered_df = df.filter(df['label'] == 1)\n",
    "\n",
    "# Count\n",
    "count_value = filtered_df.count()\n",
    "print(f\"Number of row with 'label' equal to 1: {count_value}\")"
   ]
  },
  {
   "cell_type": "markdown",
   "metadata": {},
   "source": [
    "The dataset is balanced:\n",
    "- number of rows with label=0: 47166 (47%)\n",
    "- number of rows with label=0: 52833 (53%)\n"
   ]
  },
  {
   "cell_type": "markdown",
   "metadata": {
    "execution": {
     "iopub.execute_input": "2024-11-25T14:17:42.497918Z",
     "iopub.status.busy": "2024-11-25T14:17:42.497088Z",
     "iopub.status.idle": "2024-11-25T14:17:42.509877Z",
     "shell.execute_reply": "2024-11-25T14:17:42.508012Z",
     "shell.execute_reply.started": "2024-11-25T14:17:42.497850Z"
    }
   },
   "source": [
    "# Do we need undersampling?\n",
    "\n",
    "We can consider a sub-sample to speed up the execution of the code. In fact, we have a big dataset (the total number of rows is 99999)."
   ]
  },
  {
   "cell_type": "markdown",
   "metadata": {},
   "source": [
    "# Do we need special preprocessing?\n",
    "No special pre-processing of the dataset is necessary since it is extensive and balanced."
   ]
  },
  {
   "cell_type": "markdown",
   "metadata": {
    "tags": []
   },
   "source": [
    "### QUESTION 2: \n",
    "\n",
    "- Split the dataset into 5 roughly equal parts with random events"
   ]
  },
  {
   "cell_type": "code",
   "execution_count": 7,
   "metadata": {
    "execution": {
     "iopub.execute_input": "2024-11-25T16:47:35.566730Z",
     "iopub.status.busy": "2024-11-25T16:47:35.566238Z",
     "iopub.status.idle": "2024-11-25T16:47:39.315069Z",
     "shell.execute_reply": "2024-11-25T16:47:39.312895Z",
     "shell.execute_reply.started": "2024-11-25T16:47:35.566687Z"
    },
    "tags": []
   },
   "outputs": [
    {
     "name": "stdout",
     "output_type": "stream",
     "text": [
      "Subgroup 1: 20115 righe\n",
      "Subgroup 2: 19951 righe\n",
      "Subgroup 3: 19849 righe\n",
      "Subgroup 4: 19993 righe\n",
      "Subgroup 5: 20091 righe\n"
     ]
    }
   ],
   "source": [
    "splits = df.randomSplit([0.2, 0.2, 0.2, 0.2, 0.2], seed=0)\n",
    "\n",
    "for i, split in enumerate(splits):\n",
    "    count = split.count()\n",
    "    print(f\"Subgroup {i+1}: {count} righe\")\n",
    "\n"
   ]
  },
  {
   "cell_type": "markdown",
   "metadata": {
    "tags": []
   },
   "source": [
    "### QUESTION 3: \n",
    "- split the dataset for training and test"
   ]
  },
  {
   "cell_type": "code",
   "execution_count": 8,
   "metadata": {
    "execution": {
     "iopub.execute_input": "2024-11-25T16:47:39.319939Z",
     "iopub.status.busy": "2024-11-25T16:47:39.318416Z",
     "iopub.status.idle": "2024-11-25T16:47:40.399236Z",
     "shell.execute_reply": "2024-11-25T16:47:40.397692Z",
     "shell.execute_reply.started": "2024-11-25T16:47:39.319858Z"
    },
    "tags": []
   },
   "outputs": [
    {
     "name": "stdout",
     "output_type": "stream",
     "text": [
      "Events for training 80034\n",
      "Events for validation 19965\n"
     ]
    }
   ],
   "source": [
    "#split the dataset for training and test\n",
    "train, test = df.randomSplit([0.8,0.2])\n",
    "\n",
    "print('Events for training {}'.format(train.count()))\n",
    "print('Events for validation {}'.format(test.count()))"
   ]
  },
  {
   "cell_type": "markdown",
   "metadata": {},
   "source": [
    "### QUESTION 4:\n",
    "\n",
    "- Create the input feature vector for MLLib\n",
    "- Documentation on how to do data preprocessing in Spark: https://spark.apache.org/docs/latest/ml-features.html"
   ]
  },
  {
   "cell_type": "code",
   "execution_count": 9,
   "metadata": {
    "execution": {
     "iopub.execute_input": "2024-11-25T16:47:40.402072Z",
     "iopub.status.busy": "2024-11-25T16:47:40.401563Z",
     "iopub.status.idle": "2024-11-25T16:47:40.658133Z",
     "shell.execute_reply": "2024-11-25T16:47:40.656434Z",
     "shell.execute_reply.started": "2024-11-25T16:47:40.402009Z"
    }
   },
   "outputs": [],
   "source": [
    "# create input feature vector\n",
    "feature = train.columns\n",
    "feature.remove('label')\n",
    "\n",
    "from pyspark.ml.feature import VectorAssembler\n",
    "\n",
    "#VectorAssembler is a transformer that combines a given list of columns into a single vector column\n",
    "assembler = VectorAssembler(inputCols=feature, outputCol='features')\n",
    "train = assembler.transform(train)\n",
    "test = assembler.transform(test)"
   ]
  },
  {
   "cell_type": "markdown",
   "metadata": {},
   "source": [
    "## ML with pyspark\n",
    "\n",
    "- Try to solve the signal vs background classification problem using a **new model of your choice** (obviously, not GBT or MCP)\n",
    "- Documentation at: https://spark.apache.org/docs/3.2.1/ml-classification-regression.html"
   ]
  },
  {
   "cell_type": "code",
   "execution_count": 10,
   "metadata": {
    "execution": {
     "iopub.execute_input": "2024-11-25T16:47:40.660316Z",
     "iopub.status.busy": "2024-11-25T16:47:40.660033Z",
     "iopub.status.idle": "2024-11-25T16:47:40.665513Z",
     "shell.execute_reply": "2024-11-25T16:47:40.664726Z",
     "shell.execute_reply.started": "2024-11-25T16:47:40.660283Z"
    }
   },
   "outputs": [],
   "source": [
    "from pyspark.ml.classification import *"
   ]
  },
  {
   "cell_type": "markdown",
   "metadata": {},
   "source": [
    "Fit the model on the **training dataset**: (dataframe train)"
   ]
  },
  {
   "cell_type": "code",
   "execution_count": 11,
   "metadata": {
    "execution": {
     "iopub.execute_input": "2024-11-25T16:47:40.666864Z",
     "iopub.status.busy": "2024-11-25T16:47:40.666656Z",
     "iopub.status.idle": "2024-11-25T16:47:49.725161Z",
     "shell.execute_reply": "2024-11-25T16:47:49.724348Z",
     "shell.execute_reply.started": "2024-11-25T16:47:40.666838Z"
    },
    "tags": []
   },
   "outputs": [
    {
     "name": "stdout",
     "output_type": "stream",
     "text": [
      "Coefficients: [-0.2936290910247132,-0.005678667496442856,-0.0,-0.449422567365776,-0.0,0.44719866078003945,-0.011603852280607596,0.002728275791994324,0.06200625764552445,0.09008049484231732,0.01000378319596735,0.0031208500829555974,-0.06177901753189543,0.06766670379240756,0.004852076670233098,0.01737837178744221,-0.053938521502710675,0.14556816112447582,-0.005780733869230981,0.007844528553966295,-0.024312754644315593,-0.012526524187798715,0.4629067987105466,0.605278668185751,0.3049244558357297,-0.8373959153812922,0.14104484761627437,-1.239894853379064]\n",
      "Intercept: 0.9230353161488264\n"
     ]
    }
   ],
   "source": [
    "model = LinearSVC(maxIter=10, regParam=0.1)\n",
    "\n",
    "# Fit the model\n",
    "LSVC_model = model.fit(train)\n",
    "\n",
    "# Print the coefficients and intercept for linear SVC\n",
    "print(\"Coefficients: \" + str(LSVC_model.coefficients))\n",
    "print(\"Intercept: \" + str(LSVC_model.intercept))"
   ]
  },
  {
   "cell_type": "markdown",
   "metadata": {},
   "source": [
    "### QUESTION 5: \n",
    "\n",
    "- Compute the accuracy/AUC/relevant metrics on the test dataset"
   ]
  },
  {
   "cell_type": "code",
   "execution_count": 12,
   "metadata": {
    "execution": {
     "iopub.execute_input": "2024-11-25T16:47:49.728190Z",
     "iopub.status.busy": "2024-11-25T16:47:49.727925Z",
     "iopub.status.idle": "2024-11-25T16:47:51.279819Z",
     "shell.execute_reply": "2024-11-25T16:47:51.278546Z",
     "shell.execute_reply.started": "2024-11-25T16:47:49.728159Z"
    },
    "tags": []
   },
   "outputs": [
    {
     "name": "stdout",
     "output_type": "stream",
     "text": [
      "Test set AUC = 0.6497308049380861\n"
     ]
    }
   ],
   "source": [
    "# compute AUC on the test set\n",
    "result = LSVC_model.transform(test)\n",
    "\n",
    "from pyspark.ml.evaluation import BinaryClassificationEvaluator\n",
    "evaluator = BinaryClassificationEvaluator(labelCol='label', metricName=\"areaUnderROC\")\n",
    "print(\"Test set AUC = \" + str(evaluator.evaluate(result)))"
   ]
  },
  {
   "cell_type": "code",
   "execution_count": 13,
   "metadata": {
    "execution": {
     "iopub.execute_input": "2024-11-25T16:47:51.281126Z",
     "iopub.status.busy": "2024-11-25T16:47:51.280904Z",
     "iopub.status.idle": "2024-11-25T16:47:55.367043Z",
     "shell.execute_reply": "2024-11-25T16:47:55.365716Z",
     "shell.execute_reply.started": "2024-11-25T16:47:51.281100Z"
    },
    "tags": []
   },
   "outputs": [
    {
     "name": "stdout",
     "output_type": "stream",
     "text": [
      "AUC: 0.650\n",
      "+-----+----------+-----+\n",
      "|label|prediction|count|\n",
      "+-----+----------+-----+\n",
      "|  1.0|       1.0| 9496|\n",
      "|  0.0|       1.0| 6585|\n",
      "|  1.0|       0.0| 1161|\n",
      "|  0.0|       0.0| 2723|\n",
      "+-----+----------+-----+\n",
      "\n",
      "n precision: 0.591\n",
      "n recall: 0.891\n",
      "n accuracy: 0.612\n",
      "n F1 score: 0.710\n"
     ]
    }
   ],
   "source": [
    "#print metrics\n",
    "printMetrics(evaluator, result)"
   ]
  },
  {
   "cell_type": "markdown",
   "metadata": {},
   "source": [
    "### QUESTION 6: \n",
    "\n",
    "- Check that you are neither underfitting nor overfitting"
   ]
  },
  {
   "cell_type": "code",
   "execution_count": 14,
   "metadata": {
    "execution": {
     "iopub.execute_input": "2024-11-25T16:47:55.369679Z",
     "iopub.status.busy": "2024-11-25T16:47:55.369192Z",
     "iopub.status.idle": "2024-11-25T16:47:59.003135Z",
     "shell.execute_reply": "2024-11-25T16:47:59.002294Z",
     "shell.execute_reply.started": "2024-11-25T16:47:55.369617Z"
    },
    "tags": []
   },
   "outputs": [
    {
     "name": "stdout",
     "output_type": "stream",
     "text": [
      "Test set AUC = 0.6497456594641386\n",
      "Training set AUC = 0.6564051416383168\n",
      "Test set Accuracy = 0.6120210368144252\n",
      "Training set Accuracy = 0.611002823799885\n"
     ]
    }
   ],
   "source": [
    "result = LSVC_model.transform(test)\n",
    "print(\"Test set AUC = \" + str(evaluator.evaluate(result)))\n",
    "result_train = LSVC_model.transform(train)\n",
    "print(\"Training set AUC = \" + str(evaluator.evaluate(result_train)))\n",
    "\n",
    "#-------------------------------------------------------------------------\n",
    "\n",
    "test_accuracy = result.filter(result['prediction'] == result['label']).count() / float(test.count())\n",
    "train_accuracy = result_train.filter(result_train['prediction'] == result_train['label']).count() / float(train.count())\n",
    "\n",
    "print(\"Test set Accuracy = \" + str(test_accuracy))\n",
    "print(\"Training set Accuracy = \" + str(train_accuracy))\n",
    "\n"
   ]
  },
  {
   "cell_type": "markdown",
   "metadata": {},
   "source": [
    "The AUC and Accuracy calculated on the training set and the test set are similar, so we should not be overfitting or underfitting."
   ]
  },
  {
   "cell_type": "code",
   "execution_count": 15,
   "metadata": {
    "execution": {
     "iopub.execute_input": "2024-11-25T16:47:59.006238Z",
     "iopub.status.busy": "2024-11-25T16:47:59.005456Z",
     "iopub.status.idle": "2024-11-25T16:47:59.798590Z",
     "shell.execute_reply": "2024-11-25T16:47:59.796727Z",
     "shell.execute_reply.started": "2024-11-25T16:47:59.006170Z"
    },
    "tags": []
   },
   "outputs": [],
   "source": [
    "# When you're done, stop spark\n",
    "spark.stop()"
   ]
  },
  {
   "cell_type": "markdown",
   "metadata": {},
   "source": [
    "### Final results\n",
    "\n",
    "Pick any two models (can be any from pyspark MLLib, Keras + BigDL sequential) and  (you can use results from previous days):\n",
    "- Compare them in terms of absolute performances. Discuss accuracy, ROC, AUC, feature importance, feature distributions. Which of these metrics do you deem more critical?\n",
    "- Compare how they scale in terms of performances and training time when you change the number of executors (from 1 to 5)\n",
    "- Discuss the results.  \n",
    "- You can also collect results in external documents (google documents, pdf, whatever) and link them here"
   ]
  },
  {
   "cell_type": "code",
   "execution_count": 16,
   "metadata": {
    "execution": {
     "iopub.execute_input": "2024-11-25T16:47:59.801733Z",
     "iopub.status.busy": "2024-11-25T16:47:59.801032Z",
     "iopub.status.idle": "2024-11-25T16:48:07.475899Z",
     "shell.execute_reply": "2024-11-25T16:48:07.475206Z",
     "shell.execute_reply.started": "2024-11-25T16:47:59.801667Z"
    },
    "tags": []
   },
   "outputs": [
    {
     "data": {
      "text/html": [
       "\n",
       "        <div>\n",
       "            <p><b>SparkContext</b></p>\n",
       "\n",
       "            <p><a href=\"http://jupyter-annalisagilioli.jhub.svc.cluster.local:4040\">Spark UI</a></p>\n",
       "\n",
       "            <dl>\n",
       "              <dt>Version</dt>\n",
       "                <dd><code>v3.2.1</code></dd>\n",
       "              <dt>Master</dt>\n",
       "                <dd><code>k8s://https://192.168.2.39:6443</code></dd>\n",
       "              <dt>AppName</dt>\n",
       "                <dd><code>jupyter-annalisagilioli</code></dd>\n",
       "            </dl>\n",
       "        </div>\n",
       "        "
      ],
      "text/plain": [
       "<SparkContext master=k8s://https://192.168.2.39:6443 appName=jupyter-annalisagilioli>"
      ]
     },
     "execution_count": 16,
     "metadata": {},
     "output_type": "execute_result"
    }
   ],
   "source": [
    "num_workers=5\n",
    "spark=%sc $num_workers\n",
    "\n",
    "from pyspark.sql import SparkSession\n",
    "spark_session = SparkSession(spark)\n",
    "\n",
    "#check if spark is there\n",
    "spark"
   ]
  },
  {
   "cell_type": "markdown",
   "metadata": {},
   "source": [
    "# GBT"
   ]
  },
  {
   "cell_type": "code",
   "execution_count": 17,
   "metadata": {
    "execution": {
     "iopub.execute_input": "2024-11-25T16:48:07.478735Z",
     "iopub.status.busy": "2024-11-25T16:48:07.478074Z",
     "iopub.status.idle": "2024-11-25T16:48:56.184077Z",
     "shell.execute_reply": "2024-11-25T16:48:56.182093Z",
     "shell.execute_reply.started": "2024-11-25T16:48:07.478674Z"
    },
    "tags": []
   },
   "outputs": [
    {
     "name": "stdout",
     "output_type": "stream",
     "text": [
      "CPU times: user 1.81 ms, sys: 736 µs, total: 2.54 ms\n",
      "Wall time: 1.12 s\n",
      "There are 99999 events\n",
      "CPU times: user 6 µs, sys: 5 µs, total: 11 µs\n",
      "Wall time: 20 µs\n",
      "Test set AUC = 0.7765975403869887\n",
      "AUC: 0.777\n",
      "+-----+----------+-----+\n",
      "|label|prediction|count|\n",
      "+-----+----------+-----+\n",
      "|  1.0|       1.0| 7724|\n",
      "|  0.0|       1.0| 2968|\n",
      "|  1.0|       0.0| 2886|\n",
      "|  0.0|       0.0| 6359|\n",
      "+-----+----------+-----+\n",
      "\n",
      "n precision: 0.722\n",
      "n recall: 0.728\n",
      "n accuracy: 0.706\n",
      "n F1 score: 0.725\n"
     ]
    },
    {
     "data": {
      "image/png": "[encoded data removed]",
      "text/plain": [
       "<Figure size 432x288 with 1 Axes>"
      ]
     },
     "metadata": {
      "needs_background": "light"
     },
     "output_type": "display_data"
    },
    {
     "data": {
      "image/png": "[encoded data removed]",
      "text/plain": [
       "<Figure size 576x720 with 1 Axes>"
      ]
     },
     "metadata": {
      "needs_background": "light"
     },
     "output_type": "display_data"
    },
    {
     "data": {
      "image/png": "[encoded data removed]",
      "text/plain": [
       "<Figure size 432x288 with 1 Axes>"
      ]
     },
     "metadata": {
      "needs_background": "light"
     },
     "output_type": "display_data"
    }
   ],
   "source": [
    "from pyspark.ml.classification import GBTClassifier\n",
    "\n",
    "inputFile = 'file:///home/jovyan/Higgs100k.parquet'\n",
    "#inputFile = 'file:///home/jovyan/Higgs1M.parquet'\n",
    "#inputFile = 'file:///home/jovyan/Higgs10M.parquet'\n",
    "\n",
    "%time df = spark_session.read.format('parquet').option('header', 'true').option('inferschema', 'true').load(inputFile)\n",
    "\n",
    "total_events = df.count()\n",
    "print('There are '+str(total_events)+' events')\n",
    "\n",
    "#split the dataset for training and test\n",
    "train, test = df.randomSplit([0.8,0.2])\n",
    "\n",
    "# create the input feature vector \n",
    "feature = train.columns\n",
    "feature.remove('label')\n",
    "\n",
    "from pyspark.ml.feature import VectorAssembler\n",
    "\n",
    "#VectorAssembler is a transformer that combines a given list of columns into a single vector column\n",
    "assembler = VectorAssembler(inputCols=feature, outputCol='features')\n",
    "train = assembler.transform(train)\n",
    "test = assembler.transform(test)\n",
    "\n",
    "# slow, 10-20 minutes training time \n",
    "#gbt = GBTClassifier(labelCol='label', featuresCol='features', maxIter=50, maxDepth=10) #slow\n",
    "\n",
    "# fast, about 1m to train\n",
    "gbt = GBTClassifier(labelCol='label', featuresCol='features', maxIter=20, maxDepth=5) \n",
    "\n",
    "%time\n",
    "gbt_model = gbt.fit(train)\n",
    "\n",
    "# compute AUC on the test set\n",
    "result = gbt_model.transform(test)\n",
    "\n",
    "from pyspark.ml.evaluation import BinaryClassificationEvaluator\n",
    "evaluator = BinaryClassificationEvaluator(labelCol='label', metricName=\"areaUnderROC\")\n",
    "print(\"Test set AUC = \" + str(evaluator.evaluate(result)))\n",
    "\n",
    "#print metrics\n",
    "printMetrics(evaluator, result)\n",
    "\n",
    "#make ROC curve\n",
    "drawROC(result)\n",
    "\n",
    "#plot features vs importance\n",
    "drawFeatures(feature, gbt_model)\n",
    "\n",
    "#plot signal vs background with prediction\n",
    "plotSignalvsBgWithPrediction(test, result, 'm_bb')"
   ]
  },
  {
   "cell_type": "markdown",
   "metadata": {
    "jp-MarkdownHeadingCollapsed": true,
    "tags": []
   },
   "source": [
    "# MCP"
   ]
  },
  {
   "cell_type": "code",
   "execution_count": 18,
   "metadata": {
    "execution": {
     "iopub.execute_input": "2024-11-25T16:48:56.187098Z",
     "iopub.status.busy": "2024-11-25T16:48:56.186636Z",
     "iopub.status.idle": "2024-11-25T16:49:28.190610Z",
     "shell.execute_reply": "2024-11-25T16:49:28.189495Z",
     "shell.execute_reply.started": "2024-11-25T16:48:56.187045Z"
    },
    "tags": []
   },
   "outputs": [
    {
     "name": "stdout",
     "output_type": "stream",
     "text": [
      "CPU times: user 7 µs, sys: 7 µs, total: 14 µs\n",
      "Wall time: 30.3 µs\n",
      "Test set AUC = 0.7192440602198051\n",
      "AUC: 0.719\n",
      "+-----+----------+-----+\n",
      "|label|prediction|count|\n",
      "+-----+----------+-----+\n",
      "|  1.0|       1.0| 8360|\n",
      "|  0.0|       1.0| 4425|\n",
      "|  1.0|       0.0| 2250|\n",
      "|  0.0|       0.0| 4902|\n",
      "+-----+----------+-----+\n",
      "\n",
      "n precision: 0.654\n",
      "n recall: 0.788\n",
      "n accuracy: 0.665\n",
      "n F1 score: 0.715\n"
     ]
    },
    {
     "data": {
      "image/png": "[encoded data removed]",
      "text/plain": [
       "<Figure size 432x288 with 1 Axes>"
      ]
     },
     "metadata": {
      "needs_background": "light"
     },
     "output_type": "display_data"
    },
    {
     "data": {
      "image/png": "[encoded data removed]",
      "text/plain": [
       "<Figure size 432x288 with 1 Axes>"
      ]
     },
     "metadata": {
      "needs_background": "light"
     },
     "output_type": "display_data"
    }
   ],
   "source": [
    "from pyspark.ml.classification import MultilayerPerceptronClassifier\n",
    "\n",
    "# specify layers for the neural network:\n",
    "\n",
    "# input layer of size 28 (features), two intermediate of size 30, and output of size 2 (classes)\n",
    "layers = [28, 30, 30, 2]\n",
    "\n",
    "# create the trainer and set its parameters\n",
    "mpc = MultilayerPerceptronClassifier(labelCol='label', featuresCol='features', maxIter=100, layers=layers, blockSize=128, seed=1234)\n",
    "\n",
    "%time\n",
    "model_mpc = mpc.fit(train)\n",
    "\n",
    "# compute accuracy on the test set\n",
    "from pyspark.ml.evaluation import BinaryClassificationEvaluator\n",
    "\n",
    "result = model_mpc.transform(test)\n",
    "evaluator = BinaryClassificationEvaluator(labelCol='label', metricName=\"areaUnderROC\")\n",
    "print(\"Test set AUC = \" + str(evaluator.evaluate(result)))\n",
    "\n",
    "#print metrics\n",
    "printMetrics(evaluator, result)\n",
    "\n",
    "#make ROC curve\n",
    "drawROC(result)\n",
    "\n",
    "#plot signal vs background with prediction\n",
    "plotSignalvsBgWithPrediction(test, result, 'm_bb')"
   ]
  },
  {
   "cell_type": "markdown",
   "metadata": {},
   "source": [
    "# Keras"
   ]
  },
  {
   "cell_type": "code",
   "execution_count": 19,
   "metadata": {
    "execution": {
     "iopub.execute_input": "2024-11-25T16:49:28.192831Z",
     "iopub.status.busy": "2024-11-25T16:49:28.192566Z",
     "iopub.status.idle": "2024-11-25T16:49:53.377473Z",
     "shell.execute_reply": "2024-11-25T16:49:53.375716Z",
     "shell.execute_reply.started": "2024-11-25T16:49:28.192800Z"
    },
    "tags": []
   },
   "outputs": [
    {
     "name": "stdout",
     "output_type": "stream",
     "text": [
      "CPU times: user 249 ms, sys: 222 ms, total: 471 ms\n",
      "Wall time: 144 ms\n",
      "CPU times: user 42.9 s, sys: 17.6 s, total: 1min\n",
      "Wall time: 17 s\n",
      "Precision: 0.6735443989641634\n",
      "Recall: 0.757658334899455\n",
      "Accuracy: 0.67565\n",
      "F1 Score: 0.7131296157077787\n"
     ]
    },
    {
     "data": {
      "image/png": "[encoded data removed]",
      "text/plain": [
       "<Figure size 432x288 with 1 Axes>"
      ]
     },
     "metadata": {
      "needs_background": "light"
     },
     "output_type": "display_data"
    },
    {
     "data": {
      "image/png": "[encoded data removed]",
      "text/plain": [
       "<Figure size 432x288 with 1 Axes>"
      ]
     },
     "metadata": {
      "needs_background": "light"
     },
     "output_type": "display_data"
    }
   ],
   "source": [
    "#ignore warnings from Tensorflow\n",
    "import warnings\n",
    "warnings.simplefilter(action='ignore', category=FutureWarning)\n",
    "#warnings.simplefilter(action='ignore', category=DeprecationWarning)\n",
    "import tensorflow as tf\n",
    "#if type(tf.contrib) != type(tf): tf.contrib._warning = None\n",
    "tf.compat.v1.logging.set_verbosity(tf.compat.v1.logging.ERROR)\n",
    "\n",
    "#import Keras \n",
    "from tensorflow.keras.models import Sequential\n",
    "from tensorflow.keras.layers import Dense\n",
    "from tensorflow.keras.layers import Dropout\n",
    "from tensorflow.keras import regularizers\n",
    "from tensorflow.keras.optimizers import SGD, Adam\n",
    "from tensorflow.keras.callbacks import EarlyStopping\n",
    "\n",
    "inputFile = 'file:///home/jovyan/Higgs100k.parquet'\n",
    "#inputFile = 'file:///home/jovyan/Higgs1M.parquet'\n",
    "#inputFile = 'file:///home/jovyan/Higgs10M.parquet'\n",
    "\n",
    "%time df = pd.read_parquet(inputFile)\n",
    "\n",
    "# The first column is the target variable\n",
    "y = df.iloc[:, 0] #df with label\n",
    "x = df.iloc[: , 1:] #df with all other variables\n",
    "\n",
    "from sklearn.model_selection import train_test_split\n",
    "\n",
    "# Split the data into training and test sets (80% training, 20% testing)\n",
    "x_train, x_test, y_train, y_test = train_test_split(x, y, test_size=0.2, random_state=42)\n",
    "\n",
    "# create the model\n",
    "import keras\n",
    "from keras import layers\n",
    "\n",
    "model = keras.Sequential(\n",
    "    [\n",
    "        layers.Dense(100, activation=\"relu\", name=\"layer\", input_shape=(28,)),\n",
    "        layers.Dense(1, activation=\"sigmoid\", name=\"output\")\n",
    "    ]\n",
    ")\n",
    "\n",
    "# compile the model\n",
    "model.compile(loss='binary_crossentropy', optimizer='adam', metrics='Accuracy')\n",
    "\n",
    "# set batch size according to size of the input sample!!!\n",
    "# start training with reasonable numer of epoch\n",
    "\n",
    "# simple early stopping\n",
    "es = EarlyStopping(monitor='val_loss', mode='min', verbose=1, patience=10)\n",
    "\n",
    "%time history = model.fit(x_train, y_train, batch_size=128, epochs=10, validation_data=(x_test, y_test), callbacks=[es], verbose=0)\n",
    "\n",
    "# apply model to get predictions on test set\n",
    "y_pred = model.predict(x_test)\n",
    "\n",
    "#print metrics\n",
    "from sklearn.metrics import precision_score, recall_score, accuracy_score, f1_score\n",
    "\n",
    "y_model = (y_pred >= 0.5).astype(int)\n",
    "\n",
    "# Precision, recall, accuracy, F1 score\n",
    "precision = precision_score(y_test, y_model)\n",
    "recall = recall_score(y_test, y_model)\n",
    "accuracy = accuracy_score(y_test, y_model)\n",
    "f1 = f1_score(y_test, y_model)\n",
    "\n",
    "print(f\"Precision: {precision}\")\n",
    "print(f\"Recall: {recall}\")\n",
    "print(f\"Accuracy: {accuracy}\")\n",
    "print(f\"F1 Score: {f1}\")\n",
    "\n",
    "#draw ROC\n",
    "drawROC2(y_test, y_pred)\n",
    "\n",
    "#plot signal vs background with prediction\n",
    "variable = 'm_bb'\n",
    "\n",
    "# Get the predicted probabilities for the positive class\n",
    "y_pred_prob = model.predict(x_test)  # Use .ravel() to flatten to a 1D array\n",
    "\n",
    "plotSignalvsBgWithPrediction2(x_test[variable], y_test, y_pred_prob, variable)"
   ]
  },
  {
   "cell_type": "markdown",
   "metadata": {
    "tags": []
   },
   "source": [
    "### Accuracy, AUC and feature distributions\n",
    "\n",
    "- Accuracy:\n",
    "    - GBT: 0.706\n",
    "    - Keras: 0.676\n",
    "\n",
    "- AUC:\n",
    "    - GBT: 0.777\n",
    "    - Keras: 0.739\n",
    "\n",
    "- Others parameters:\n",
    "\n",
    "    - GBT:\n",
    "        - Precision: 0.722\n",
    "        - Recall: 0.728\n",
    "        - Accuracy: 0.706\n",
    "        - F1 score: 0.725\n",
    "    - Keras:\n",
    "        - Precision: 0.674\n",
    "        - Recall: 0.758\n",
    "        - Accuracy: 0.676\n",
    "        - F1 Score: 0.713\n",
    "\n",
    "- Signal vs background:\\\n",
    "The two models provide similar signal and background reconstruction for the most important feature.\n",
    "The performance parameters are similar for the two models. \n",
    "\n",
    "- NOTE: The biggest difference is in the precision parameter, which can therefore be considered the most critical; the Keras model performs a better reconstruction of the most important feature but has a lower precision than the GBT model.\n",
    "\n",
    "### Time\n",
    "\n",
    "- num_workers=1:\n",
    "    - GBT: 19.8 µs\n",
    "    - Keras: 16.3 s\n",
    "\n",
    "- num_workers=5:\n",
    "    - GBT:  20 µs\n",
    "    - Keras: 17 s\n",
    "    \n",
    "There is no significant difference in execution time when considering a number of workers of 1 or 5. Probably because short times (order of seconds and µs) are being considered."
   ]
  },
  {
   "cell_type": "code",
   "execution_count": 21,
   "metadata": {
    "execution": {
     "iopub.execute_input": "2024-11-25T16:58:28.189480Z",
     "iopub.status.busy": "2024-11-25T16:58:28.188740Z",
     "iopub.status.idle": "2024-11-25T16:58:28.197035Z",
     "shell.execute_reply": "2024-11-25T16:58:28.195728Z",
     "shell.execute_reply.started": "2024-11-25T16:58:28.189412Z"
    },
    "tags": []
   },
   "outputs": [],
   "source": [
    "# When you're done, stop spark\n",
    "spark.stop()"
   ]
  },
  {
   "cell_type": "code",
   "execution_count": null,
   "metadata": {},
   "outputs": [],
   "source": []
  }
 ],
 "metadata": {
  "kernelspec": {
   "display_name": "Python 3 (ipykernel)",
   "language": "python",
   "name": "python3"
  },
  "language_info": {
   "codemirror_mode": {
    "name": "ipython",
    "version": 3
   },
   "file_extension": ".py",
   "mimetype": "text/x-python",
   "name": "python",
   "nbconvert_exporter": "python",
   "pygments_lexer": "ipython3",
   "version": "3.9.7"
  },
  "sparkconnect": {
   "bundled_options": [],
   "list_of_options": []
  }
 },
 "nbformat": 4,
 "nbformat_minor": 4
}
