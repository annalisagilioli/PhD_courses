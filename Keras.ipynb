{
 "cells": [
  {
   "cell_type": "markdown",
   "metadata": {},
   "source": [
    "# Hands-on Day 3\n",
    "\n",
    "## You'll learn\n",
    "\n",
    "### ML methods\n",
    "\n",
    "- Deep NN with keras"
   ]
  },
  {
   "cell_type": "markdown",
   "metadata": {
    "tags": []
   },
   "source": [
    "# Initial setup \n",
    "\n",
    "- read in parquet file\n",
    "- create x,y vectors from panda dataframe"
   ]
  },
  {
   "cell_type": "code",
   "execution_count": 64,
   "metadata": {
    "execution": {
     "iopub.execute_input": "2024-11-25T10:56:01.649504Z",
     "iopub.status.busy": "2024-11-25T10:56:01.648875Z",
     "iopub.status.idle": "2024-11-25T10:56:01.903778Z",
     "shell.execute_reply": "2024-11-25T10:56:01.895571Z",
     "shell.execute_reply.started": "2024-11-25T10:56:01.649428Z"
    },
    "tags": []
   },
   "outputs": [
    {
     "name": "stdout",
     "output_type": "stream",
     "text": [
      "The autoreload extension is already loaded. To reload it, use:\n",
      "  %reload_ext autoreload\n"
     ]
    }
   ],
   "source": [
    "%reload_ext custom_functions\n",
    "%load_ext autoreload\n",
    "%autoreload 2"
   ]
  },
  {
   "cell_type": "code",
   "execution_count": 65,
   "metadata": {
    "execution": {
     "iopub.execute_input": "2024-11-25T10:56:02.644707Z",
     "iopub.status.busy": "2024-11-25T10:56:02.643993Z",
     "iopub.status.idle": "2024-11-25T10:56:02.728565Z",
     "shell.execute_reply": "2024-11-25T10:56:02.727415Z",
     "shell.execute_reply.started": "2024-11-25T10:56:02.644638Z"
    },
    "tags": []
   },
   "outputs": [],
   "source": [
    "import pandas as pd\n",
    "import numpy as np\n",
    "import matplotlib.pyplot as plt\n",
    "%matplotlib inline\n",
    "\n",
    "# Check out these custom functions\n",
    "from custom_functions import *"
   ]
  },
  {
   "cell_type": "code",
   "execution_count": 66,
   "metadata": {
    "execution": {
     "iopub.execute_input": "2024-11-25T10:56:03.480620Z",
     "iopub.status.busy": "2024-11-25T10:56:03.480034Z",
     "iopub.status.idle": "2024-11-25T10:56:03.781883Z",
     "shell.execute_reply": "2024-11-25T10:56:03.781261Z",
     "shell.execute_reply.started": "2024-11-25T10:56:03.480555Z"
    },
    "tags": []
   },
   "outputs": [
    {
     "name": "stdout",
     "output_type": "stream",
     "text": [
      "CPU times: user 226 ms, sys: 249 ms, total: 475 ms\n",
      "Wall time: 120 ms\n"
     ]
    }
   ],
   "source": [
    "inputFile = 'file:///home/jovyan/Higgs100k.parquet'\n",
    "#inputFile = 'file:///home/jovyan/Higgs1M.parquet'\n",
    "#inputFile = 'file:///home/jovyan/Higgs10M.parquet'\n",
    "\n",
    "%time df = pd.read_parquet(inputFile)"
   ]
  },
  {
   "cell_type": "code",
   "execution_count": 5,
   "metadata": {
    "execution": {
     "iopub.execute_input": "2024-11-22T11:48:08.472160Z",
     "iopub.status.busy": "2024-11-22T11:48:08.471860Z",
     "iopub.status.idle": "2024-11-22T11:48:09.049840Z",
     "shell.execute_reply": "2024-11-22T11:48:09.048677Z",
     "shell.execute_reply.started": "2024-11-22T11:48:08.472126Z"
    },
    "tags": []
   },
   "outputs": [
    {
     "data": {
      "text/plain": [
       "99999"
      ]
     },
     "execution_count": 5,
     "metadata": {},
     "output_type": "execute_result"
    }
   ],
   "source": [
    "# The first column is the target variable\n",
    "y = df.iloc[:, 0] #df with label\n",
    "x = df.iloc[: , 1:] #df with all other variables\n",
    "\n",
    "len(x)"
   ]
  },
  {
   "cell_type": "code",
   "execution_count": 6,
   "metadata": {
    "execution": {
     "iopub.execute_input": "2024-11-22T11:48:09.051173Z",
     "iopub.status.busy": "2024-11-22T11:48:09.050999Z",
     "iopub.status.idle": "2024-11-22T11:48:09.344818Z",
     "shell.execute_reply": "2024-11-22T11:48:09.343586Z",
     "shell.execute_reply.started": "2024-11-22T11:48:09.051152Z"
    },
    "tags": []
   },
   "outputs": [],
   "source": [
    "from sklearn.model_selection import train_test_split\n",
    "\n",
    "# Split the data into training and test sets (80% training, 20% testing)\n",
    "x_train, x_test, y_train, y_test = train_test_split(x, y, test_size=0.2, random_state=42)"
   ]
  },
  {
   "cell_type": "code",
   "execution_count": 7,
   "metadata": {
    "execution": {
     "iopub.execute_input": "2024-11-22T11:48:09.346040Z",
     "iopub.status.busy": "2024-11-22T11:48:09.345849Z",
     "iopub.status.idle": "2024-11-22T11:48:09.412125Z",
     "shell.execute_reply": "2024-11-22T11:48:09.411153Z",
     "shell.execute_reply.started": "2024-11-22T11:48:09.346018Z"
    },
    "tags": []
   },
   "outputs": [
    {
     "name": "stdout",
     "output_type": "stream",
     "text": [
      "99999\n",
      "99999\n"
     ]
    }
   ],
   "source": [
    "#sanity check\n",
    "\n",
    "print(len(x_train)+len(x_test))\n",
    "print(len(y_train)+len(y_test))"
   ]
  },
  {
   "cell_type": "markdown",
   "metadata": {
    "execution": {
     "iopub.execute_input": "2024-11-14T10:45:28.616526Z",
     "iopub.status.busy": "2024-11-14T10:45:28.615937Z",
     "iopub.status.idle": "2024-11-14T10:45:28.650827Z",
     "shell.execute_reply": "2024-11-14T10:45:28.650152Z",
     "shell.execute_reply.started": "2024-11-14T10:45:28.616463Z"
    }
   },
   "source": [
    "# ML Models: Sequential\n",
    "\n",
    "We will use Keras with Tensorflow as backend (supports multi-core and GPUs)"
   ]
  },
  {
   "cell_type": "code",
   "execution_count": 8,
   "metadata": {
    "execution": {
     "iopub.execute_input": "2024-11-22T11:48:09.413451Z",
     "iopub.status.busy": "2024-11-22T11:48:09.413235Z",
     "iopub.status.idle": "2024-11-22T11:48:09.696127Z",
     "shell.execute_reply": "2024-11-22T11:48:09.694482Z",
     "shell.execute_reply.started": "2024-11-22T11:48:09.413421Z"
    },
    "tags": []
   },
   "outputs": [],
   "source": [
    "#ignore warnings from Tensorflow\n",
    "import warnings\n",
    "warnings.simplefilter(action='ignore', category=FutureWarning)\n",
    "#warnings.simplefilter(action='ignore', category=DeprecationWarning)\n",
    "import tensorflow as tf\n",
    "#if type(tf.contrib) != type(tf): tf.contrib._warning = None\n",
    "tf.compat.v1.logging.set_verbosity(tf.compat.v1.logging.ERROR)\n",
    "\n",
    "#import Keras \n",
    "from tensorflow.keras.models import Sequential\n",
    "from tensorflow.keras.layers import Dense\n",
    "from tensorflow.keras.layers import Dropout\n",
    "from tensorflow.keras import regularizers\n",
    "from tensorflow.keras.optimizers import SGD, Adam\n",
    "from tensorflow.keras.callbacks import EarlyStopping\n",
    "\n",
    "np.random.seed(1337)  # for reproducibility"
   ]
  },
  {
   "cell_type": "markdown",
   "metadata": {},
   "source": [
    "## Exercise 1\n",
    "\n",
    "- documentation: https://keras.io/getting-started/sequential-model-guide/\n",
    "- Build (compile) a Keras Sequential model (call it *model*)\n",
    "  - 1 hidden layer  with 100 neurons, activation ReLU (put in the correct input_shape!)\n",
    "  - 1 ouput layer with activation sigmoid\n",
    "  - use Adam optimiser\n",
    "  - use binary_crossentropy loss\n",
    "  - use accuracy metrics "
   ]
  },
  {
   "cell_type": "code",
   "execution_count": 9,
   "metadata": {
    "execution": {
     "iopub.execute_input": "2024-11-22T11:48:09.700589Z",
     "iopub.status.busy": "2024-11-22T11:48:09.699828Z",
     "iopub.status.idle": "2024-11-22T11:48:10.500148Z",
     "shell.execute_reply": "2024-11-22T11:48:10.498855Z",
     "shell.execute_reply.started": "2024-11-22T11:48:09.700522Z"
    },
    "tags": []
   },
   "outputs": [],
   "source": [
    "# create the model\n",
    "import keras\n",
    "from keras import layers\n",
    "\n",
    "model = keras.Sequential(\n",
    "    [\n",
    "        layers.Dense(100, activation=\"relu\", name=\"layer\", input_shape=(28,)),\n",
    "        layers.Dense(1, activation=\"sigmoid\", name=\"output\")\n",
    "    ]\n",
    ")\n",
    "\n",
    "# compile the model\n",
    "model.compile(loss='binary_crossentropy', optimizer='adam', metrics='Accuracy')"
   ]
  },
  {
   "cell_type": "code",
   "execution_count": 10,
   "metadata": {
    "execution": {
     "iopub.execute_input": "2024-11-22T11:48:10.502116Z",
     "iopub.status.busy": "2024-11-22T11:48:10.501904Z",
     "iopub.status.idle": "2024-11-22T11:48:10.790862Z",
     "shell.execute_reply": "2024-11-22T11:48:10.789799Z",
     "shell.execute_reply.started": "2024-11-22T11:48:10.502094Z"
    },
    "tags": []
   },
   "outputs": [
    {
     "name": "stdout",
     "output_type": "stream",
     "text": [
      "Model: \"sequential\"\n",
      "_________________________________________________________________\n",
      " Layer (type)                Output Shape              Param #   \n",
      "=================================================================\n",
      " layer (Dense)               (None, 100)               2900      \n",
      "                                                                 \n",
      " output (Dense)              (None, 1)                 101       \n",
      "                                                                 \n",
      "=================================================================\n",
      "Total params: 3,001\n",
      "Trainable params: 3,001\n",
      "Non-trainable params: 0\n",
      "_________________________________________________________________\n"
     ]
    }
   ],
   "source": [
    "model.summary()"
   ]
  },
  {
   "cell_type": "code",
   "execution_count": 11,
   "metadata": {
    "execution": {
     "iopub.execute_input": "2024-11-22T11:48:10.793846Z",
     "iopub.status.busy": "2024-11-22T11:48:10.793182Z",
     "iopub.status.idle": "2024-11-22T11:48:11.045248Z",
     "shell.execute_reply": "2024-11-22T11:48:11.043999Z",
     "shell.execute_reply.started": "2024-11-22T11:48:10.793781Z"
    },
    "tags": []
   },
   "outputs": [],
   "source": [
    "# simple early stopping\n",
    "es = EarlyStopping(monitor='val_loss', mode='min', verbose=1, patience=10)"
   ]
  },
  {
   "cell_type": "code",
   "execution_count": 48,
   "metadata": {
    "execution": {
     "iopub.execute_input": "2024-11-22T16:18:57.018172Z",
     "iopub.status.busy": "2024-11-22T16:18:57.017259Z",
     "iopub.status.idle": "2024-11-22T16:19:16.734169Z",
     "shell.execute_reply": "2024-11-22T16:19:16.733313Z",
     "shell.execute_reply.started": "2024-11-22T16:18:57.018103Z"
    },
    "tags": []
   },
   "outputs": [
    {
     "name": "stdout",
     "output_type": "stream",
     "text": [
      "Epoch 1/10\n",
      "625/625 [==============================] - 2s 3ms/step - loss: 0.5891 - Accuracy: 0.6867 - val_loss: 0.5837 - val_Accuracy: 0.6927\n",
      "Epoch 2/10\n",
      "625/625 [==============================] - 2s 3ms/step - loss: 0.5866 - Accuracy: 0.6899 - val_loss: 0.5840 - val_Accuracy: 0.6880\n",
      "Epoch 3/10\n",
      "625/625 [==============================] - 2s 3ms/step - loss: 0.5847 - Accuracy: 0.6912 - val_loss: 0.5829 - val_Accuracy: 0.6875\n",
      "Epoch 4/10\n",
      "625/625 [==============================] - 2s 3ms/step - loss: 0.5839 - Accuracy: 0.6917 - val_loss: 0.5813 - val_Accuracy: 0.6959\n",
      "Epoch 5/10\n",
      "625/625 [==============================] - 2s 3ms/step - loss: 0.5813 - Accuracy: 0.6935 - val_loss: 0.5812 - val_Accuracy: 0.6939\n",
      "Epoch 6/10\n",
      "625/625 [==============================] - 2s 3ms/step - loss: 0.5802 - Accuracy: 0.6935 - val_loss: 0.5816 - val_Accuracy: 0.6942\n",
      "Epoch 7/10\n",
      "625/625 [==============================] - 2s 3ms/step - loss: 0.5788 - Accuracy: 0.6962 - val_loss: 0.5807 - val_Accuracy: 0.6950\n",
      "Epoch 8/10\n",
      "625/625 [==============================] - 2s 3ms/step - loss: 0.5770 - Accuracy: 0.6969 - val_loss: 0.5785 - val_Accuracy: 0.6970\n",
      "Epoch 9/10\n",
      "625/625 [==============================] - 2s 3ms/step - loss: 0.5756 - Accuracy: 0.6977 - val_loss: 0.5785 - val_Accuracy: 0.6969\n",
      "Epoch 10/10\n",
      "625/625 [==============================] - 2s 3ms/step - loss: 0.5745 - Accuracy: 0.6989 - val_loss: 0.5807 - val_Accuracy: 0.6950\n",
      "CPU times: user 49.2 s, sys: 19.8 s, total: 1min 8s\n",
      "Wall time: 19.5 s\n"
     ]
    }
   ],
   "source": [
    "# set batch size according to size of the input sample!!!\n",
    "# start training with reasonable numer of epoch\n",
    "\n",
    "%time history = model.fit(x_train, y_train, batch_size=128, epochs=10, validation_data=(x_test, y_test), callbacks=[es]) #, verbose=0)"
   ]
  },
  {
   "cell_type": "code",
   "execution_count": 13,
   "metadata": {
    "execution": {
     "iopub.execute_input": "2024-11-22T11:48:36.516292Z",
     "iopub.status.busy": "2024-11-22T11:48:36.515386Z",
     "iopub.status.idle": "2024-11-22T11:48:37.794506Z",
     "shell.execute_reply": "2024-11-22T11:48:37.793444Z",
     "shell.execute_reply.started": "2024-11-22T11:48:36.516227Z"
    },
    "tags": []
   },
   "outputs": [
    {
     "data": {
      "image/png": "[encoded data removed]",
      "text/plain": [
       "<Figure size 432x288 with 1 Axes>"
      ]
     },
     "metadata": {
      "needs_background": "light"
     },
     "output_type": "display_data"
    }
   ],
   "source": [
    "plotVsEpoch(history, 'loss')"
   ]
  },
  {
   "cell_type": "code",
   "execution_count": 14,
   "metadata": {
    "execution": {
     "iopub.execute_input": "2024-11-22T11:48:37.795801Z",
     "iopub.status.busy": "2024-11-22T11:48:37.795610Z",
     "iopub.status.idle": "2024-11-22T11:48:38.111974Z",
     "shell.execute_reply": "2024-11-22T11:48:38.110920Z",
     "shell.execute_reply.started": "2024-11-22T11:48:37.795778Z"
    },
    "tags": []
   },
   "outputs": [
    {
     "data": {
      "image/png": "[encoded data removed]",
      "text/plain": [
       "<Figure size 432x288 with 1 Axes>"
      ]
     },
     "metadata": {
      "needs_background": "light"
     },
     "output_type": "display_data"
    }
   ],
   "source": [
    "plotVsEpoch(history, 'Accuracy')"
   ]
  },
  {
   "cell_type": "code",
   "execution_count": 15,
   "metadata": {
    "execution": {
     "iopub.execute_input": "2024-11-22T11:48:38.114148Z",
     "iopub.status.busy": "2024-11-22T11:48:38.113926Z",
     "iopub.status.idle": "2024-11-22T11:48:41.098470Z",
     "shell.execute_reply": "2024-11-22T11:48:41.097491Z",
     "shell.execute_reply.started": "2024-11-22T11:48:38.114123Z"
    },
    "tags": []
   },
   "outputs": [
    {
     "data": {
      "image/png": "[encoded data removed]",
      "text/plain": [
       "<Figure size 432x288 with 1 Axes>"
      ]
     },
     "metadata": {
      "needs_background": "light"
     },
     "output_type": "display_data"
    }
   ],
   "source": [
    "# apply model to get predictions on test set\n",
    "y_pred = model.predict(x_test)\n",
    "\n",
    "#draw ROC\n",
    "drawROC2(y_test, y_pred)"
   ]
  },
  {
   "cell_type": "code",
   "execution_count": 17,
   "metadata": {
    "execution": {
     "iopub.execute_input": "2024-11-22T11:48:58.754605Z",
     "iopub.status.busy": "2024-11-22T11:48:58.753779Z",
     "iopub.status.idle": "2024-11-22T11:49:01.352625Z",
     "shell.execute_reply": "2024-11-22T11:49:01.351452Z",
     "shell.execute_reply.started": "2024-11-22T11:48:58.754538Z"
    },
    "tags": []
   },
   "outputs": [
    {
     "data": {
      "image/png": "[encoded data removed]",
      "text/plain": [
       "<Figure size 432x288 with 1 Axes>"
      ]
     },
     "metadata": {
      "needs_background": "light"
     },
     "output_type": "display_data"
    }
   ],
   "source": [
    "#plot signal vs background with prediction\n",
    "variable = 'm_bb'\n",
    "\n",
    "# Get the predicted probabilities for the positive class\n",
    "y_pred_prob = model.predict(x_test)  # Use .ravel() to flatten to a 1D array\n",
    "\n",
    "plotSignalvsBgWithPrediction2(x_test[variable], y_test, y_pred_prob, variable)"
   ]
  },
  {
   "cell_type": "markdown",
   "metadata": {},
   "source": [
    "# Hyperparameters optimisation\n",
    "\n",
    "- you can use [keras_tuner](https://keras.io/keras_tuner/) for hyperparameter optimisation"
   ]
  },
  {
   "cell_type": "code",
   "execution_count": null,
   "metadata": {
    "execution": {
     "iopub.status.busy": "2024-11-22T11:48:42.205476Z",
     "iopub.status.idle": "2024-11-22T11:48:42.205827Z",
     "shell.execute_reply": "2024-11-22T11:48:42.205643Z",
     "shell.execute_reply.started": "2024-11-22T11:48:42.205628Z"
    },
    "tags": []
   },
   "outputs": [],
   "source": [
    "# you may need to install it with\n",
    "# !pip install --user keras-tuner"
   ]
  },
  {
   "cell_type": "code",
   "execution_count": 40,
   "metadata": {
    "execution": {
     "iopub.execute_input": "2024-11-22T15:52:52.062115Z",
     "iopub.status.busy": "2024-11-22T15:52:52.061024Z",
     "iopub.status.idle": "2024-11-22T16:10:09.470227Z",
     "shell.execute_reply": "2024-11-22T16:10:09.469249Z",
     "shell.execute_reply.started": "2024-11-22T15:52:52.062039Z"
    },
    "tags": []
   },
   "outputs": [
    {
     "name": "stdout",
     "output_type": "stream",
     "text": [
      "Trial 5 Complete [00h 03m 34s]\n",
      "val_accuracy: 0.6438000003496805\n",
      "\n",
      "Best val_accuracy So Far: 0.6829499999682108\n",
      "Total elapsed time: 00h 17m 16s\n",
      "CPU times: user 42min 16s, sys: 16min 4s, total: 58min 20s\n",
      "Wall time: 17min 16s\n",
      "Best Hyperparameters:\n",
      "Units: 224\n"
     ]
    },
    {
     "ename": "KeyError",
     "evalue": "'dropout does not exist.'",
     "output_type": "error",
     "traceback": [
      "\u001b[0;31m---------------------------------------------------------------------------\u001b[0m",
      "\u001b[0;31mKeyError\u001b[0m                                  Traceback (most recent call last)",
      "Input \u001b[0;32mIn [40]\u001b[0m, in \u001b[0;36m<module>\u001b[0;34m\u001b[0m\n\u001b[1;32m     42\u001b[0m \u001b[38;5;28mprint\u001b[39m(\u001b[38;5;124m\"\u001b[39m\u001b[38;5;124mBest Hyperparameters:\u001b[39m\u001b[38;5;124m\"\u001b[39m)\n\u001b[1;32m     43\u001b[0m \u001b[38;5;28mprint\u001b[39m(\u001b[38;5;124mf\u001b[39m\u001b[38;5;124m\"\u001b[39m\u001b[38;5;124mUnits: \u001b[39m\u001b[38;5;132;01m{\u001b[39;00mbest_params[\u001b[38;5;124m'\u001b[39m\u001b[38;5;124munits\u001b[39m\u001b[38;5;124m'\u001b[39m]\u001b[38;5;132;01m}\u001b[39;00m\u001b[38;5;124m\"\u001b[39m)\n\u001b[0;32m---> 44\u001b[0m \u001b[38;5;28mprint\u001b[39m(\u001b[38;5;124mf\u001b[39m\u001b[38;5;124m\"\u001b[39m\u001b[38;5;124mDropout: \u001b[39m\u001b[38;5;132;01m{\u001b[39;00mbest_params[\u001b[38;5;124m'\u001b[39m\u001b[38;5;124mdropout\u001b[39m\u001b[38;5;124m'\u001b[39m]\u001b[38;5;132;01m}\u001b[39;00m\u001b[38;5;124m\"\u001b[39m)\n\u001b[1;32m     45\u001b[0m \u001b[38;5;28mprint\u001b[39m(\u001b[38;5;124mf\u001b[39m\u001b[38;5;124m\"\u001b[39m\u001b[38;5;124mLearning Rate: \u001b[39m\u001b[38;5;132;01m{\u001b[39;00mbest_params[\u001b[38;5;124m'\u001b[39m\u001b[38;5;124mlearning_rate\u001b[39m\u001b[38;5;124m'\u001b[39m]\u001b[38;5;132;01m}\u001b[39;00m\u001b[38;5;124m\"\u001b[39m)\n\u001b[1;32m     47\u001b[0m \u001b[38;5;66;03m# Evaluate the best model\u001b[39;00m\n",
      "File \u001b[0;32m~/.local/lib/python3.9/site-packages/keras_tuner/src/engine/hyperparameters/hyperparameters.py:249\u001b[0m, in \u001b[0;36mHyperParameters.__getitem__\u001b[0;34m(self, name)\u001b[0m\n\u001b[1;32m    248\u001b[0m \u001b[38;5;28;01mdef\u001b[39;00m \u001b[38;5;21m__getitem__\u001b[39m(\u001b[38;5;28mself\u001b[39m, name):\n\u001b[0;32m--> 249\u001b[0m     \u001b[38;5;28;01mreturn\u001b[39;00m \u001b[38;5;28;43mself\u001b[39;49m\u001b[38;5;241;43m.\u001b[39;49m\u001b[43mget\u001b[49m\u001b[43m(\u001b[49m\u001b[43mname\u001b[49m\u001b[43m)\u001b[49m\n",
      "File \u001b[0;32m~/.local/lib/python3.9/site-packages/keras_tuner/src/engine/hyperparameters/hyperparameters.py:246\u001b[0m, in \u001b[0;36mHyperParameters.get\u001b[0;34m(self, name)\u001b[0m\n\u001b[1;32m    244\u001b[0m     \u001b[38;5;28;01mraise\u001b[39;00m \u001b[38;5;167;01mValueError\u001b[39;00m(\u001b[38;5;124mf\u001b[39m\u001b[38;5;124m\"\u001b[39m\u001b[38;5;132;01m{\u001b[39;00mname\u001b[38;5;132;01m}\u001b[39;00m\u001b[38;5;124m is currently inactive.\u001b[39m\u001b[38;5;124m\"\u001b[39m)\n\u001b[1;32m    245\u001b[0m \u001b[38;5;28;01melse\u001b[39;00m:\n\u001b[0;32m--> 246\u001b[0m     \u001b[38;5;28;01mraise\u001b[39;00m \u001b[38;5;167;01mKeyError\u001b[39;00m(\u001b[38;5;124mf\u001b[39m\u001b[38;5;124m\"\u001b[39m\u001b[38;5;132;01m{\u001b[39;00mname\u001b[38;5;132;01m}\u001b[39;00m\u001b[38;5;124m does not exist.\u001b[39m\u001b[38;5;124m\"\u001b[39m)\n",
      "\u001b[0;31mKeyError\u001b[0m: 'dropout does not exist.'"
     ]
    }
   ],
   "source": [
    "import keras_tuner as kt\n",
    "\n",
    "# Define the model-building function\n",
    "def build_model(hp):\n",
    "    model = Sequential()\n",
    "\n",
    "    # Tune the number of units in the hidden layers\n",
    "    model.add(Dense(units=hp.Int('units', min_value=32, max_value=256, step=32), activation='relu', input_dim=x_train.shape[1]))\n",
    "    \n",
    "    # Add a dropout layer - not a good idea because it is not used for inference\n",
    "    # unwanted regularization effect that makes better accuracy on test than on train\n",
    "    #model.add(Dropout(hp.Float('dropout', min_value=0.2, max_value=0.5, step=0.1)))\n",
    "    \n",
    "    # Output layer\n",
    "    model.add(Dense(1, activation='sigmoid'))  # Binary classification\n",
    "\n",
    "    # Tune the learning rate for the optimizer\n",
    "    model.compile(optimizer=Adam(learning_rate=hp.Float('learning_rate', min_value=1e-5, \n",
    "                  max_value=1e-2, sampling='LOG')), \n",
    "                  loss='binary_crossentropy', \n",
    "                  metrics=['accuracy'])\n",
    "    \n",
    "    return model\n",
    "\n",
    "# Instantiate the tuner\n",
    "tuner = kt.RandomSearch(\n",
    "    build_model, \n",
    "    objective='val_accuracy',  # Optimization target\n",
    "    max_trials=5,               # Number of models to try\n",
    "    executions_per_trial=3,     # Number of executions for each trial\n",
    "    directory='keras',         # Directory to store the results\n",
    "    project_name='bigDataML'\n",
    ")\n",
    "\n",
    "# Run the hyperparameter search\n",
    "%time tuner.search(x_train, y_train, epochs=10, validation_data=(x_test, y_test))"
   ]
  },
  {
   "cell_type": "code",
   "execution_count": 41,
   "metadata": {
    "execution": {
     "iopub.execute_input": "2024-11-22T16:13:15.900874Z",
     "iopub.status.busy": "2024-11-22T16:13:15.900287Z",
     "iopub.status.idle": "2024-11-22T16:13:17.686161Z",
     "shell.execute_reply": "2024-11-22T16:13:17.685369Z",
     "shell.execute_reply.started": "2024-11-22T16:13:15.900809Z"
    }
   },
   "outputs": [
    {
     "name": "stdout",
     "output_type": "stream",
     "text": [
      "Best Hyperparameters:\n",
      "Units: 224\n",
      "Learning Rate: 0.00782272621799324\n",
      "625/625 [==============================] - 1s 1ms/step - loss: 0.5906 - accuracy: 0.6846\n",
      "Test Loss: 0.5906\n",
      "Test Accuracy: 0.6846\n"
     ]
    }
   ],
   "source": [
    "# Get the best model and parameters\n",
    "best_model = tuner.get_best_models(num_models=1)[0]\n",
    "best_params = tuner.get_best_hyperparameters(num_trials=1)[0]\n",
    "\n",
    "print(\"Best Hyperparameters:\")\n",
    "print(f\"Units: {best_params['units']}\")\n",
    "#print(f\"Dropout: {best_params['dropout']}\")\n",
    "print(f\"Learning Rate: {best_params['learning_rate']}\")\n",
    "\n",
    "# Evaluate the best model\n",
    "test_loss, test_acc = best_model.evaluate(x_test, y_test)\n",
    "\n",
    "print(f\"Test Loss: {test_loss:.4f}\")\n",
    "print(f\"Test Accuracy: {test_acc:.4f}\")"
   ]
  },
  {
   "cell_type": "code",
   "execution_count": 42,
   "metadata": {
    "execution": {
     "iopub.execute_input": "2024-11-22T16:13:40.564587Z",
     "iopub.status.busy": "2024-11-22T16:13:40.563925Z",
     "iopub.status.idle": "2024-11-22T16:13:41.823186Z",
     "shell.execute_reply": "2024-11-22T16:13:41.821582Z",
     "shell.execute_reply.started": "2024-11-22T16:13:40.564515Z"
    },
    "tags": []
   },
   "outputs": [
    {
     "data": {
      "image/png": "[encoded data removed]",
      "text/plain": [
       "<Figure size 432x288 with 1 Axes>"
      ]
     },
     "metadata": {
      "needs_background": "light"
     },
     "output_type": "display_data"
    }
   ],
   "source": [
    "# apply model to get predictions on test set\n",
    "y_pred = best_model.predict(x_test)\n",
    "\n",
    "#draw ROC\n",
    "drawROC2(y_test, y_pred)"
   ]
  },
  {
   "cell_type": "code",
   "execution_count": 46,
   "metadata": {
    "execution": {
     "iopub.execute_input": "2024-11-22T16:14:33.865176Z",
     "iopub.status.busy": "2024-11-22T16:14:33.864519Z",
     "iopub.status.idle": "2024-11-22T16:14:35.863670Z",
     "shell.execute_reply": "2024-11-22T16:14:35.861317Z",
     "shell.execute_reply.started": "2024-11-22T16:14:33.865108Z"
    },
    "tags": []
   },
   "outputs": [
    {
     "data": {
      "image/png": "[encoded data removed]",
      "text/plain": [
       "<Figure size 432x288 with 1 Axes>"
      ]
     },
     "metadata": {
      "needs_background": "light"
     },
     "output_type": "display_data"
    }
   ],
   "source": [
    "#plot signal vs background with prediction\n",
    "variable = 'm_bb'\n",
    "\n",
    "# Get the predicted probabilities for the positive class\n",
    "y_pred_prob = best_model.predict(x_test)  # Use .ravel() to flatten to a 1D array\n",
    "\n",
    "plotSignalvsBgWithPrediction2(x_test[variable], y_test, y_pred_prob, variable)"
   ]
  },
  {
   "cell_type": "markdown",
   "metadata": {},
   "source": [
    "## Exercise 2\n",
    "\n",
    "- play with the model parameters and see if you can improve the performances\n",
    "- try to increase the number of epochs for training, is the model improving?\n",
    "- how is training time affected by the number of parameters?\n",
    "- how is signal versus background separation affected (check different variables)"
   ]
  },
  {
   "cell_type": "code",
   "execution_count": 47,
   "metadata": {
    "execution": {
     "iopub.execute_input": "2024-11-22T16:17:06.509074Z",
     "iopub.status.busy": "2024-11-22T16:17:06.508059Z",
     "iopub.status.idle": "2024-11-22T16:17:29.843974Z",
     "shell.execute_reply": "2024-11-22T16:17:29.843035Z",
     "shell.execute_reply.started": "2024-11-22T16:17:06.508997Z"
    }
   },
   "outputs": [
    {
     "name": "stdout",
     "output_type": "stream",
     "text": [
      "Epoch 1/10\n",
      "625/625 [==============================] - 3s 4ms/step - loss: 0.5876 - accuracy: 0.6880 - val_loss: 0.5861 - val_accuracy: 0.6887\n",
      "Epoch 2/10\n",
      "625/625 [==============================] - 2s 4ms/step - loss: 0.5867 - accuracy: 0.6893 - val_loss: 0.5867 - val_accuracy: 0.6890\n",
      "Epoch 3/10\n",
      "625/625 [==============================] - 2s 3ms/step - loss: 0.5874 - accuracy: 0.6890 - val_loss: 0.5875 - val_accuracy: 0.6877\n",
      "Epoch 4/10\n",
      "625/625 [==============================] - 2s 4ms/step - loss: 0.5865 - accuracy: 0.6894 - val_loss: 0.5903 - val_accuracy: 0.6872\n",
      "Epoch 5/10\n",
      "625/625 [==============================] - 2s 4ms/step - loss: 0.5873 - accuracy: 0.6884 - val_loss: 0.5863 - val_accuracy: 0.6847\n",
      "Epoch 6/10\n",
      "625/625 [==============================] - 2s 4ms/step - loss: 0.5858 - accuracy: 0.6890 - val_loss: 0.5830 - val_accuracy: 0.6937\n",
      "Epoch 7/10\n",
      "625/625 [==============================] - 2s 4ms/step - loss: 0.5854 - accuracy: 0.6897 - val_loss: 0.5862 - val_accuracy: 0.6837\n",
      "Epoch 8/10\n",
      "625/625 [==============================] - 2s 3ms/step - loss: 0.5841 - accuracy: 0.6912 - val_loss: 0.5847 - val_accuracy: 0.6919\n",
      "Epoch 9/10\n",
      "625/625 [==============================] - 2s 4ms/step - loss: 0.5840 - accuracy: 0.6907 - val_loss: 0.5881 - val_accuracy: 0.6830\n",
      "Epoch 10/10\n",
      "625/625 [==============================] - 2s 4ms/step - loss: 0.5830 - accuracy: 0.6928 - val_loss: 0.5865 - val_accuracy: 0.6830\n",
      "CPU times: user 50.4 s, sys: 18 s, total: 1min 8s\n",
      "Wall time: 23 s\n"
     ]
    }
   ],
   "source": [
    "# set batch size according to size of the input sample!!!\n",
    "# start training with reasonable numer of epoch\n",
    "\n",
    "%time history = best_model.fit(x_train, y_train, batch_size=128, epochs=10, validation_data=(x_test, y_test), callbacks=[es]) #, verbose=0)"
   ]
  },
  {
   "cell_type": "code",
   "execution_count": 49,
   "metadata": {
    "execution": {
     "iopub.execute_input": "2024-11-22T16:19:45.291929Z",
     "iopub.status.busy": "2024-11-22T16:19:45.291263Z",
     "iopub.status.idle": "2024-11-22T16:20:30.518250Z",
     "shell.execute_reply": "2024-11-22T16:20:30.517227Z",
     "shell.execute_reply.started": "2024-11-22T16:19:45.291863Z"
    }
   },
   "outputs": [
    {
     "name": "stdout",
     "output_type": "stream",
     "text": [
      "Epoch 1/20\n",
      "625/625 [==============================] - 2s 4ms/step - loss: 0.5810 - accuracy: 0.6928 - val_loss: 0.5851 - val_accuracy: 0.6877\n",
      "Epoch 2/20\n",
      "625/625 [==============================] - 2s 3ms/step - loss: 0.5809 - accuracy: 0.6928 - val_loss: 0.5824 - val_accuracy: 0.6841\n",
      "Epoch 3/20\n",
      "625/625 [==============================] - 2s 4ms/step - loss: 0.5806 - accuracy: 0.6920 - val_loss: 0.5800 - val_accuracy: 0.6945\n",
      "Epoch 4/20\n",
      "625/625 [==============================] - 2s 4ms/step - loss: 0.5795 - accuracy: 0.6939 - val_loss: 0.5784 - val_accuracy: 0.6959\n",
      "Epoch 5/20\n",
      "625/625 [==============================] - 2s 4ms/step - loss: 0.5785 - accuracy: 0.6960 - val_loss: 0.5816 - val_accuracy: 0.6987\n",
      "Epoch 6/20\n",
      "625/625 [==============================] - 2s 4ms/step - loss: 0.5785 - accuracy: 0.6949 - val_loss: 0.5818 - val_accuracy: 0.6973\n",
      "Epoch 7/20\n",
      "625/625 [==============================] - 2s 3ms/step - loss: 0.5781 - accuracy: 0.6954 - val_loss: 0.5792 - val_accuracy: 0.6870\n",
      "Epoch 8/20\n",
      "625/625 [==============================] - 2s 3ms/step - loss: 0.5774 - accuracy: 0.6952 - val_loss: 0.5775 - val_accuracy: 0.6951\n",
      "Epoch 9/20\n",
      "625/625 [==============================] - 2s 4ms/step - loss: 0.5770 - accuracy: 0.6964 - val_loss: 0.5765 - val_accuracy: 0.6961\n",
      "Epoch 10/20\n",
      "625/625 [==============================] - 2s 4ms/step - loss: 0.5757 - accuracy: 0.6958 - val_loss: 0.5791 - val_accuracy: 0.6884\n",
      "Epoch 11/20\n",
      "625/625 [==============================] - 2s 4ms/step - loss: 0.5761 - accuracy: 0.6965 - val_loss: 0.5825 - val_accuracy: 0.6851\n",
      "Epoch 12/20\n",
      "625/625 [==============================] - 2s 3ms/step - loss: 0.5757 - accuracy: 0.6964 - val_loss: 0.5783 - val_accuracy: 0.6968\n",
      "Epoch 13/20\n",
      "625/625 [==============================] - 2s 4ms/step - loss: 0.5751 - accuracy: 0.6965 - val_loss: 0.5795 - val_accuracy: 0.7020\n",
      "Epoch 14/20\n",
      "625/625 [==============================] - 2s 4ms/step - loss: 0.5747 - accuracy: 0.6967 - val_loss: 0.5750 - val_accuracy: 0.6981\n",
      "Epoch 15/20\n",
      "625/625 [==============================] - 2s 3ms/step - loss: 0.5760 - accuracy: 0.6972 - val_loss: 0.5766 - val_accuracy: 0.6959\n",
      "Epoch 16/20\n",
      "625/625 [==============================] - 2s 4ms/step - loss: 0.5739 - accuracy: 0.6988 - val_loss: 0.5773 - val_accuracy: 0.6916\n",
      "Epoch 17/20\n",
      "625/625 [==============================] - 2s 3ms/step - loss: 0.5742 - accuracy: 0.6982 - val_loss: 0.5747 - val_accuracy: 0.7021\n",
      "Epoch 18/20\n",
      "625/625 [==============================] - 2s 4ms/step - loss: 0.5742 - accuracy: 0.6988 - val_loss: 0.5757 - val_accuracy: 0.7020\n",
      "Epoch 19/20\n",
      "625/625 [==============================] - 2s 4ms/step - loss: 0.5735 - accuracy: 0.6981 - val_loss: 0.5764 - val_accuracy: 0.7003\n",
      "Epoch 20/20\n",
      "625/625 [==============================] - 2s 4ms/step - loss: 0.5731 - accuracy: 0.6987 - val_loss: 0.5769 - val_accuracy: 0.6952\n",
      "CPU times: user 1min 39s, sys: 36.4 s, total: 2min 16s\n",
      "Wall time: 44.8 s\n"
     ]
    }
   ],
   "source": [
    "# set batch size according to size of the input sample!!!\n",
    "# start training with reasonable numer of epoch\n",
    "\n",
    "%time history = best_model.fit(x_train, y_train, batch_size=128, epochs=20, validation_data=(x_test, y_test), callbacks=[es]) #, verbose=0)"
   ]
  },
  {
   "cell_type": "code",
   "execution_count": 50,
   "metadata": {
    "execution": {
     "iopub.execute_input": "2024-11-22T16:21:02.301348Z",
     "iopub.status.busy": "2024-11-22T16:21:02.299839Z",
     "iopub.status.idle": "2024-11-22T16:21:02.665724Z",
     "shell.execute_reply": "2024-11-22T16:21:02.664200Z",
     "shell.execute_reply.started": "2024-11-22T16:21:02.301224Z"
    }
   },
   "outputs": [
    {
     "name": "stdout",
     "output_type": "stream",
     "text": [
      "Model: \"sequential\"\n",
      "_________________________________________________________________\n",
      " Layer (type)                Output Shape              Param #   \n",
      "=================================================================\n",
      " layer (Dense)               (None, 100)               2900      \n",
      "                                                                 \n",
      " output (Dense)              (None, 1)                 101       \n",
      "                                                                 \n",
      "=================================================================\n",
      "Total params: 3,001\n",
      "Trainable params: 3,001\n",
      "Non-trainable params: 0\n",
      "_________________________________________________________________\n"
     ]
    }
   ],
   "source": [
    "model.summary()\n",
    "#Total params: 3,001\n",
    "#Wall time: 19.5 s (10 epoche)"
   ]
  },
  {
   "cell_type": "code",
   "execution_count": 51,
   "metadata": {
    "execution": {
     "iopub.execute_input": "2024-11-22T16:21:15.761631Z",
     "iopub.status.busy": "2024-11-22T16:21:15.760847Z",
     "iopub.status.idle": "2024-11-22T16:21:16.156026Z",
     "shell.execute_reply": "2024-11-22T16:21:16.155185Z",
     "shell.execute_reply.started": "2024-11-22T16:21:15.761567Z"
    }
   },
   "outputs": [
    {
     "name": "stdout",
     "output_type": "stream",
     "text": [
      "Model: \"sequential\"\n",
      "_________________________________________________________________\n",
      " Layer (type)                Output Shape              Param #   \n",
      "=================================================================\n",
      " dense (Dense)               (None, 224)               6496      \n",
      "                                                                 \n",
      " dense_1 (Dense)             (None, 1)                 225       \n",
      "                                                                 \n",
      "=================================================================\n",
      "Total params: 6,721\n",
      "Trainable params: 6,721\n",
      "Non-trainable params: 0\n",
      "_________________________________________________________________\n"
     ]
    }
   ],
   "source": [
    "best_model.summary()\n",
    "#Total params: 6,721\n",
    "#Wall time: 23 s (10 epoche)\n",
    "#Wall time: 44.8 s (20 epoche)"
   ]
  },
  {
   "cell_type": "code",
   "execution_count": 60,
   "metadata": {
    "execution": {
     "iopub.execute_input": "2024-11-22T16:41:30.614615Z",
     "iopub.status.busy": "2024-11-22T16:41:30.613777Z",
     "iopub.status.idle": "2024-11-22T16:42:03.700589Z",
     "shell.execute_reply": "2024-11-22T16:42:03.699718Z",
     "shell.execute_reply.started": "2024-11-22T16:41:30.614549Z"
    },
    "tags": []
   },
   "outputs": [
    {
     "name": "stdout",
     "output_type": "stream",
     "text": [
      "Model: \"sequential_7\"\n",
      "_________________________________________________________________\n",
      " Layer (type)                Output Shape              Param #   \n",
      "=================================================================\n",
      " layer (Dense)               (None, 800)               23200     \n",
      "                                                                 \n",
      " output (Dense)              (None, 1)                 801       \n",
      "                                                                 \n",
      "=================================================================\n",
      "Total params: 24,001\n",
      "Trainable params: 24,001\n",
      "Non-trainable params: 0\n",
      "_________________________________________________________________\n",
      "None\n",
      "Epoch 1/10\n",
      "625/625 [==============================] - 4s 5ms/step - loss: 0.6485 - Accuracy: 0.6177 - val_loss: 0.6316 - val_Accuracy: 0.6433\n",
      "Epoch 2/10\n",
      "625/625 [==============================] - 3s 5ms/step - loss: 0.6282 - Accuracy: 0.6467 - val_loss: 0.6276 - val_Accuracy: 0.6488\n",
      "Epoch 3/10\n",
      "625/625 [==============================] - 3s 5ms/step - loss: 0.6142 - Accuracy: 0.6633 - val_loss: 0.6089 - val_Accuracy: 0.6646\n",
      "Epoch 4/10\n",
      "625/625 [==============================] - 3s 5ms/step - loss: 0.6043 - Accuracy: 0.6731 - val_loss: 0.6096 - val_Accuracy: 0.6723\n",
      "Epoch 5/10\n",
      "625/625 [==============================] - 3s 5ms/step - loss: 0.5963 - Accuracy: 0.6800 - val_loss: 0.5964 - val_Accuracy: 0.6765\n",
      "Epoch 6/10\n",
      "625/625 [==============================] - 3s 5ms/step - loss: 0.5927 - Accuracy: 0.6830 - val_loss: 0.5926 - val_Accuracy: 0.6841\n",
      "Epoch 7/10\n",
      "625/625 [==============================] - 3s 5ms/step - loss: 0.5873 - Accuracy: 0.6884 - val_loss: 0.5928 - val_Accuracy: 0.6859\n",
      "Epoch 8/10\n",
      "625/625 [==============================] - 3s 5ms/step - loss: 0.5846 - Accuracy: 0.6903 - val_loss: 0.5900 - val_Accuracy: 0.6898\n",
      "Epoch 9/10\n",
      "625/625 [==============================] - 3s 5ms/step - loss: 0.5807 - Accuracy: 0.6930 - val_loss: 0.5893 - val_Accuracy: 0.6884\n",
      "Epoch 10/10\n",
      "625/625 [==============================] - 3s 5ms/step - loss: 0.5763 - Accuracy: 0.6981 - val_loss: 0.5908 - val_Accuracy: 0.6865\n",
      "CPU times: user 1min 21s, sys: 29.4 s, total: 1min 50s\n",
      "Wall time: 32.7 s\n"
     ]
    }
   ],
   "source": [
    "# set batch size according to size of the input sample!!!\n",
    "# start training with reasonable numer of epoch\n",
    "model_t_study = keras.Sequential(\n",
    "    [\n",
    "        layers.Dense(800, activation=\"relu\", name=\"layer\", input_shape=(28,)),\n",
    "        layers.Dense(1, activation=\"sigmoid\", name=\"output\")\n",
    "    ]\n",
    ")\n",
    "\n",
    "# compile the model\n",
    "model_t_study.compile(loss='binary_crossentropy', optimizer='adam', metrics='Accuracy')\n",
    "\n",
    "print(model_t_study.summary())\n",
    "%time history = model_t_study.fit(x_train, y_train, batch_size=128, epochs=10, validation_data=(x_test, y_test), callbacks=[es]) #, verbose=0)"
   ]
  },
  {
   "cell_type": "code",
   "execution_count": null,
   "metadata": {},
   "outputs": [],
   "source": [
    "# layers.Dense di 100 --> Total params: 3,001 and Wall time: 19.7 s s (10 epoche)\n",
    "# layers.Dense di 200 --> Total params: 6,001 and Wall time: 21.4 s (10 epoche)\n",
    "# layers.Dense di 300 --> Total params: 7,001 and Wall time: 22.3 s (10 epoche)\n",
    "# layers.Dense di 600 --> Total params: 18,001 and Wall time: 29.2 s (10 epoche)\n",
    "# layers.Dense di 800 --> Total params: 24,001 and Wall time: 32.7 s (10 epoche)"
   ]
  },
  {
   "cell_type": "code",
   "execution_count": 62,
   "metadata": {
    "execution": {
     "iopub.execute_input": "2024-11-22T16:43:54.961324Z",
     "iopub.status.busy": "2024-11-22T16:43:54.960737Z",
     "iopub.status.idle": "2024-11-22T16:43:55.278822Z",
     "shell.execute_reply": "2024-11-22T16:43:55.277688Z",
     "shell.execute_reply.started": "2024-11-22T16:43:54.961261Z"
    },
    "tags": []
   },
   "outputs": [
    {
     "data": {
      "image/png": "[encoded data removed]",
      "text/plain": [
       "<Figure size 432x288 with 1 Axes>"
      ]
     },
     "metadata": {
      "needs_background": "light"
     },
     "output_type": "display_data"
    }
   ],
   "source": [
    "param = [3001, 6001, 7001, 18001, 24001]\n",
    "time = [19.7, 21.4, 22.3, 29.2, 32.7]\n",
    "\n",
    "plt.scatter(param, time)\n",
    "plt.show()"
   ]
  },
  {
   "cell_type": "code",
   "execution_count": 63,
   "metadata": {
    "execution": {
     "iopub.execute_input": "2024-11-22T16:44:34.211461Z",
     "iopub.status.busy": "2024-11-22T16:44:34.210579Z",
     "iopub.status.idle": "2024-11-22T16:44:36.665187Z",
     "shell.execute_reply": "2024-11-22T16:44:36.663130Z",
     "shell.execute_reply.started": "2024-11-22T16:44:34.211391Z"
    }
   },
   "outputs": [
    {
     "data": {
      "image/png": "[encoded data removed]",
      "text/plain": [
       "<Figure size 432x288 with 1 Axes>"
      ]
     },
     "metadata": {
      "needs_background": "light"
     },
     "output_type": "display_data"
    }
   ],
   "source": [
    "#plot signal vs background with prediction\n",
    "variable = 'm_bb'\n",
    "\n",
    "# Get the predicted probabilities for the positive class\n",
    "y_pred_prob = model_t_study.predict(x_test)  # Use .ravel() to flatten to a 1D array\n",
    "\n",
    "plotSignalvsBgWithPrediction2(x_test[variable], y_test, y_pred_prob, variable)"
   ]
  },
  {
   "cell_type": "code",
   "execution_count": null,
   "metadata": {},
   "outputs": [],
   "source": []
  }
 ],
 "metadata": {
  "kernelspec": {
   "display_name": "Python 3 (ipykernel)",
   "language": "python",
   "name": "python3"
  },
  "language_info": {
   "codemirror_mode": {
    "name": "ipython",
    "version": 3
   },
   "file_extension": ".py",
   "mimetype": "text/x-python",
   "name": "python",
   "nbconvert_exporter": "python",
   "pygments_lexer": "ipython3",
   "version": "3.9.7"
  },
  "sparkconnect": {
   "bundled_options": [],
   "list_of_options": [
    {
     "name": "spark.driver.maxResultSize",
     "value": "0"
    }
   ]
  }
 },
 "nbformat": 4,
 "nbformat_minor": 4
}
