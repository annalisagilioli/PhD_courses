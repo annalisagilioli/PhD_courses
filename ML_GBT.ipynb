{
 "cells": [
  {
   "cell_type": "markdown",
   "metadata": {},
   "source": [
    "# Hands-on Day 2\n",
    "\n",
    "## You'll learn\n",
    "\n",
    "### ML methods\n",
    "- Gradient Boosting Trees with pyspark.ml\n",
    "\n",
    "### ML techniques\n",
    "- hyperparameter optimisation\n",
    "- ROC curves"
   ]
  },
  {
   "cell_type": "code",
   "execution_count": 1,
   "metadata": {
    "execution": {
     "iopub.execute_input": "2024-11-20T15:19:46.367332Z",
     "iopub.status.busy": "2024-11-20T15:19:46.367109Z",
     "iopub.status.idle": "2024-11-20T15:19:47.729038Z",
     "shell.execute_reply": "2024-11-20T15:19:47.726502Z",
     "shell.execute_reply.started": "2024-11-20T15:19:46.367265Z"
    },
    "tags": []
   },
   "outputs": [],
   "source": [
    "#initial imports\n",
    "%reload_ext custom_magics\n",
    "%load_ext autoreload\n",
    "%autoreload 2\n",
    "\n",
    "# initial setup\n",
    "import pandas as pd\n",
    "import numpy as np\n",
    "import matplotlib.pyplot as plt\n",
    "%matplotlib inline\n",
    "\n",
    "# Check out these custom functions\n",
    "from custom_functions import *"
   ]
  },
  {
   "cell_type": "code",
   "execution_count": 45,
   "metadata": {
    "tags": []
   },
   "outputs": [
    {
     "data": {
      "text/html": [
       "\n",
       "        <div>\n",
       "            <p><b>SparkContext</b></p>\n",
       "\n",
       "            <p><a href=\"http://jupyter-annalisagilioli.jhub.svc.cluster.local:4040\">Spark UI</a></p>\n",
       "\n",
       "            <dl>\n",
       "              <dt>Version</dt>\n",
       "                <dd><code>v3.2.1</code></dd>\n",
       "              <dt>Master</dt>\n",
       "                <dd><code>k8s://https://192.168.2.39:6443</code></dd>\n",
       "              <dt>AppName</dt>\n",
       "                <dd><code>jupyter-annalisagilioli</code></dd>\n",
       "            </dl>\n",
       "        </div>\n",
       "        "
      ],
      "text/plain": [
       "<SparkContext master=k8s://https://192.168.2.39:6443 appName=jupyter-annalisagilioli>"
      ]
     },
     "execution_count": 45,
     "metadata": {},
     "output_type": "execute_result"
    }
   ],
   "source": [
    "num_workers=5\n",
    "spark=%sc $num_workers\n",
    "\n",
    "from pyspark.sql import SparkSession\n",
    "spark_session = SparkSession(spark)\n",
    "\n",
    "#check if spark is there\n",
    "spark"
   ]
  },
  {
   "cell_type": "markdown",
   "metadata": {},
   "source": [
    "# Data preprocessing"
   ]
  },
  {
   "cell_type": "code",
   "execution_count": 3,
   "metadata": {
    "execution": {
     "iopub.execute_input": "2024-11-20T15:19:59.026861Z",
     "iopub.status.busy": "2024-11-20T15:19:59.026086Z",
     "iopub.status.idle": "2024-11-20T15:20:10.634290Z",
     "shell.execute_reply": "2024-11-20T15:20:10.632432Z",
     "shell.execute_reply.started": "2024-11-20T15:19:59.026792Z"
    },
    "tags": []
   },
   "outputs": [
    {
     "name": "stdout",
     "output_type": "stream",
     "text": [
      "CPU times: user 3.36 ms, sys: 3.43 ms, total: 6.78 ms\n",
      "Wall time: 10.4 s\n",
      "There are 99999 events\n"
     ]
    }
   ],
   "source": [
    "# read input file\n",
    "inputFile = 'file:///data-corso/Higgs100k.csv'\n",
    "#inputFile = 'file:///data-corso/Higgs1M.csv'\n",
    "#inputFile = 'file:///data-corso/Higgs10M.csv'\n",
    "\n",
    "%time df = spark_session.read.format('csv').option('header', 'true').option('inferschema', 'true').load(inputFile)\n",
    "total_events = df.count()\n",
    "print('There are '+str(total_events)+' events')"
   ]
  },
  {
   "cell_type": "code",
   "execution_count": 4,
   "metadata": {
    "execution": {
     "iopub.execute_input": "2024-11-20T15:20:10.637726Z",
     "iopub.status.busy": "2024-11-20T15:20:10.636899Z",
     "iopub.status.idle": "2024-11-20T15:20:11.112556Z",
     "shell.execute_reply": "2024-11-20T15:20:11.111319Z",
     "shell.execute_reply.started": "2024-11-20T15:20:10.637654Z"
    },
    "tags": []
   },
   "outputs": [
    {
     "data": {
      "text/plain": [
       "Row(label=1.0, lepton_pT=0.869293212890625, lepton_eta=-0.6350818276405334, lepton_phi=0.22569026052951813, missing_energy_magnitude=0.327470064163208, missing_energy_phi=-0.6899932026863098, jet1_pt=0.7542022466659546, jet1_eta=-0.24857313930988312, jet1_phi=-1.0920639038085938, jet1_b-tag=0.0, jet2_pt=1.3749921321868896, jet2_eta=-0.6536741852760315, jet2_phi=0.9303491115570068, jet2_b-tag=1.1074360609054565, jet3_pt=1.138904333114624, jet3_eta=-1.5781983137130737, jet3_phi=-1.046985387802124, jet3_b-tag=0.0, jet4_pt=0.657929539680481, je4_eta=-0.010454569943249226, jet4_phi=-0.0457671694457531, jet4_b-tag=3.101961374282837, m_jj=1.353760004043579, m_jjj=0.9795631170272827, m_lv=0.978076159954071, m_jlv=0.9200048446655273, m_bb=0.7216574549674988, m_wbb=0.9887509346008301, m_wwbb=0.8766783475875854)"
      ]
     },
     "execution_count": 4,
     "metadata": {},
     "output_type": "execute_result"
    }
   ],
   "source": [
    "df.head()"
   ]
  },
  {
   "cell_type": "markdown",
   "metadata": {},
   "source": [
    "##  Exercise 1\n",
    "\n",
    "- split the dataframe *df* into two dataframes, called *train* and *test* containing respectively 80% and 20% of the events (randomly distributed between the two samples) "
   ]
  },
  {
   "cell_type": "code",
   "execution_count": 5,
   "metadata": {
    "execution": {
     "iopub.execute_input": "2024-11-20T15:20:11.114831Z",
     "iopub.status.busy": "2024-11-20T15:20:11.114335Z",
     "iopub.status.idle": "2024-11-20T15:20:13.537501Z",
     "shell.execute_reply": "2024-11-20T15:20:13.535753Z",
     "shell.execute_reply.started": "2024-11-20T15:20:11.114785Z"
    },
    "tags": []
   },
   "outputs": [
    {
     "name": "stdout",
     "output_type": "stream",
     "text": [
      "Splitted Dataframe\n",
      "Events for training 80053\n",
      "Events for validation 19946\n"
     ]
    }
   ],
   "source": [
    "#split the dataset for training and test\n",
    "weights = [0.8, 0.2]\n",
    "train, test = df.randomSplit(weights, seed=None)\n",
    " \n",
    "print(\"Splitted Dataframe\")\n",
    "print('Events for training {}'.format(train.count()))\n",
    "print('Events for validation {}'.format(test.count()))"
   ]
  },
  {
   "cell_type": "markdown",
   "metadata": {},
   "source": [
    "#### Create the input feature vector - remember, this was part of yesterday hands-on (bonus)\n",
    "\n",
    "- Libraries for ML tipically take as inputs data in a very specific format. Documentation on how to do data preprocessing in Spark: https://spark.apache.org/docs/latest/ml-features.html\n",
    "- Try to add to the dataframe *train* a new column, called 'features' which is a vector column with all the variables above except for 'label'\n",
    "   - features = [lepton_pT, lepton_eta, lepton_phi, ...]\n",
    "   - Hint: look at the VectorAssembler transformer\n",
    "- do the same for dataframe *test*"
   ]
  },
  {
   "cell_type": "code",
   "execution_count": 6,
   "metadata": {
    "execution": {
     "iopub.execute_input": "2024-11-20T15:20:13.540729Z",
     "iopub.status.busy": "2024-11-20T15:20:13.540210Z",
     "iopub.status.idle": "2024-11-20T15:20:13.641545Z",
     "shell.execute_reply": "2024-11-20T15:20:13.639826Z",
     "shell.execute_reply.started": "2024-11-20T15:20:13.540663Z"
    },
    "tags": []
   },
   "outputs": [],
   "source": [
    "feature = df.columns\n",
    "first_element = feature.pop(0)\n",
    "# feature"
   ]
  },
  {
   "cell_type": "code",
   "execution_count": 7,
   "metadata": {
    "execution": {
     "iopub.execute_input": "2024-11-20T15:20:13.644883Z",
     "iopub.status.busy": "2024-11-20T15:20:13.644162Z",
     "iopub.status.idle": "2024-11-20T15:20:13.824184Z",
     "shell.execute_reply": "2024-11-20T15:20:13.822506Z",
     "shell.execute_reply.started": "2024-11-20T15:20:13.644808Z"
    },
    "tags": []
   },
   "outputs": [],
   "source": [
    "assembler = VectorAssembler(\n",
    "    inputCols=feature,\n",
    "    outputCol=\"features\")"
   ]
  },
  {
   "cell_type": "code",
   "execution_count": 8,
   "metadata": {
    "execution": {
     "iopub.execute_input": "2024-11-20T15:20:13.827234Z",
     "iopub.status.busy": "2024-11-20T15:20:13.826689Z",
     "iopub.status.idle": "2024-11-20T15:20:14.792745Z",
     "shell.execute_reply": "2024-11-20T15:20:14.791238Z",
     "shell.execute_reply.started": "2024-11-20T15:20:13.827168Z"
    },
    "tags": []
   },
   "outputs": [
    {
     "data": {
      "text/plain": [
       "DataFrame[label: double, lepton_pT: double, lepton_eta: double, lepton_phi: double, missing_energy_magnitude: double, missing_energy_phi: double, jet1_pt: double, jet1_eta: double, jet1_phi: double, jet1_b-tag: double, jet2_pt: double, jet2_eta: double, jet2_phi: double, jet2_b-tag: double, jet3_pt: double, jet3_eta: double, jet3_phi: double, jet3_b-tag: double, jet4_pt: double, je4_eta: double, jet4_phi: double, jet4_b-tag: double, m_jj: double, m_jjj: double, m_lv: double, m_jlv: double, m_bb: double, m_wbb: double, m_wwbb: double, features: vector]"
      ]
     },
     "metadata": {},
     "output_type": "display_data"
    },
    {
     "data": {
      "text/plain": [
       "[Row(features=DenseVector([0.2758, -2.1077, 1.6889, 1.9085, 0.5887, 1.2632, 1.3635, -1.1625, 0.0, 0.5701, 0.6752, -0.7686, 0.0, 1.007, 1.5239, 1.5276, 0.0, 2.206, -0.4685, 0.2762, 3.102, 0.8865, 0.7056, 0.9947, 0.7695, 0.5959, 1.1519, 1.4402]))]"
      ]
     },
     "execution_count": 8,
     "metadata": {},
     "output_type": "execute_result"
    }
   ],
   "source": [
    "train = assembler.transform(train)\n",
    "#train.show(truncate=True)\n",
    "\n",
    "display(train)\n",
    "train.select('features').take(1)"
   ]
  },
  {
   "cell_type": "code",
   "execution_count": 9,
   "metadata": {
    "execution": {
     "iopub.execute_input": "2024-11-20T15:20:14.798157Z",
     "iopub.status.busy": "2024-11-20T15:20:14.797600Z",
     "iopub.status.idle": "2024-11-20T15:20:15.482430Z",
     "shell.execute_reply": "2024-11-20T15:20:15.480834Z",
     "shell.execute_reply.started": "2024-11-20T15:20:14.798113Z"
    }
   },
   "outputs": [
    {
     "data": {
      "text/plain": [
       "DataFrame[label: double, lepton_pT: double, lepton_eta: double, lepton_phi: double, missing_energy_magnitude: double, missing_energy_phi: double, jet1_pt: double, jet1_eta: double, jet1_phi: double, jet1_b-tag: double, jet2_pt: double, jet2_eta: double, jet2_phi: double, jet2_b-tag: double, jet3_pt: double, jet3_eta: double, jet3_phi: double, jet3_b-tag: double, jet4_pt: double, je4_eta: double, jet4_phi: double, jet4_b-tag: double, m_jj: double, m_jjj: double, m_lv: double, m_jlv: double, m_bb: double, m_wbb: double, m_wwbb: double, features: vector]"
      ]
     },
     "metadata": {},
     "output_type": "display_data"
    },
    {
     "data": {
      "text/plain": [
       "[Row(features=DenseVector([0.2778, 1.4531, -1.5111, 2.0992, -0.6316, 1.225, -0.1307, 1.1206, 2.1731, 0.9434, -0.9111, -1.2042, 0.0, 0.8651, -0.7635, 0.1907, 0.0, 0.6158, 0.1036, 1.6635, 3.102, 1.3197, 0.8587, 0.9874, 1.5045, 0.4468, 0.9412, 0.9698]))]"
      ]
     },
     "execution_count": 9,
     "metadata": {},
     "output_type": "execute_result"
    }
   ],
   "source": [
    "test = assembler.transform(test)\n",
    "#train.show(truncate=True)\n",
    "\n",
    "display(test)\n",
    "test.select('features').take(1)"
   ]
  },
  {
   "cell_type": "markdown",
   "metadata": {},
   "source": [
    "# ML models: GBT"
   ]
  },
  {
   "cell_type": "code",
   "execution_count": 10,
   "metadata": {
    "execution": {
     "iopub.execute_input": "2024-11-20T15:20:15.484410Z",
     "iopub.status.busy": "2024-11-20T15:20:15.484171Z",
     "iopub.status.idle": "2024-11-20T15:20:15.563635Z",
     "shell.execute_reply": "2024-11-20T15:20:15.562224Z",
     "shell.execute_reply.started": "2024-11-20T15:20:15.484380Z"
    },
    "tags": []
   },
   "outputs": [],
   "source": [
    "# ML model: GBT (Gradient Boosting Trees)\n",
    "# Documentation at https://spark.apache.org/docs/2.2.0/ml-classification-regression.html\n",
    "from pyspark.ml.classification import GBTClassifier\n",
    "\n",
    "# fast, about 1m to train\n",
    "gbt = GBTClassifier(labelCol='label', featuresCol='features', maxIter=50, maxDepth=10) "
   ]
  },
  {
   "cell_type": "code",
   "execution_count": 11,
   "metadata": {
    "execution": {
     "iopub.execute_input": "2024-11-20T15:20:15.566380Z",
     "iopub.status.busy": "2024-11-20T15:20:15.565855Z",
     "iopub.status.idle": "2024-11-20T15:26:00.141229Z",
     "shell.execute_reply": "2024-11-20T15:26:00.139921Z",
     "shell.execute_reply.started": "2024-11-20T15:20:15.566315Z"
    },
    "tags": []
   },
   "outputs": [
    {
     "name": "stdout",
     "output_type": "stream",
     "text": [
      "CPU times: user 69.1 ms, sys: 34.6 ms, total: 104 ms\n",
      "Wall time: 5min 44s\n"
     ]
    }
   ],
   "source": [
    "%%time\n",
    "gbt_model = gbt.fit(train)"
   ]
  },
  {
   "cell_type": "code",
   "execution_count": 12,
   "metadata": {
    "execution": {
     "iopub.execute_input": "2024-11-20T15:26:00.142893Z",
     "iopub.status.busy": "2024-11-20T15:26:00.142659Z",
     "iopub.status.idle": "2024-11-20T15:26:03.843657Z",
     "shell.execute_reply": "2024-11-20T15:26:03.841718Z",
     "shell.execute_reply.started": "2024-11-20T15:26:00.142863Z"
    },
    "tags": []
   },
   "outputs": [
    {
     "name": "stdout",
     "output_type": "stream",
     "text": [
      "Test set AUC = 0.7828826054682518\n"
     ]
    }
   ],
   "source": [
    "# compute AUC on the test set\n",
    "result = gbt_model.transform(test)\n",
    "\n",
    "from pyspark.ml.evaluation import BinaryClassificationEvaluator\n",
    "evaluator = BinaryClassificationEvaluator(labelCol='label', metricName=\"areaUnderROC\")\n",
    "print(\"Test set AUC = \" + str(evaluator.evaluate(result)))"
   ]
  },
  {
   "cell_type": "code",
   "execution_count": 13,
   "metadata": {
    "execution": {
     "iopub.execute_input": "2024-11-20T15:26:03.846616Z",
     "iopub.status.busy": "2024-11-20T15:26:03.846103Z",
     "iopub.status.idle": "2024-11-20T15:26:16.096439Z",
     "shell.execute_reply": "2024-11-20T15:26:16.094908Z",
     "shell.execute_reply.started": "2024-11-20T15:26:03.846551Z"
    },
    "tags": []
   },
   "outputs": [
    {
     "name": "stdout",
     "output_type": "stream",
     "text": [
      "AUC: 0.783\n",
      "+-----+----------+-----+\n",
      "|label|prediction|count|\n",
      "+-----+----------+-----+\n",
      "|  1.0|       1.0| 7793|\n",
      "|  0.0|       1.0| 2972|\n",
      "|  1.0|       0.0| 2783|\n",
      "|  0.0|       0.0| 6398|\n",
      "+-----+----------+-----+\n",
      "\n",
      "n precision: 0.724\n",
      "n recall: 0.737\n",
      "n accuracy: 0.711\n",
      "n F1 score: 0.730\n"
     ]
    }
   ],
   "source": [
    "#print metrics\n",
    "printMetrics(evaluator, result)"
   ]
  },
  {
   "cell_type": "code",
   "execution_count": 14,
   "metadata": {
    "execution": {
     "iopub.execute_input": "2024-11-20T15:26:16.099518Z",
     "iopub.status.busy": "2024-11-20T15:26:16.098815Z",
     "iopub.status.idle": "2024-11-20T15:26:17.455703Z",
     "shell.execute_reply": "2024-11-20T15:26:17.453988Z",
     "shell.execute_reply.started": "2024-11-20T15:26:16.099450Z"
    },
    "tags": []
   },
   "outputs": [
    {
     "data": {
      "text/plain": [
       "{Param(parent='GBTClassifier_ad1afcc0d83a', name='cacheNodeIds', doc='If false, the algorithm will pass trees to executors to match instances with nodes. If true, the algorithm will cache node IDs for each instance. Caching can speed up training of deeper trees. Users can set how often should the cache be checkpointed or disable it by setting checkpointInterval.'): False,\n",
       " Param(parent='GBTClassifier_ad1afcc0d83a', name='checkpointInterval', doc='set checkpoint interval (>= 1) or disable checkpoint (-1). E.g. 10 means that the cache will get checkpointed every 10 iterations. Note: this setting will be ignored if the checkpoint directory is not set in the SparkContext.'): 10,\n",
       " Param(parent='GBTClassifier_ad1afcc0d83a', name='featureSubsetStrategy', doc=\"The number of features to consider for splits at each tree node. Supported options: 'auto' (choose automatically for task: If numTrees == 1, set to 'all'. If numTrees > 1 (forest), set to 'sqrt' for classification and to 'onethird' for regression), 'all' (use all features), 'onethird' (use 1/3 of the features), 'sqrt' (use sqrt(number of features)), 'log2' (use log2(number of features)), 'n' (when n is in the range (0, 1.0], use n * number of features. When n is in the range (1, number of features), use n features). default = 'auto'\"): 'all',\n",
       " Param(parent='GBTClassifier_ad1afcc0d83a', name='featuresCol', doc='features column name.'): 'features',\n",
       " Param(parent='GBTClassifier_ad1afcc0d83a', name='impurity', doc='Criterion used for information gain calculation (case-insensitive). Supported options: variance'): 'variance',\n",
       " Param(parent='GBTClassifier_ad1afcc0d83a', name='labelCol', doc='label column name.'): 'label',\n",
       " Param(parent='GBTClassifier_ad1afcc0d83a', name='leafCol', doc='Leaf indices column name. Predicted leaf index of each instance in each tree by preorder.'): '',\n",
       " Param(parent='GBTClassifier_ad1afcc0d83a', name='lossType', doc='Loss function which GBT tries to minimize (case-insensitive). Supported options: logistic'): 'logistic',\n",
       " Param(parent='GBTClassifier_ad1afcc0d83a', name='maxBins', doc='Max number of bins for discretizing continuous features.  Must be >=2 and >= number of categories for any categorical feature.'): 32,\n",
       " Param(parent='GBTClassifier_ad1afcc0d83a', name='maxDepth', doc='Maximum depth of the tree. (>= 0) E.g., depth 0 means 1 leaf node; depth 1 means 1 internal node + 2 leaf nodes.'): 10,\n",
       " Param(parent='GBTClassifier_ad1afcc0d83a', name='maxIter', doc='max number of iterations (>= 0).'): 50,\n",
       " Param(parent='GBTClassifier_ad1afcc0d83a', name='maxMemoryInMB', doc='Maximum memory in MB allocated to histogram aggregation. If too small, then 1 node will be split per iteration, and its aggregates may exceed this size.'): 256,\n",
       " Param(parent='GBTClassifier_ad1afcc0d83a', name='minInfoGain', doc='Minimum information gain for a split to be considered at a tree node.'): 0.0,\n",
       " Param(parent='GBTClassifier_ad1afcc0d83a', name='minInstancesPerNode', doc='Minimum number of instances each child must have after split. If a split causes the left or right child to have fewer than minInstancesPerNode, the split will be discarded as invalid. Should be >= 1.'): 1,\n",
       " Param(parent='GBTClassifier_ad1afcc0d83a', name='minWeightFractionPerNode', doc='Minimum fraction of the weighted sample count that each child must have after split. If a split causes the fraction of the total weight in the left or right child to be less than minWeightFractionPerNode, the split will be discarded as invalid. Should be in interval [0.0, 0.5).'): 0.0,\n",
       " Param(parent='GBTClassifier_ad1afcc0d83a', name='predictionCol', doc='prediction column name.'): 'prediction',\n",
       " Param(parent='GBTClassifier_ad1afcc0d83a', name='probabilityCol', doc='Column name for predicted class conditional probabilities. Note: Not all models output well-calibrated probability estimates! These probabilities should be treated as confidences, not precise probabilities.'): 'probability',\n",
       " Param(parent='GBTClassifier_ad1afcc0d83a', name='rawPredictionCol', doc='raw prediction (a.k.a. confidence) column name.'): 'rawPrediction',\n",
       " Param(parent='GBTClassifier_ad1afcc0d83a', name='seed', doc='random seed.'): 5983558072350107841,\n",
       " Param(parent='GBTClassifier_ad1afcc0d83a', name='stepSize', doc='Step size (a.k.a. learning rate) in interval (0, 1] for shrinking the contribution of each estimator.'): 0.1,\n",
       " Param(parent='GBTClassifier_ad1afcc0d83a', name='subsamplingRate', doc='Fraction of the training data used for learning each decision tree, in range (0, 1].'): 1.0,\n",
       " Param(parent='GBTClassifier_ad1afcc0d83a', name='validationTol', doc='Threshold for stopping early when fit with validation is used. If the error rate on the validation input changes by less than the validationTol, then learning will stop early (before `maxIter`). This parameter is ignored when fit without validation is used.'): 0.01}"
      ]
     },
     "execution_count": 14,
     "metadata": {},
     "output_type": "execute_result"
    }
   ],
   "source": [
    "gbt_model.extractParamMap()"
   ]
  },
  {
   "cell_type": "code",
   "execution_count": 15,
   "metadata": {
    "execution": {
     "iopub.execute_input": "2024-11-20T15:26:17.457747Z",
     "iopub.status.busy": "2024-11-20T15:26:17.457435Z",
     "iopub.status.idle": "2024-11-20T15:26:28.364211Z",
     "shell.execute_reply": "2024-11-20T15:26:28.363009Z",
     "shell.execute_reply.started": "2024-11-20T15:26:17.457709Z"
    },
    "tags": []
   },
   "outputs": [
    {
     "data": {
      "image/png": "[encoded data removed]",
      "text/plain": [
       "<Figure size 432x288 with 1 Axes>"
      ]
     },
     "metadata": {
      "needs_background": "light"
     },
     "output_type": "display_data"
    }
   ],
   "source": [
    "#make ROC curve\n",
    "drawROC(result)"
   ]
  },
  {
   "cell_type": "code",
   "execution_count": 16,
   "metadata": {
    "execution": {
     "iopub.execute_input": "2024-11-20T15:26:28.365983Z",
     "iopub.status.busy": "2024-11-20T15:26:28.365726Z",
     "iopub.status.idle": "2024-11-20T15:26:28.806628Z",
     "shell.execute_reply": "2024-11-20T15:26:28.805839Z",
     "shell.execute_reply.started": "2024-11-20T15:26:28.365943Z"
    },
    "tags": []
   },
   "outputs": [
    {
     "data": {
      "image/png": "[encoded data removed]",
      "text/plain": [
       "<Figure size 576x720 with 1 Axes>"
      ]
     },
     "metadata": {
      "needs_background": "light"
     },
     "output_type": "display_data"
    }
   ],
   "source": [
    "#plot features vs importance\n",
    "drawFeatures(feature, gbt_model)"
   ]
  },
  {
   "cell_type": "code",
   "execution_count": 17,
   "metadata": {
    "execution": {
     "iopub.execute_input": "2024-11-20T15:26:28.807994Z",
     "iopub.status.busy": "2024-11-20T15:26:28.807789Z",
     "iopub.status.idle": "2024-11-20T15:26:52.056392Z",
     "shell.execute_reply": "2024-11-20T15:26:52.054774Z",
     "shell.execute_reply.started": "2024-11-20T15:26:28.807955Z"
    },
    "tags": []
   },
   "outputs": [
    {
     "data": {
      "image/png": "[encoded data removed]",
      "text/plain": [
       "<Figure size 432x288 with 1 Axes>"
      ]
     },
     "metadata": {
      "needs_background": "light"
     },
     "output_type": "display_data"
    }
   ],
   "source": [
    "#plot signal vs background with prediction\n",
    "plotSignalvsBgWithPrediction(test, result, 'm_bb')"
   ]
  },
  {
   "cell_type": "markdown",
   "metadata": {},
   "source": [
    "## Exercise 2\n",
    "\n",
    "- try to change the hyperparameters of the GBT model (maxIter=50, maxDepth=10), and check what changes in terms of performances, feature importance, signal versus background separation. Be careful of training time if you increase them too much!"
   ]
  },
  {
   "cell_type": "markdown",
   "metadata": {},
   "source": [
    "# Hyperparameter scan\n",
    "\n",
    "- documentation: https://spark.apache.org/docs/latest/ml-tuning.html"
   ]
  },
  {
   "cell_type": "code",
   "execution_count": 18,
   "metadata": {
    "execution": {
     "iopub.execute_input": "2024-11-20T15:26:52.059558Z",
     "iopub.status.busy": "2024-11-20T15:26:52.058939Z",
     "iopub.status.idle": "2024-11-20T15:26:53.609342Z",
     "shell.execute_reply": "2024-11-20T15:26:53.608181Z",
     "shell.execute_reply.started": "2024-11-20T15:26:52.059489Z"
    }
   },
   "outputs": [
    {
     "name": "stdout",
     "output_type": "stream",
     "text": [
      "We will use 7959 events for the grid search\n"
     ]
    }
   ],
   "source": [
    "#reduce number of events for training if needed\n",
    "subSample = train.sample(fraction=1.0/10, withReplacement=False).cache()\n",
    "print('We will use ' +str(subSample.count()) + ' events for the grid search')"
   ]
  },
  {
   "cell_type": "code",
   "execution_count": null,
   "metadata": {
    "execution": {
     "iopub.execute_input": "2024-11-20T15:35:44.116112Z",
     "iopub.status.busy": "2024-11-20T15:35:44.115056Z"
    },
    "tags": []
   },
   "outputs": [],
   "source": [
    "#Do hyperparameter tuning \n",
    "from pyspark.ml.tuning import ParamGridBuilder, CrossValidator, TrainValidationSplit\n",
    "from pyspark.ml.evaluation import BinaryClassificationEvaluator\n",
    "\n",
    "gbt = GBTClassifier(labelCol='label', featuresCol='features', maxIter=10, maxDepth=3)\n",
    "\n",
    "evaluator=BinaryClassificationEvaluator(metricName='areaUnderROC')\n",
    "\n",
    "#choose hyperparameter space\n",
    "paramGrid = ParamGridBuilder()\\\n",
    "  .addGrid(gbt.maxDepth, [1,5])\\\n",
    "  .addGrid(gbt.maxIter, [10,20])\\\n",
    "  .build()\n",
    "\n"
   ]
  },
  {
   "cell_type": "code",
   "execution_count": 35,
   "metadata": {
    "execution": {
     "iopub.execute_input": "2024-11-20T15:35:27.386867Z",
     "iopub.status.busy": "2024-11-20T15:35:27.386112Z",
     "iopub.status.idle": "2024-11-20T15:35:28.563496Z",
     "shell.execute_reply": "2024-11-20T15:35:28.561703Z",
     "shell.execute_reply.started": "2024-11-20T15:35:27.386796Z"
    },
    "tags": []
   },
   "outputs": [],
   "source": [
    "# Train Validation Split (takes 1-2 minutes)\n",
    "tvs = TrainValidationSplit(estimator=gbt,\n",
    "                           estimatorParamMaps=paramGrid,\n",
    "                           evaluator=evaluator,\n",
    "                           trainRatio=0.8)# 80% of the data will be used for training, 20% for validation"
   ]
  },
  {
   "cell_type": "markdown",
   "metadata": {},
   "source": [
    "**TIP:** after starting the following cell, close the Spark monitoring window or it will slow down your notebook display considerably."
   ]
  },
  {
   "cell_type": "code",
   "execution_count": 21,
   "metadata": {
    "execution": {
     "iopub.execute_input": "2024-11-20T15:26:55.307009Z",
     "iopub.status.busy": "2024-11-20T15:26:55.306570Z",
     "iopub.status.idle": "2024-11-20T15:28:22.417540Z",
     "shell.execute_reply": "2024-11-20T15:28:22.416733Z",
     "shell.execute_reply.started": "2024-11-20T15:26:55.306915Z"
    },
    "tags": []
   },
   "outputs": [
    {
     "name": "stdout",
     "output_type": "stream",
     "text": [
      "CPU times: user 281 ms, sys: 161 ms, total: 441 ms\n",
      "Wall time: 6min 57s\n"
     ]
    }
   ],
   "source": [
    "#take care, might take long time, \n",
    "%time bestModel = tvs.fit(subSample)"
   ]
  },
  {
   "cell_type": "code",
   "execution_count": 22,
   "metadata": {
    "execution": {
     "iopub.execute_input": "2024-11-20T15:28:22.419670Z",
     "iopub.status.busy": "2024-11-20T15:28:22.419250Z",
     "iopub.status.idle": "2024-11-20T15:28:23.095221Z",
     "shell.execute_reply": "2024-11-20T15:28:23.094228Z",
     "shell.execute_reply.started": "2024-11-20T15:28:22.419636Z"
    },
    "tags": []
   },
   "outputs": [
    {
     "name": "stdout",
     "output_type": "stream",
     "text": [
      "maxDepth = 5\n",
      "maxIter = 30\n"
     ]
    }
   ],
   "source": [
    "#It is possile to see the score obtained (in this case the AUC) for each set of parameters\n",
    "#zip(bestModel.avgMetrics, paramGrid)\n",
    "\n",
    "print('maxDepth = '+str(bestModel.bestModel._java_obj.getMaxDepth()))\n",
    "print('maxIter = '+str(bestModel.bestModel._java_obj.getMaxIter()))"
   ]
  },
  {
   "cell_type": "code",
   "execution_count": 23,
   "metadata": {
    "execution": {
     "iopub.execute_input": "2024-11-20T15:28:23.096952Z",
     "iopub.status.busy": "2024-11-20T15:28:23.096744Z",
     "iopub.status.idle": "2024-11-20T15:28:24.734905Z",
     "shell.execute_reply": "2024-11-20T15:28:24.732590Z",
     "shell.execute_reply.started": "2024-11-20T15:28:23.096926Z"
    },
    "tags": []
   },
   "outputs": [
    {
     "name": "stdout",
     "output_type": "stream",
     "text": [
      "Test set AUC = 0.7611390623662927\n"
     ]
    }
   ],
   "source": [
    "# compute accuracy on the test set\n",
    "result = bestModel.transform(test)\n",
    "\n",
    "evaluator = BinaryClassificationEvaluator(labelCol='label', metricName=\"areaUnderROC\")\n",
    "print(\"Test set AUC = \" + str(evaluator.evaluate(result)))"
   ]
  },
  {
   "cell_type": "code",
   "execution_count": 24,
   "metadata": {
    "execution": {
     "iopub.execute_input": "2024-11-20T15:28:24.738606Z",
     "iopub.status.busy": "2024-11-20T15:28:24.737832Z",
     "iopub.status.idle": "2024-11-20T15:28:26.353802Z",
     "shell.execute_reply": "2024-11-20T15:28:26.352871Z",
     "shell.execute_reply.started": "2024-11-20T15:28:24.738518Z"
    },
    "tags": []
   },
   "outputs": [
    {
     "data": {
      "image/png": "[encoded data removed]",
      "text/plain": [
       "<Figure size 432x288 with 1 Axes>"
      ]
     },
     "metadata": {
      "needs_background": "light"
     },
     "output_type": "display_data"
    }
   ],
   "source": [
    "#make ROC curve with best model\n",
    "drawROC(result)"
   ]
  },
  {
   "cell_type": "code",
   "execution_count": null,
   "metadata": {
    "execution": {
     "iopub.execute_input": "2024-11-20T15:28:26.357022Z",
     "iopub.status.busy": "2024-11-20T15:28:26.356479Z"
    },
    "tags": []
   },
   "outputs": [
    {
     "data": {
      "image/png": "[encoded data removed]",
      "text/plain": [
       "<Figure size 432x288 with 1 Axes>"
      ]
     },
     "metadata": {
      "needs_background": "light"
     },
     "output_type": "display_data"
    }
   ],
   "source": [
    "#plot signal vs background with prediction\n",
    "plotSignalvsBgWithPrediction(test, result, 'm_bb')"
   ]
  },
  {
   "cell_type": "markdown",
   "metadata": {
    "tags": []
   },
   "source": [
    "## Exercise 3\n",
    "\n",
    "- try implementing the cross validation method, and describe what changes (results, training time, performances, ...): do you get the same hyper-parameters?"
   ]
  },
  {
   "cell_type": "code",
   "execution_count": null,
   "metadata": {
    "execution": {
     "iopub.execute_input": "2024-11-20T15:28:33.093243Z",
     "iopub.status.busy": "2024-11-20T15:28:33.093025Z",
     "iopub.status.idle": "2024-11-20T15:28:33.385110Z",
     "shell.execute_reply": "2024-11-20T15:28:33.384308Z",
     "shell.execute_reply.started": "2024-11-20T15:28:33.093215Z"
    },
    "tags": []
   },
   "outputs": [],
   "source": [
    "from pyspark.ml.tuning import CrossValidator\n",
    "cv = CrossValidator(estimator=gbt, estimatorParamMaps=paramGrid, evaluator=evaluator, numFolds=5)"
   ]
  },
  {
   "cell_type": "code",
   "execution_count": null,
   "metadata": {
    "execution": {
     "iopub.execute_input": "2024-11-20T15:28:33.386513Z",
     "iopub.status.busy": "2024-11-20T15:28:33.386310Z",
     "iopub.status.idle": "2024-11-20T15:28:33.909239Z",
     "shell.execute_reply": "2024-11-20T15:28:33.907540Z",
     "shell.execute_reply.started": "2024-11-20T15:28:33.386489Z"
    }
   },
   "outputs": [],
   "source": [
    "#cvModel = cv.fit(train)\n",
    "#cvModel.getNumFolds()\n",
    "#cvModel.avgMetrics[0]"
   ]
  },
  {
   "cell_type": "code",
   "execution_count": 28,
   "metadata": {
    "execution": {
     "iopub.execute_input": "2024-11-20T15:28:33.911957Z",
     "iopub.status.busy": "2024-11-20T15:28:33.911444Z",
     "iopub.status.idle": "2024-11-20T15:33:31.399846Z",
     "shell.execute_reply": "2024-11-20T15:33:31.398988Z",
     "shell.execute_reply.started": "2024-11-20T15:28:33.911894Z"
    },
    "tags": []
   },
   "outputs": [
    {
     "name": "stdout",
     "output_type": "stream",
     "text": [
      "CPU times: user 1.06 s, sys: 487 ms, total: 1.54 s\n",
      "Wall time: 4min 57s\n"
     ]
    }
   ],
   "source": [
    "#take care, might take long time, \n",
    "%time bestcvModel = cv.fit(subSample)"
   ]
  },
  {
   "cell_type": "code",
   "execution_count": 29,
   "metadata": {
    "execution": {
     "iopub.execute_input": "2024-11-20T15:33:31.402738Z",
     "iopub.status.busy": "2024-11-20T15:33:31.401869Z",
     "iopub.status.idle": "2024-11-20T15:33:31.578471Z",
     "shell.execute_reply": "2024-11-20T15:33:31.577596Z",
     "shell.execute_reply.started": "2024-11-20T15:33:31.402663Z"
    }
   },
   "outputs": [
    {
     "name": "stdout",
     "output_type": "stream",
     "text": [
      "maxDepth = 5\n",
      "maxIter = 20\n"
     ]
    }
   ],
   "source": [
    "#It is possile to see the score obtained (in this case the AUC) for each set of parameters\n",
    "#zip(bestModel.avgMetrics, paramGrid)\n",
    "\n",
    "print('maxDepth = '+str(bestcvModel.bestModel._java_obj.getMaxDepth()))\n",
    "print('maxIter = '+str(bestcvModel.bestModel._java_obj.getMaxIter()))"
   ]
  },
  {
   "cell_type": "code",
   "execution_count": 30,
   "metadata": {
    "execution": {
     "iopub.execute_input": "2024-11-20T15:33:31.579680Z",
     "iopub.status.busy": "2024-11-20T15:33:31.579492Z",
     "iopub.status.idle": "2024-11-20T15:33:32.749743Z",
     "shell.execute_reply": "2024-11-20T15:33:32.748044Z",
     "shell.execute_reply.started": "2024-11-20T15:33:31.579657Z"
    }
   },
   "outputs": [
    {
     "name": "stdout",
     "output_type": "stream",
     "text": [
      "Test set AUC = 0.7568393359968485\n"
     ]
    }
   ],
   "source": [
    "# compute accuracy on the test set\n",
    "result = bestcvModel.transform(test)\n",
    "\n",
    "evaluator = BinaryClassificationEvaluator(labelCol='label', metricName=\"areaUnderROC\")\n",
    "print(\"Test set AUC = \" + str(evaluator.evaluate(result)))"
   ]
  },
  {
   "cell_type": "code",
   "execution_count": 31,
   "metadata": {
    "execution": {
     "iopub.execute_input": "2024-11-20T15:33:32.753737Z",
     "iopub.status.busy": "2024-11-20T15:33:32.752491Z",
     "iopub.status.idle": "2024-11-20T15:33:36.062942Z",
     "shell.execute_reply": "2024-11-20T15:33:36.062047Z",
     "shell.execute_reply.started": "2024-11-20T15:33:32.753661Z"
    }
   },
   "outputs": [
    {
     "data": {
      "image/png": "[encoded data removed]",
      "text/plain": [
       "<Figure size 432x288 with 1 Axes>"
      ]
     },
     "metadata": {
      "needs_background": "light"
     },
     "output_type": "display_data"
    }
   ],
   "source": [
    "#make ROC curve with best model\n",
    "drawROC(result)"
   ]
  },
  {
   "cell_type": "code",
   "execution_count": 32,
   "metadata": {
    "execution": {
     "iopub.execute_input": "2024-11-20T15:33:36.065307Z",
     "iopub.status.busy": "2024-11-20T15:33:36.065059Z",
     "iopub.status.idle": "2024-11-20T15:33:42.104730Z",
     "shell.execute_reply": "2024-11-20T15:33:42.102801Z",
     "shell.execute_reply.started": "2024-11-20T15:33:36.065281Z"
    }
   },
   "outputs": [
    {
     "data": {
      "image/png": "[encoded data removed]",
      "text/plain": [
       "<Figure size 432x288 with 1 Axes>"
      ]
     },
     "metadata": {
      "needs_background": "light"
     },
     "output_type": "display_data"
    }
   ],
   "source": [
    "#plot signal vs background with prediction\n",
    "plotSignalvsBgWithPrediction(test, result, 'm_bb')"
   ]
  },
  {
   "cell_type": "code",
   "execution_count": 47,
   "metadata": {
    "tags": []
   },
   "outputs": [],
   "source": [
    "#when you're done, stop spark, this will release the resources you're using\n",
    "spark.stop()"
   ]
  },
  {
   "cell_type": "code",
   "execution_count": null,
   "metadata": {},
   "outputs": [],
   "source": []
  }
 ],
 "metadata": {
  "kernelspec": {
   "display_name": "Python 3 (ipykernel)",
   "language": "python",
   "name": "python3"
  },
  "language_info": {
   "codemirror_mode": {
    "name": "ipython",
    "version": 3
   },
   "file_extension": ".py",
   "mimetype": "text/x-python",
   "name": "python",
   "nbconvert_exporter": "python",
   "pygments_lexer": "ipython3",
   "version": "3.9.7"
  },
  "sparkconnect": {
   "bundled_options": [],
   "list_of_options": []
  }
 },
 "nbformat": 4,
 "nbformat_minor": 4
}
