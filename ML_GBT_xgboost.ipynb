{
 "cells": [
  {
   "cell_type": "markdown",
   "metadata": {},
   "source": [
    "# Hands-on Day 4\n",
    "\n",
    "## You'll learn\n",
    "\n",
    "### ML methods\n",
    "\n",
    "- Gradient Boosting Trees with xgboost\n",
    "\n",
    "### ML techniques\n",
    "- hyperparameter optimisation\n",
    "- ROC curves"
   ]
  },
  {
   "cell_type": "markdown",
   "metadata": {
    "tags": []
   },
   "source": [
    "# Initial setup \n",
    "\n",
    "- read in parquet file\n",
    "- create x,y vectors from panda dataframe"
   ]
  },
  {
   "cell_type": "code",
   "execution_count": 96,
   "metadata": {
    "tags": []
   },
   "outputs": [
    {
     "name": "stdout",
     "output_type": "stream",
     "text": [
      "The autoreload extension is already loaded. To reload it, use:\n",
      "  %reload_ext autoreload\n"
     ]
    }
   ],
   "source": [
    "%reload_ext custom_functions\n",
    "%load_ext autoreload\n",
    "%autoreload 2"
   ]
  },
  {
   "cell_type": "code",
   "execution_count": 97,
   "metadata": {},
   "outputs": [
    {
     "data": {
      "text/html": [
       "\n",
       "        <div>\n",
       "            <p><b>SparkContext</b></p>\n",
       "\n",
       "            <p><a href=\"http://jupyter-annalisagilioli.jhub.svc.cluster.local:4040\">Spark UI</a></p>\n",
       "\n",
       "            <dl>\n",
       "              <dt>Version</dt>\n",
       "                <dd><code>v3.2.1</code></dd>\n",
       "              <dt>Master</dt>\n",
       "                <dd><code>k8s://https://192.168.2.39:6443</code></dd>\n",
       "              <dt>AppName</dt>\n",
       "                <dd><code>jupyter-annalisagilioli</code></dd>\n",
       "            </dl>\n",
       "        </div>\n",
       "        "
      ],
      "text/plain": [
       "<SparkContext master=k8s://https://192.168.2.39:6443 appName=jupyter-annalisagilioli>"
      ]
     },
     "execution_count": 97,
     "metadata": {},
     "output_type": "execute_result"
    }
   ],
   "source": [
    "# Check out these custom functions\n",
    "from custom_functions import *\n",
    "\n",
    "num_workers=5\n",
    "spark=%sc $num_workers\n",
    "\n",
    "from pyspark.sql import SparkSession\n",
    "spark_session = SparkSession(spark)\n",
    "\n",
    "#check if spark is there\n",
    "spark"
   ]
  },
  {
   "cell_type": "code",
   "execution_count": 98,
   "metadata": {},
   "outputs": [],
   "source": [
    "#spark.stop()"
   ]
  },
  {
   "cell_type": "code",
   "execution_count": 99,
   "metadata": {
    "tags": []
   },
   "outputs": [],
   "source": [
    "import pandas as pd\n",
    "import numpy as np\n",
    "import matplotlib.pyplot as plt\n",
    "%matplotlib inline\n",
    "\n",
    "# Check out these custom functions\n",
    "from custom_functions import *"
   ]
  },
  {
   "cell_type": "code",
   "execution_count": 100,
   "metadata": {
    "tags": []
   },
   "outputs": [
    {
     "name": "stdout",
     "output_type": "stream",
     "text": [
      "CPU times: user 233 ms, sys: 157 ms, total: 390 ms\n",
      "Wall time: 78 ms\n"
     ]
    }
   ],
   "source": [
    "inputFile = 'file:///home/jovyan/Higgs100k.parquet'\n",
    "#inputFile = 'file:///home/jovyan/Higgs1M.parquet'\n",
    "#inputFile = 'file:///home/jovyan/Higgs10M.parquet'\n",
    "\n",
    "%time df = pd.read_parquet(inputFile)"
   ]
  },
  {
   "cell_type": "code",
   "execution_count": 101,
   "metadata": {
    "tags": []
   },
   "outputs": [
    {
     "data": {
      "text/plain": [
       "99999"
      ]
     },
     "execution_count": 101,
     "metadata": {},
     "output_type": "execute_result"
    }
   ],
   "source": [
    "# The first column is the target variable\n",
    "y = df.iloc[:, 0] #df with label\n",
    "x = df.iloc[: , 1:] #df with all other variables\n",
    "\n",
    "len(x)"
   ]
  },
  {
   "cell_type": "code",
   "execution_count": 102,
   "metadata": {
    "tags": []
   },
   "outputs": [],
   "source": [
    "from sklearn.model_selection import train_test_split\n",
    "\n",
    "# Split the data into training and test sets (80% training, 20% testing)\n",
    "x_train, x_test, y_train, y_test = train_test_split(x, y, test_size=0.2, random_state=42)"
   ]
  },
  {
   "cell_type": "code",
   "execution_count": 103,
   "metadata": {
    "tags": []
   },
   "outputs": [
    {
     "name": "stdout",
     "output_type": "stream",
     "text": [
      "99999\n",
      "99999\n"
     ]
    }
   ],
   "source": [
    "#sanity check\n",
    "\n",
    "print(len(x_train)+len(x_test))\n",
    "print(len(y_train)+len(y_test))"
   ]
  },
  {
   "cell_type": "markdown",
   "metadata": {},
   "source": [
    "# ML model: GBT"
   ]
  },
  {
   "cell_type": "markdown",
   "metadata": {},
   "source": [
    "- xgboost uses the parameter n_jobs to spawn multi-core jobs on the SAME machine\n",
    "- do not abuse it or you'll eat up all resources (set it to 5 max)"
   ]
  },
  {
   "cell_type": "code",
   "execution_count": 104,
   "metadata": {
    "tags": []
   },
   "outputs": [],
   "source": [
    "# DO NOT Use all available cores NJOBS = -1 \n",
    "NJOBS = 40"
   ]
  },
  {
   "cell_type": "code",
   "execution_count": 105,
   "metadata": {
    "tags": []
   },
   "outputs": [],
   "source": [
    "# pip install xgboost"
   ]
  },
  {
   "cell_type": "code",
   "execution_count": 106,
   "metadata": {
    "tags": []
   },
   "outputs": [
    {
     "name": "stdout",
     "output_type": "stream",
     "text": [
      "CPU times: user 21.2 s, sys: 187 ms, total: 21.3 s\n",
      "Wall time: 562 ms\n"
     ]
    }
   ],
   "source": [
    "import xgboost as xgb\n",
    "\n",
    "# Define the XGBoost classifier with multi-core support\n",
    "gbt = xgb.XGBClassifier(\n",
    "    n_estimators=100,      # Number of trees (can be adjusted)\n",
    "    max_depth=6,           # Maximum depth of each tree (can be tuned)\n",
    "    learning_rate=0.1,     # Learning rate (can be tuned)\n",
    "    n_jobs=NJOBS,             # DO NOT Use all available cores\n",
    "    verbosity=1            # Set verbosity level to monitor training progress\n",
    ")\n",
    "\n",
    "# Train the model\n",
    "%time gbt.fit(x_train, y_train)\n",
    "\n",
    "# Make predictions on the test set\n",
    "y_pred = gbt.predict(x_test)"
   ]
  },
  {
   "cell_type": "code",
   "execution_count": 107,
   "metadata": {
    "tags": []
   },
   "outputs": [
    {
     "name": "stdout",
     "output_type": "stream",
     "text": [
      "Accuracy: 0.7294\n",
      "Precision: 0.7437\n",
      "Recall: 0.7498\n",
      "F1-Score: 0.7467\n"
     ]
    }
   ],
   "source": [
    "# Evaluate the model\n",
    "from sklearn.metrics import accuracy_score, precision_score, recall_score, f1_score\n",
    "\n",
    "accuracy = accuracy_score(y_test, y_pred)\n",
    "precision = precision_score(y_test, y_pred, average='binary')  # For binary classification\n",
    "recall = recall_score(y_test, y_pred, average='binary')\n",
    "f1 = f1_score(y_test, y_pred, average='binary')\n",
    "\n",
    "print(f\"Accuracy: {accuracy:.4f}\")\n",
    "print(f\"Precision: {precision:.4f}\")\n",
    "print(f\"Recall: {recall:.4f}\")\n",
    "print(f\"F1-Score: {f1:.4f}\")"
   ]
  },
  {
   "cell_type": "code",
   "execution_count": 108,
   "metadata": {
    "tags": []
   },
   "outputs": [
    {
     "data": {
      "image/png": "[encoded data removed]",
      "text/plain": [
       "<Figure size 432x288 with 1 Axes>"
      ]
     },
     "metadata": {
      "needs_background": "light"
     },
     "output_type": "display_data"
    }
   ],
   "source": [
    "# Get predicted probabilities for the positive class\n",
    "y_scores = gbt.predict_proba(x_test)[:, 1]\n",
    "\n",
    "#make ROC curve\n",
    "drawROC2(y_test, y_scores)"
   ]
  },
  {
   "cell_type": "code",
   "execution_count": 109,
   "metadata": {
    "tags": []
   },
   "outputs": [
    {
     "data": {
      "image/png": "[encoded data removed]",
      "text/plain": [
       "<Figure size 432x288 with 1 Axes>"
      ]
     },
     "metadata": {
      "needs_background": "light"
     },
     "output_type": "display_data"
    }
   ],
   "source": [
    "def plotSignalvsBgWithPrediction2(x_test, y_test, y_pred, variable):\n",
    "    \n",
    "    def isSignal(x, y):\n",
    "        if (y>=0.5):\n",
    "            return x\n",
    "        else: \n",
    "            return -1.\n",
    "    \n",
    "    def isBackground(x, y):\n",
    "        if (y<0.5):\n",
    "            return x\n",
    "        else: \n",
    "            return -1.\n",
    "    \n",
    "    isSignalNP = np.vectorize(isSignal)\n",
    "    isBackgroundNP = np.vectorize(isBackground)\n",
    "\n",
    "    x_signal = isSignalNP(x_test, y_test)\n",
    "    x_background = isBackgroundNP(x_test, y_test)\n",
    "    x_signal_pred = isSignalNP(x_test, y_pred)\n",
    "    x_background_pred = isBackgroundNP(x_test, y_pred)\n",
    "\n",
    "    f, ax = plt.subplots()\n",
    "    plt.hist(x_signal, bins = 100, range=[0, 3.5], alpha=0.5, label='signal') \n",
    "    plt.hist(x_background, bins = 100, range=[0, 3.5], alpha=0.5, label='background') \n",
    "    plt.hist(x_signal_pred, bins = 100, range=[0, 3.5], label='predicted signal', histtype='step',\n",
    "        linestyle='--', color='green', linewidth=2) \n",
    "    plt.hist(x_background_pred, bins = 100, range=[0, 3.5], label='predicted background', histtype='step',\n",
    "        linestyle='--', color='red', linewidth=2) \n",
    "    \n",
    "    plt.title(\"histogram\") \n",
    "    ax.set_xlabel(variable)\n",
    "    ax.set_ylabel('counts')\n",
    "    ax.legend()\n",
    "    ax.set_title(\"Distribution of \"+variable)\n",
    "    plt.show()\n",
    "    f.savefig(\"SignalvsBackgroundPred.pdf\", bbox_inches='tight')\n",
    "\n",
    "    return\n",
    "#plot signal vs background with prediction\n",
    "variable = 'm_bb'\n",
    "plotSignalvsBgWithPrediction2(x_test.loc[:, variable], y_test, y_pred, 'm_bb')"
   ]
  },
  {
   "cell_type": "markdown",
   "metadata": {},
   "source": [
    "# Hyperparameter scan"
   ]
  },
  {
   "cell_type": "code",
   "execution_count": 110,
   "metadata": {
    "tags": []
   },
   "outputs": [
    {
     "name": "stdout",
     "output_type": "stream",
     "text": [
      "objective: binary:logistic\n",
      "base_score: None\n",
      "booster: None\n",
      "callbacks: None\n",
      "colsample_bylevel: None\n",
      "colsample_bynode: None\n",
      "colsample_bytree: None\n",
      "device: None\n",
      "early_stopping_rounds: None\n",
      "enable_categorical: False\n",
      "eval_metric: None\n",
      "feature_types: None\n",
      "gamma: None\n",
      "grow_policy: None\n",
      "importance_type: None\n",
      "interaction_constraints: None\n",
      "learning_rate: 0.1\n",
      "max_bin: None\n",
      "max_cat_threshold: None\n",
      "max_cat_to_onehot: None\n",
      "max_delta_step: None\n",
      "max_depth: 6\n",
      "max_leaves: None\n",
      "min_child_weight: None\n",
      "missing: nan\n",
      "monotone_constraints: None\n",
      "multi_strategy: None\n",
      "n_estimators: 100\n",
      "n_jobs: 40\n",
      "num_parallel_tree: None\n",
      "random_state: None\n",
      "reg_alpha: None\n",
      "reg_lambda: None\n",
      "sampling_method: None\n",
      "scale_pos_weight: None\n",
      "subsample: None\n",
      "tree_method: None\n",
      "validate_parameters: None\n",
      "verbosity: 1\n"
     ]
    }
   ],
   "source": [
    "# Get the default hyperparameters\n",
    "default_params = gbt.get_params()\n",
    "\n",
    "# Print the default hyperparameters\n",
    "for param, value in default_params.items():\n",
    "    print(f\"{param}: {value}\")"
   ]
  },
  {
   "cell_type": "markdown",
   "metadata": {},
   "source": [
    "## Exercise 1\n",
    "\n",
    "- do hyperparameter optimisation using Randomized Grid search\n",
    "- select a reasonable number and range of hyperparameters\n",
    "- DO NOT USE all possible cores (check sklearn doc)\n",
    "- while the code runs, check with top that there are indeed several python processes running\n",
    "- check metrics (accuracy, ROC curve, signal vs background, feature ranking)"
   ]
  },
  {
   "cell_type": "code",
   "execution_count": 118,
   "metadata": {},
   "outputs": [
    {
     "name": "stdout",
     "output_type": "stream",
     "text": [
      "Fitting 3 folds for each of 100 candidates, totalling 300 fits\n",
      "Migliori parametri: {'subsample': 0.9, 'n_estimators': 150, 'min_child_weight': 3, 'max_depth': 7, 'learning_rate': 0.1, 'colsample_bytree': 0.9}\n",
      "Migliore score: 0.7238465081513038\n"
     ]
    }
   ],
   "source": [
    "from sklearn.model_selection import RandomizedSearchCV\n",
    "from xgboost import XGBClassifier\n",
    "import numpy as np\n",
    "\n",
    "# Creazione del modello\n",
    "xgb = XGBClassifier()\n",
    "\n",
    "# Definizione della distribuzione dei parametri da testare\n",
    "param_dist = {\n",
    "    'n_estimators': np.arange(50, 200, 50),\n",
    "    'learning_rate': [0.01, 0.1, 0.2],\n",
    "    'max_depth': np.arange(3, 10, 2),\n",
    "    'min_child_weight': np.arange(1, 6, 1),\n",
    "    'subsample': [0.8, 0.9, 1],\n",
    "    'colsample_bytree': [0.8, 0.9, 1],\n",
    "}\n",
    "\n",
    "# Ricerca casuale con cross-validation\n",
    "random_search = RandomizedSearchCV(estimator=xgb, param_distributions=param_dist, n_iter=100, cv=3, scoring='accuracy', n_jobs=-1, verbose=1)\n",
    "random_search.fit(x_train, y_train)\n",
    "\n",
    "# Visualizzazione dei risultati migliori\n",
    "print(\"Migliori parametri:\", random_search.best_params_)\n",
    "print(\"Migliore score:\", random_search.best_score_)\n"
   ]
  },
  {
   "cell_type": "markdown",
   "metadata": {
    "execution": {
     "iopub.execute_input": "2024-11-14T17:20:36.887847Z",
     "iopub.status.busy": "2024-11-14T17:20:36.887388Z",
     "iopub.status.idle": "2024-11-14T17:20:36.944248Z",
     "shell.execute_reply": "2024-11-14T17:20:36.942526Z",
     "shell.execute_reply.started": "2024-11-14T17:20:36.887813Z"
    }
   },
   "source": [
    "## Exercise 2\n",
    "\n",
    "- Run the best model on full dataset"
   ]
  },
  {
   "cell_type": "code",
   "execution_count": 126,
   "metadata": {},
   "outputs": [
    {
     "name": "stdout",
     "output_type": "stream",
     "text": [
      "CPU times: user 1min 46s, sys: 79.6 ms, total: 1min 46s\n",
      "Wall time: 2.34 s\n"
     ]
    }
   ],
   "source": [
    "import xgboost as xgb\n",
    "gbt = xgb.XGBClassifier(\n",
    "    n_estimators=150,      # Number of trees (can be adjusted)\n",
    "    max_depth=7,           # Maximum depth of each tree (can be tuned)\n",
    "    learning_rate=0.1,     # Learning rate (can be tuned)\n",
    "    min_child_weight=3,            # DO NOT Use all available cores\n",
    "    verbosity=1            # Set verbosity level to monitor training progress\n",
    ")\n",
    "\n",
    "# Train the model\n",
    "%time gbt.fit(x_train, y_train)\n",
    "\n",
    "# Make predictions on the test set\n",
    "y_pred = gbt.predict(x_test)"
   ]
  },
  {
   "cell_type": "code",
   "execution_count": 127,
   "metadata": {},
   "outputs": [
    {
     "name": "stdout",
     "output_type": "stream",
     "text": [
      "Accuracy: 0.7318\n",
      "Precision: 0.7450\n",
      "Recall: 0.7540\n",
      "F1-Score: 0.7495\n"
     ]
    }
   ],
   "source": [
    "# Evaluate the model\n",
    "from sklearn.metrics import accuracy_score, precision_score, recall_score, f1_score\n",
    "\n",
    "accuracy = accuracy_score(y_test, y_pred)\n",
    "precision = precision_score(y_test, y_pred, average='binary')  # For binary classification\n",
    "recall = recall_score(y_test, y_pred, average='binary')\n",
    "f1 = f1_score(y_test, y_pred, average='binary')\n",
    "\n",
    "print(f\"Accuracy: {accuracy:.4f}\")\n",
    "print(f\"Precision: {precision:.4f}\")\n",
    "print(f\"Recall: {recall:.4f}\")\n",
    "print(f\"F1-Score: {f1:.4f}\")"
   ]
  },
  {
   "cell_type": "code",
   "execution_count": 128,
   "metadata": {},
   "outputs": [
    {
     "data": {
      "image/png": "[encoded data removed]",
      "text/plain": [
       "<Figure size 432x288 with 1 Axes>"
      ]
     },
     "metadata": {
      "needs_background": "light"
     },
     "output_type": "display_data"
    }
   ],
   "source": [
    "# Get predicted probabilities for the positive class\n",
    "y_scores = gbt.predict_proba(x_test)[:, 1]\n",
    "\n",
    "#make ROC curve\n",
    "drawROC2(y_test, y_scores)"
   ]
  },
  {
   "cell_type": "code",
   "execution_count": 129,
   "metadata": {},
   "outputs": [
    {
     "data": {
      "image/png": "[encoded data removed]",
      "text/plain": [
       "<Figure size 432x288 with 1 Axes>"
      ]
     },
     "metadata": {
      "needs_background": "light"
     },
     "output_type": "display_data"
    }
   ],
   "source": [
    "def plotSignalvsBgWithPrediction2(x_test, y_test, y_pred, variable):\n",
    "    \n",
    "    def isSignal(x, y):\n",
    "        if (y>=0.5):\n",
    "            return x\n",
    "        else: \n",
    "            return -1.\n",
    "    \n",
    "    def isBackground(x, y):\n",
    "        if (y<0.5):\n",
    "            return x\n",
    "        else: \n",
    "            return -1.\n",
    "    \n",
    "    isSignalNP = np.vectorize(isSignal)\n",
    "    isBackgroundNP = np.vectorize(isBackground)\n",
    "\n",
    "    x_signal = isSignalNP(x_test, y_test)\n",
    "    x_background = isBackgroundNP(x_test, y_test)\n",
    "    x_signal_pred = isSignalNP(x_test, y_pred)\n",
    "    x_background_pred = isBackgroundNP(x_test, y_pred)\n",
    "\n",
    "    f, ax = plt.subplots()\n",
    "    plt.hist(x_signal, bins = 100, range=[0, 3.5], alpha=0.5, label='signal') \n",
    "    plt.hist(x_background, bins = 100, range=[0, 3.5], alpha=0.5, label='background') \n",
    "    plt.hist(x_signal_pred, bins = 100, range=[0, 3.5], label='predicted signal', histtype='step',\n",
    "        linestyle='--', color='green', linewidth=2) \n",
    "    plt.hist(x_background_pred, bins = 100, range=[0, 3.5], label='predicted background', histtype='step',\n",
    "        linestyle='--', color='red', linewidth=2) \n",
    "    \n",
    "    plt.title(\"histogram\") \n",
    "    ax.set_xlabel(variable)\n",
    "    ax.set_ylabel('counts')\n",
    "    ax.legend()\n",
    "    ax.set_title(\"Distribution of \"+variable)\n",
    "    plt.show()\n",
    "    f.savefig(\"SignalvsBackgroundPred.pdf\", bbox_inches='tight')\n",
    "\n",
    "    return\n",
    "#plot signal vs background with prediction\n",
    "variable = 'm_bb'\n",
    "plotSignalvsBgWithPrediction2(x_test.loc[:, variable], y_test, y_pred, 'm_bb')"
   ]
  },
  {
   "cell_type": "code",
   "execution_count": 130,
   "metadata": {},
   "outputs": [],
   "source": [
    "#Once done, stop spark\n",
    "spark.stop()"
   ]
  },
  {
   "cell_type": "code",
   "execution_count": null,
   "metadata": {},
   "outputs": [],
   "source": []
  }
 ],
 "metadata": {
  "kernelspec": {
   "display_name": "Python 3 (ipykernel)",
   "language": "python",
   "name": "python3"
  },
  "language_info": {
   "codemirror_mode": {
    "name": "ipython",
    "version": 3
   },
   "file_extension": ".py",
   "mimetype": "text/x-python",
   "name": "python",
   "nbconvert_exporter": "python",
   "pygments_lexer": "ipython3",
   "version": "3.9.7"
  },
  "sparkconnect": {
   "bundled_options": [],
   "list_of_options": []
  }
 },
 "nbformat": 4,
 "nbformat_minor": 4
}
