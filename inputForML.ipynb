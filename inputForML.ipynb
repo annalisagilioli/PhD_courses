{
 "cells": [
  {
   "cell_type": "markdown",
   "metadata": {},
   "source": [
    "# Hands-on Day 1\n",
    "\n",
    "## You'll learn\n",
    "\n",
    "- familiarize with jupyter notebooks, numpy and pandas\n",
    "\n",
    "### Input data\n",
    "- efficient data format: convert CSV to Parquet\n",
    "- create input vector with features for MLLib. Format of the input depends on chosen ML library\n",
    "\n",
    "### Visualization\n",
    "- explore dataset, plot features\n",
    "- correlation matrix\n"
   ]
  },
  {
   "cell_type": "markdown",
   "metadata": {},
   "source": [
    "# Dataset description\n",
    "\n",
    "The dataset used in this example is described [here](https://archive.ics.uci.edu/ml/datasets/HIGGS). It is a binary classification problem where the goal is to train a classifier able to distinguish between a signal process, the production of new theoretical Higgs bosons, and a background process with identical decay products but distinct kinematic features.\n",
    "\n",
    "Each row of this dataset contains 28 features plus the label:\n",
    "\n",
    "- 21 low-level features which represent the basic measure made by the particle detector\n",
    "  - Momentum of the observed paricles\n",
    "  - Missing transverse momentum\n",
    "  - Jets and b-tagging information\n",
    "- 7 high-level features computed from the low-level features that encode the knowledge of the different intermediate states of the two processes (reconstructed invariant masses)"
   ]
  },
  {
   "cell_type": "markdown",
   "metadata": {},
   "source": [
    "## Prepare the execution environment\n",
    "\n",
    "Your code will run on a single dedicated server with 24 cores (hyperthreading enabled) and 192 GB of RAM. \n",
    "All the services needed for this tutorial are deployed as Kubernetes applications on this server. These include:\n",
    "* JupytherHub\n",
    "* Jupyter single-user servers\n",
    "* the HDFS file-system\n",
    "* Spark Clusters on demand "
   ]
  },
  {
   "cell_type": "markdown",
   "metadata": {},
   "source": [
    "#### Load custom magics definition\n",
    "\n",
    "We load an external file implemanting some custom *magics* function. Have a look at it."
   ]
  },
  {
   "cell_type": "code",
   "execution_count": 1,
   "metadata": {
    "execution": {
     "iopub.execute_input": "2024-11-20T10:31:31.468729Z",
     "iopub.status.busy": "2024-11-20T10:31:31.468476Z",
     "iopub.status.idle": "2024-11-20T10:31:31.543161Z",
     "shell.execute_reply": "2024-11-20T10:31:31.541826Z",
     "shell.execute_reply.started": "2024-11-20T10:31:31.468653Z"
    },
    "tags": []
   },
   "outputs": [],
   "source": [
    "%reload_ext custom_magics"
   ]
  },
  {
   "cell_type": "code",
   "execution_count": 2,
   "metadata": {
    "execution": {
     "iopub.execute_input": "2024-11-20T10:31:31.550046Z",
     "iopub.status.busy": "2024-11-20T10:31:31.549443Z",
     "iopub.status.idle": "2024-11-20T10:31:33.286370Z",
     "shell.execute_reply": "2024-11-20T10:31:33.283389Z",
     "shell.execute_reply.started": "2024-11-20T10:31:31.549986Z"
    },
    "tags": []
   },
   "outputs": [],
   "source": [
    "import pandas as pd\n",
    "import numpy as np\n",
    "import matplotlib.pyplot as plt\n",
    "%matplotlib inline\n",
    "\n",
    "# Check out these custom functions\n",
    "from custom_functions import *"
   ]
  },
  {
   "cell_type": "markdown",
   "metadata": {},
   "source": [
    "#### Load the Spark context\n",
    "\n",
    "We use the custom magic *%sc* to load a pre-defined Spark context."
   ]
  },
  {
   "cell_type": "code",
   "execution_count": 3,
   "metadata": {
    "execution": {
     "iopub.execute_input": "2024-11-20T10:31:33.292541Z",
     "iopub.status.busy": "2024-11-20T10:31:33.291717Z",
     "iopub.status.idle": "2024-11-20T10:31:44.575434Z",
     "shell.execute_reply": "2024-11-20T10:31:44.573725Z",
     "shell.execute_reply.started": "2024-11-20T10:31:33.292456Z"
    },
    "tags": []
   },
   "outputs": [
    {
     "name": "stderr",
     "output_type": "stream",
     "text": [
      "Exception in thread Thread-3:\n",
      "Traceback (most recent call last):\n",
      "  File \"/opt/conda/lib/python3.9/threading.py\", line 973, in _bootstrap_inner\n",
      "    self.run()\n",
      "  File \"/opt/conda/lib/python3.9/site-packages/sparkmonitor/kernelextension.py\", line 126, in run\n",
      "    self.onrecv(msg)\n",
      "  File \"/opt/conda/lib/python3.9/site-packages/sparkmonitor/kernelextension.py\", line 143, in onrecv\n",
      "    sendToFrontEnd({\n",
      "  File \"/opt/conda/lib/python3.9/site-packages/sparkmonitor/kernelextension.py\", line 223, in sendToFrontEnd\n",
      "    monitor.send(msg)\n",
      "  File \"/opt/conda/lib/python3.9/site-packages/sparkmonitor/kernelextension.py\", line 57, in send\n",
      "    self.comm.send(msg)\n",
      "AttributeError: 'ScalaMonitor' object has no attribute 'comm'\n"
     ]
    },
    {
     "data": {
      "text/html": [
       "\n",
       "        <div>\n",
       "            <p><b>SparkContext</b></p>\n",
       "\n",
       "            <p><a href=\"http://jupyter-annalisagilioli.jhub.svc.cluster.local:4040\">Spark UI</a></p>\n",
       "\n",
       "            <dl>\n",
       "              <dt>Version</dt>\n",
       "                <dd><code>v3.2.1</code></dd>\n",
       "              <dt>Master</dt>\n",
       "                <dd><code>k8s://https://192.168.2.39:6443</code></dd>\n",
       "              <dt>AppName</dt>\n",
       "                <dd><code>jupyter-annalisagilioli</code></dd>\n",
       "            </dl>\n",
       "        </div>\n",
       "        "
      ],
      "text/plain": [
       "<SparkContext master=k8s://https://192.168.2.39:6443 appName=jupyter-annalisagilioli>"
      ]
     },
     "execution_count": 3,
     "metadata": {},
     "output_type": "execute_result"
    }
   ],
   "source": [
    "num_workers=5\n",
    "spark=%sc $num_workers\n",
    "\n",
    "from pyspark.sql import SparkSession\n",
    "spark_session = SparkSession(spark)\n",
    "\n",
    "#check if spark is there\n",
    "spark"
   ]
  },
  {
   "cell_type": "code",
   "execution_count": 4,
   "metadata": {
    "execution": {
     "iopub.execute_input": "2024-11-20T10:31:44.583834Z",
     "iopub.status.busy": "2024-11-20T10:31:44.583453Z",
     "iopub.status.idle": "2024-11-20T10:31:44.640466Z",
     "shell.execute_reply": "2024-11-20T10:31:44.639616Z",
     "shell.execute_reply.started": "2024-11-20T10:31:44.583782Z"
    },
    "tags": []
   },
   "outputs": [
    {
     "name": "stdout",
     "output_type": "stream",
     "text": [
      "Number of executors: 5\n",
      "Cores per executor: 5\n"
     ]
    }
   ],
   "source": [
    "# Check number of workers (executors), and cores per executor\n",
    "\n",
    "executor_count = len(spark._jsc.sc().statusTracker().getExecutorInfos()) - 1\n",
    "cores_per_executor = int(spark.getConf().get('spark.executor.cores','1'))\n",
    "\n",
    "print('Number of executors: '+ str(executor_count))\n",
    "print('Cores per executor: '+ str(cores_per_executor))"
   ]
  },
  {
   "cell_type": "markdown",
   "metadata": {},
   "source": [
    "## Exercise 1\n",
    "\n",
    "### Get familiar with kubernetes commands\n",
    "\n",
    "- You can open a terminal and use the commands: \n",
    "  - `kubectl get pods`\n",
    "  - `kubectl describe pod PODNAME`\n",
    "  - `kubectl get nodes`\n",
    "  - `kubectl describe node NODENAME`\n",
    "  - `kubectl describe farm`\n",
    "  - ```kubectl logs PODNAME```\n",
    "  - ```kubectl exec PODNAME -it -- /bin/bash```\n",
    "  \n",
    "  \n",
    "- Try to stop spark with `spark.stop()`, and start it again running the cell above with a different number of workers. What happens? You can play with the number of workers, and run the cells below that execute spark commands. Provided you're getting all the workers you're asking for, does the execution time change? Try to make some scaling tests\n",
    "\n",
    "- if you don't stop spark correctly, you will see pods in Error state. You can get rid of those by running this command:\n",
    "    `kubectl get pods -n YOURUSERNAME | grep Error | awk '{print $1}' | xargs kubectl delete pod -n YOURUSERNAME`"
   ]
  },
  {
   "cell_type": "code",
   "execution_count": 5,
   "metadata": {
    "execution": {
     "iopub.execute_input": "2024-11-20T10:31:44.641810Z",
     "iopub.status.busy": "2024-11-20T10:31:44.641607Z",
     "iopub.status.idle": "2024-11-20T10:31:46.470247Z",
     "shell.execute_reply": "2024-11-20T10:31:46.468360Z",
     "shell.execute_reply.started": "2024-11-20T10:31:44.641784Z"
    },
    "tags": []
   },
   "outputs": [
    {
     "name": "stdout",
     "output_type": "stream",
     "text": [
      "NAME                                              READY   STATUS    RESTARTS   AGE\n",
      "jupyter-annalisagilioli-8c383a934920a800-exec-1   1/1     Running   0          8s\n",
      "jupyter-annalisagilioli-8c383a934920a800-exec-2   1/1     Running   0          8s\n",
      "jupyter-annalisagilioli-8c383a934920a800-exec-3   1/1     Running   0          8s\n",
      "jupyter-annalisagilioli-8c383a934920a800-exec-4   1/1     Running   0          8s\n",
      "jupyter-annalisagilioli-8c383a934920a800-exec-5   1/1     Running   0          8s\n"
     ]
    }
   ],
   "source": [
    "!kubectl get pods"
   ]
  },
  {
   "cell_type": "code",
   "execution_count": 6,
   "metadata": {
    "execution": {
     "iopub.execute_input": "2024-11-20T10:31:46.474534Z",
     "iopub.status.busy": "2024-11-20T10:31:46.473887Z",
     "iopub.status.idle": "2024-11-20T10:32:03.590317Z",
     "shell.execute_reply": "2024-11-20T10:32:03.588450Z",
     "shell.execute_reply.started": "2024-11-20T10:31:46.474461Z"
    },
    "tags": []
   },
   "outputs": [
    {
     "name": "stdout",
     "output_type": "stream",
     "text": [
      "error: the server doesn't have a resource type \"farm\"\n"
     ]
    }
   ],
   "source": [
    "# !kubectl describe pod jupyter-annalisagilioli-c56e2e9344c55934-exec-1 \n",
    "# !kubectl get nodes\n",
    "# !kubectl describe node t2-mlwn-01.to.infn.it\n",
    "!kubectl get farm"
   ]
  },
  {
   "cell_type": "code",
   "execution_count": 7,
   "metadata": {
    "execution": {
     "iopub.execute_input": "2024-11-20T10:32:03.594103Z",
     "iopub.status.busy": "2024-11-20T10:32:03.593654Z",
     "iopub.status.idle": "2024-11-20T10:32:03.601196Z",
     "shell.execute_reply": "2024-11-20T10:32:03.599777Z",
     "shell.execute_reply.started": "2024-11-20T10:32:03.594050Z"
    },
    "tags": []
   },
   "outputs": [],
   "source": [
    "#spark.stop()"
   ]
  },
  {
   "cell_type": "markdown",
   "metadata": {},
   "source": [
    "## Exercise 2\n",
    "\n",
    "### Create parquet files, which are faster to read than CSV\n",
    "\n",
    "- create a parquet file for all input files, you will need them for the next notebooks\n",
    "- check you can read in all parquet files and that they have the correct number of events"
   ]
  },
  {
   "cell_type": "code",
   "execution_count": 8,
   "metadata": {
    "execution": {
     "iopub.execute_input": "2024-11-20T10:32:03.603898Z",
     "iopub.status.busy": "2024-11-20T10:32:03.603413Z",
     "iopub.status.idle": "2024-11-20T10:32:14.255483Z",
     "shell.execute_reply": "2024-11-20T10:32:14.253879Z",
     "shell.execute_reply.started": "2024-11-20T10:32:03.603837Z"
    },
    "tags": []
   },
   "outputs": [
    {
     "name": "stdout",
     "output_type": "stream",
     "text": [
      "CPU times: user 2.75 ms, sys: 5.69 ms, total: 8.45 ms\n",
      "Wall time: 10.5 s\n"
     ]
    }
   ],
   "source": [
    "# read input file\n",
    "inputFile = 'file:///data-corso/Higgs100k.csv'\n",
    "#inputFile = 'file:///data-corso/Higgs1M.csv'\n",
    "#inputFile = 'file:///data-corso/Higgs10M.csv'\n",
    "\n",
    "%time df = spark_session.read.format('csv').option('header', 'true').option('inferschema', 'true').load(inputFile)"
   ]
  },
  {
   "cell_type": "code",
   "execution_count": 9,
   "metadata": {
    "execution": {
     "iopub.execute_input": "2024-11-20T10:32:14.258211Z",
     "iopub.status.busy": "2024-11-20T10:32:14.257696Z",
     "iopub.status.idle": "2024-11-20T10:32:14.725435Z",
     "shell.execute_reply": "2024-11-20T10:32:14.723921Z",
     "shell.execute_reply.started": "2024-11-20T10:32:14.258148Z"
    },
    "tags": []
   },
   "outputs": [
    {
     "data": {
      "text/plain": [
       "Row(label=1.0, lepton_pT=0.869293212890625, lepton_eta=-0.6350818276405334, lepton_phi=0.22569026052951813, missing_energy_magnitude=0.327470064163208, missing_energy_phi=-0.6899932026863098, jet1_pt=0.7542022466659546, jet1_eta=-0.24857313930988312, jet1_phi=-1.0920639038085938, jet1_b-tag=0.0, jet2_pt=1.3749921321868896, jet2_eta=-0.6536741852760315, jet2_phi=0.9303491115570068, jet2_b-tag=1.1074360609054565, jet3_pt=1.138904333114624, jet3_eta=-1.5781983137130737, jet3_phi=-1.046985387802124, jet3_b-tag=0.0, jet4_pt=0.657929539680481, je4_eta=-0.010454569943249226, jet4_phi=-0.0457671694457531, jet4_b-tag=3.101961374282837, m_jj=1.353760004043579, m_jjj=0.9795631170272827, m_lv=0.978076159954071, m_jlv=0.9200048446655273, m_bb=0.7216574549674988, m_wbb=0.9887509346008301, m_wwbb=0.8766783475875854)"
      ]
     },
     "execution_count": 9,
     "metadata": {},
     "output_type": "execute_result"
    }
   ],
   "source": [
    "df.head()"
   ]
  },
  {
   "cell_type": "code",
   "execution_count": 10,
   "metadata": {
    "execution": {
     "iopub.execute_input": "2024-11-20T10:32:14.728887Z",
     "iopub.status.busy": "2024-11-20T10:32:14.728189Z",
     "iopub.status.idle": "2024-11-20T10:32:35.823816Z",
     "shell.execute_reply": "2024-11-20T10:32:35.822102Z",
     "shell.execute_reply.started": "2024-11-20T10:32:14.728789Z"
    },
    "tags": []
   },
   "outputs": [],
   "source": [
    "#write parquet in your home\n",
    "outputFile = 'file:///home/jovyan/Higgs100k.parquet'\n",
    "#outputFile = 'file:///home/jovyan/Higgs1M.parquet'\n",
    "#outputFile = 'file:///home/jovyan/Higgs10M.parquet'\n",
    "\n",
    "df.write.parquet(outputFile, mode='overwrite')"
   ]
  },
  {
   "cell_type": "markdown",
   "metadata": {},
   "source": [
    "### Read in parquet files\n",
    "\n",
    "how much faster is it to read parquet files rather than csv?"
   ]
  },
  {
   "cell_type": "code",
   "execution_count": 11,
   "metadata": {
    "execution": {
     "iopub.execute_input": "2024-11-20T10:32:35.826860Z",
     "iopub.status.busy": "2024-11-20T10:32:35.826343Z",
     "iopub.status.idle": "2024-11-20T10:32:36.355837Z",
     "shell.execute_reply": "2024-11-20T10:32:36.354249Z",
     "shell.execute_reply.started": "2024-11-20T10:32:35.826795Z"
    },
    "tags": []
   },
   "outputs": [
    {
     "name": "stdout",
     "output_type": "stream",
     "text": [
      "CPU times: user 2.97 ms, sys: 3.07 ms, total: 6.04 ms\n",
      "Wall time: 518 ms\n"
     ]
    }
   ],
   "source": [
    "inputFile = 'file:///home/jovyan/Higgs100k.parquet'\n",
    "#inputFile = 'file:///home/jovyan/Higgs1M.parquet'\n",
    "#inputFile = 'file:///home/jovyan/Higgs10M.parquet'\n",
    "\n",
    "%time df = spark_session.read.format('parquet').option('header', 'true').option('inferschema', 'true').load(inputFile)"
   ]
  },
  {
   "cell_type": "code",
   "execution_count": 12,
   "metadata": {
    "execution": {
     "iopub.execute_input": "2024-11-20T10:32:36.358852Z",
     "iopub.status.busy": "2024-11-20T10:32:36.358204Z",
     "iopub.status.idle": "2024-11-20T10:32:36.588601Z",
     "shell.execute_reply": "2024-11-20T10:32:36.587460Z",
     "shell.execute_reply.started": "2024-11-20T10:32:36.358786Z"
    },
    "tags": []
   },
   "outputs": [
    {
     "name": "stdout",
     "output_type": "stream",
     "text": [
      "Number of partitions: 18\n",
      "Partitioner: None\n"
     ]
    }
   ],
   "source": [
    "#In how many partitions is the dataframe distributed?\n",
    "print(\"Number of partitions: {}\".format(df.rdd.getNumPartitions()))\n",
    "print(\"Partitioner: {}\".format(df.rdd.partitioner))"
   ]
  },
  {
   "cell_type": "markdown",
   "metadata": {},
   "source": [
    "# Now let's have a look at the input data"
   ]
  },
  {
   "cell_type": "code",
   "execution_count": 13,
   "metadata": {
    "execution": {
     "iopub.execute_input": "2024-11-20T10:32:36.590990Z",
     "iopub.status.busy": "2024-11-20T10:32:36.590560Z",
     "iopub.status.idle": "2024-11-20T10:32:37.850417Z",
     "shell.execute_reply": "2024-11-20T10:32:37.848734Z",
     "shell.execute_reply.started": "2024-11-20T10:32:36.590919Z"
    },
    "tags": []
   },
   "outputs": [
    {
     "name": "stdout",
     "output_type": "stream",
     "text": [
      "CPU times: user 2.55 ms, sys: 490 µs, total: 3.04 ms\n",
      "Wall time: 1.16 s\n",
      "There are 99999 events\n"
     ]
    }
   ],
   "source": [
    "%time total_events = df.count()\n",
    "\n",
    "print('There are '+str(total_events)+' events')"
   ]
  },
  {
   "cell_type": "code",
   "execution_count": 14,
   "metadata": {
    "execution": {
     "iopub.execute_input": "2024-11-20T10:32:37.853559Z",
     "iopub.status.busy": "2024-11-20T10:32:37.852845Z",
     "iopub.status.idle": "2024-11-20T10:32:37.869477Z",
     "shell.execute_reply": "2024-11-20T10:32:37.868054Z",
     "shell.execute_reply.started": "2024-11-20T10:32:37.853463Z"
    },
    "tags": []
   },
   "outputs": [
    {
     "name": "stdout",
     "output_type": "stream",
     "text": [
      "root\n",
      " |-- label: double (nullable = true)\n",
      " |-- lepton_pT: double (nullable = true)\n",
      " |-- lepton_eta: double (nullable = true)\n",
      " |-- lepton_phi: double (nullable = true)\n",
      " |-- missing_energy_magnitude: double (nullable = true)\n",
      " |-- missing_energy_phi: double (nullable = true)\n",
      " |-- jet1_pt: double (nullable = true)\n",
      " |-- jet1_eta: double (nullable = true)\n",
      " |-- jet1_phi: double (nullable = true)\n",
      " |-- jet1_b-tag: double (nullable = true)\n",
      " |-- jet2_pt: double (nullable = true)\n",
      " |-- jet2_eta: double (nullable = true)\n",
      " |-- jet2_phi: double (nullable = true)\n",
      " |-- jet2_b-tag: double (nullable = true)\n",
      " |-- jet3_pt: double (nullable = true)\n",
      " |-- jet3_eta: double (nullable = true)\n",
      " |-- jet3_phi: double (nullable = true)\n",
      " |-- jet3_b-tag: double (nullable = true)\n",
      " |-- jet4_pt: double (nullable = true)\n",
      " |-- je4_eta: double (nullable = true)\n",
      " |-- jet4_phi: double (nullable = true)\n",
      " |-- jet4_b-tag: double (nullable = true)\n",
      " |-- m_jj: double (nullable = true)\n",
      " |-- m_jjj: double (nullable = true)\n",
      " |-- m_lv: double (nullable = true)\n",
      " |-- m_jlv: double (nullable = true)\n",
      " |-- m_bb: double (nullable = true)\n",
      " |-- m_wbb: double (nullable = true)\n",
      " |-- m_wwbb: double (nullable = true)\n",
      "\n"
     ]
    }
   ],
   "source": [
    "df.printSchema()"
   ]
  },
  {
   "cell_type": "markdown",
   "metadata": {
    "tags": []
   },
   "source": [
    "## Exercise 3\n",
    "\n",
    "- Create a function that makes a plot of any of the above variable for signal versus background (using the label variable to discriminate)\n",
    "  - see an example of the plot in the hands-on slides\n",
    "  - the function should take as input the dataframe *df* and the variable name. For example `plotSignalvsBg(df, 'm_bb')`\n",
    "  - to develop the code, use the 100k dataset, so that debugging goes quicker\n",
    "- try to plot a few input variables and try to understand which ones are more promising to distinguish signal from background  "
   ]
  },
  {
   "cell_type": "code",
   "execution_count": 15,
   "metadata": {
    "execution": {
     "iopub.execute_input": "2024-11-20T10:32:37.872947Z",
     "iopub.status.busy": "2024-11-20T10:32:37.872391Z",
     "iopub.status.idle": "2024-11-20T10:32:38.264123Z",
     "shell.execute_reply": "2024-11-20T10:32:38.262515Z",
     "shell.execute_reply.started": "2024-11-20T10:32:37.872882Z"
    },
    "tags": []
   },
   "outputs": [],
   "source": [
    "# %load custom_functions.py\n",
    "#!/usr/bin/env python\n",
    "\n",
    "from pyspark.ml.feature import VectorAssembler\n",
    "import numpy as np\n",
    "import matplotlib.pyplot as plt \n",
    "\n",
    "# create a plot of the invariant mass distribution\n",
    "def plotSignalvsBg(df, variable):\n",
    "\n",
    "    ## hist is a tuple containing bins and counts foreach bin\n",
    "    hist_signal, hist_bkg = compute_hist(data=df, feature=variable, target='label', n_bins=50, x_lim=[0,3])\n",
    "\n",
    "    f, ax = plt.subplots()\n",
    "    ax.hist(hist_signal[0][:-1], bins=hist_signal[0], weights=hist_signal[1], alpha=0.5, label='signal')\n",
    "    ax.hist(hist_bkg[0][:-1], bins=hist_bkg[0], weights=hist_bkg[1], alpha=0.5, label='background')\n",
    "    ax.set_xlabel(variable)\n",
    "    ax.set_ylabel('counts')\n",
    "    ax.set_title(\"Distribution of \"+variable)\n",
    "    ax.legend()\n",
    "    plt.show()\n",
    "    f.savefig(\"SignalvsBackground.pdf\", bbox_inches='tight')\n",
    "    return\n",
    "\n",
    "def plotSignalvsBgWithPrediction(df, pred_full, variable):\n",
    "    \n",
    "    ## hist is a tuple containing bins and counts foreach bin\n",
    "    hist_signal, hist_bkg = compute_hist(data=df, feature=variable, target='label', n_bins=50, x_lim=[0,3])\n",
    "\n",
    "    hist_signal_pred, hist_bkg_pred = compute_hist(data=pred_full,\n",
    "                                               feature=variable, target='prediction',\n",
    "                                               n_bins=50, x_lim=[0,3])\n",
    "\n",
    "    hist_signal_pred, hist_bkg_pred = compute_hist(data=pred_full,\n",
    "                                               feature=variable, target='prediction',\n",
    "                                               n_bins=50, x_lim=[0,3])\n",
    "    \n",
    "    f, ax = plt.subplots()\n",
    "    ax.hist(hist_signal[0][:-1], bins=hist_signal[0], weights=hist_signal[1],\n",
    "        alpha=0.5, label='signal')\n",
    "    ax.hist(hist_bkg[0][:-1], bins=hist_bkg[0], weights=hist_bkg[1],\n",
    "        alpha=0.5, label='background')\n",
    "\n",
    "    ax.hist(hist_signal_pred[0][:-1], bins=hist_signal_pred[0], weights=hist_signal_pred[1],\n",
    "        label='predicted signal', histtype='step',\n",
    "        linestyle='--', color='green', linewidth=2)\n",
    "    ax.hist(hist_bkg_pred[0][:-1], bins=hist_bkg_pred[0], weights=hist_bkg_pred[1],\n",
    "        label='predicted background', histtype='step',\n",
    "        linestyle='--', color='red', linewidth=2)\n",
    "\n",
    "    ax.set_xlabel(variable)\n",
    "    ax.set_ylabel('counts')\n",
    "    ax.legend()\n",
    "    ax.set_title(\"Distribution of \"+variable)\n",
    "    plt.show()\n",
    "    f.savefig(\"SignalvsBackgroundPred.pdf\", bbox_inches='tight')\n",
    "    \n",
    "    return\n",
    "\n",
    "# for Keras\n",
    "def plotSignalvsBgWithPrediction2(x_test, y_test, y_pred, variable):\n",
    "    \n",
    "    def isSignal(x, y):\n",
    "        if (y>=0.5):\n",
    "            return x\n",
    "        else: \n",
    "            return -1.\n",
    "    \n",
    "    def isBackground(x, y):\n",
    "        if (y<0.5):\n",
    "            return x\n",
    "        else: \n",
    "            return -1.\n",
    "    \n",
    "    isSignalNP = np.vectorize(isSignal)\n",
    "    isBackgroundNP = np.vectorize(isBackground)\n",
    "\n",
    "    x_signal = isSignalNP(x_test, y_test)\n",
    "    x_background = isBackgroundNP(x_test, y_test)\n",
    "    x_signal_pred = isSignalNP(x_test, y_pred[:,0])\n",
    "    x_background_pred = isBackgroundNP(x_test, y_pred[:,0])\n",
    "\n",
    "    f, ax = plt.subplots()\n",
    "    plt.hist(x_signal, bins = 100, range=[0, 3.5], alpha=0.5, label='signal') \n",
    "    plt.hist(x_background, bins = 100, range=[0, 3.5], alpha=0.5, label='background') \n",
    "    plt.hist(x_signal_pred, bins = 100, range=[0, 3.5], label='predicted signal', histtype='step',\n",
    "        linestyle='--', color='green', linewidth=2) \n",
    "    plt.hist(x_background_pred, bins = 100, range=[0, 3.5], label='predicted background', histtype='step',\n",
    "        linestyle='--', color='red', linewidth=2) \n",
    "    \n",
    "    plt.title(\"histogram\") \n",
    "    ax.set_xlabel(variable)\n",
    "    ax.set_ylabel('counts')\n",
    "    ax.legend()\n",
    "    ax.set_title(\"Distribution of \"+variable)\n",
    "    plt.show()\n",
    "    f.savefig(\"SignalvsBackgroundPred.pdf\", bbox_inches='tight')\n",
    "\n",
    "    return\n",
    "\n",
    "#for signal vs background plot\n",
    "def compute_hist(data, feature, target='label', n_bins=100, x_lim=[0,3]):\n",
    "        \n",
    "    from pyspark.sql.functions import col\n",
    "    \n",
    "    ## Fix the range\n",
    "    data = data.where((col(feature)<=x_lim[1]) &\n",
    "                      (col(feature)>=x_lim[0]))\n",
    "    \n",
    "    sgn = data.where(col(target)==1.0) \n",
    "    bkg = data.where(col(target)==0.0)\n",
    "\n",
    "    ## Compute the histograms\n",
    "    bins_sgn, counts_sgn = sgn.select(feature).rdd.flatMap(lambda x: x).histogram(n_bins)\n",
    "    bins_bkg, counts_bkg = bkg.select(feature).rdd.flatMap(lambda x: x).histogram(n_bins)\n",
    "    \n",
    "    return (bins_sgn, counts_sgn), (bins_bkg, counts_bkg)\n",
    "\n",
    "def plotCorrelation(train, feature): #correlation matrix\n",
    "\n",
    "    from pyspark.ml.stat import Correlation\n",
    "\n",
    "    matrix = Correlation.corr(train.select('features'), 'features')\n",
    "    matrix_np = matrix.collect()[0][\"pearson({})\".format('features')].values\n",
    "\n",
    "    import seaborn as sns\n",
    "\n",
    "    matrix_np = matrix_np.reshape(len(feature),len(feature))\n",
    "\n",
    "    fig, ax = plt.subplots(figsize=(12,8))\n",
    "    ax = sns.heatmap(matrix_np, cmap=\"YlGnBu\")\n",
    "    ax.xaxis.set_ticklabels(feature, rotation=270)\n",
    "    ax.yaxis.set_ticklabels(feature, rotation=0)\n",
    "    ax.set_title(\"Correlation Matrix\")\n",
    "    plt.tight_layout()\n",
    "    plt.show()\n",
    "    fig.savefig(\"CorrMatrix.pdf\", bbox_inches='tight')\n",
    "    return\n",
    "\n",
    "def prepareData(df, split):\n",
    "    train, test = df.randomSplit([1.-split,split])\n",
    "\n",
    "    #print('Events for training {}'.format(train.count()))\n",
    "    #print('Events for validation {}'.format(test.count()))\n",
    "    \n",
    "    feature = train.columns\n",
    "    feature.remove('label')\n",
    "\n",
    "    #VectorAssembler is a transformer that combines a given list of columns into a single vector column\n",
    "    assembler = VectorAssembler(inputCols=feature, outputCol='features')\n",
    "    train = assembler.transform(train)\n",
    "    test = assembler.transform(test)\n",
    "\n",
    "    X_train = train.select('features')\n",
    "    Y_train = train.select('label')\n",
    "    X_test = test.select('features')\n",
    "    Y_test = test.select('label')\n",
    "   \n",
    "    #newTrain.printSchema()\n",
    "    \n",
    "    # need to convert DF to Pandas to use keras\n",
    "    X_train_2P = X_train.toPandas()\n",
    "    X_test_2P = X_test.toPandas()\n",
    "    Y_train_2P = Y_train.toPandas()\n",
    "    Y_test_2P = Y_test.toPandas()\n",
    "    \n",
    "    #X_train_2P.info()\n",
    "\n",
    "    X = np.array(X_train_2P['features'].tolist())\n",
    "    y = np.array(Y_train_2P['label'].tolist())\n",
    "\n",
    "    X_test = np.array(X_test_2P['features'].tolist())\n",
    "    y_test = np.array(Y_test_2P['label'].tolist())\n",
    "    \n",
    "    return X, y, X_test, y_test\n",
    "\n",
    "\n",
    "# Plot variable (loss, acc) vs. epoch\n",
    "def plotVsEpoch(history, variable):\n",
    "\n",
    "    #get_ipython().run_line_magic('matplotlib', 'notebook')\n",
    "    \n",
    "    plt.figure()\n",
    "    plt.plot(history.history[variable], label='train')\n",
    "    plt.plot(history.history['val_'+variable], label='validation')\n",
    "    plt.ylabel(variable)\n",
    "    plt.xlabel('epoch')\n",
    "    plt.legend(loc='upper right')\n",
    "    plt.show()\n",
    "    \n",
    "    return\n",
    "\n",
    "# Draw roc curve for Keras\n",
    "def drawROC2(y_true, y_pred):\n",
    "\n",
    "    from sklearn.metrics import auc, roc_curve\n",
    "    fpr, tpr, threshold = roc_curve(y_score=y_pred, y_true=y_true)\n",
    "    auc = auc(fpr, tpr)\n",
    "\n",
    "    f = plt.figure()\n",
    "    plt.plot([0,1], [0,1], '--', color='orange')\n",
    "    plt.plot(fpr, tpr, label='auc = {:.3f}'.format(auc))\n",
    "    plt.xlabel('False positive rate')\n",
    "    plt.ylabel('True positive rate')\n",
    "    plt.title('ROC curve')\n",
    "    plt.legend(loc='lower right')\n",
    "    plt.grid()    \n",
    "    plt.show()\n",
    "    f.savefig(\"AUC.pdf\", bbox_inches='tight')\n",
    "    \n",
    "    return\n",
    "\n",
    "# Draw roc curve\n",
    "def drawROC(result):\n",
    "\n",
    "    result_pd = result.select(['label', 'prediction', 'probability']).toPandas()\n",
    "\n",
    "    result_pd['probability'] = result_pd['probability'].map(lambda x: list(x))\n",
    "    result_pd['encoded_label'] = result_pd['label'].map(lambda x: np.eye(2)[int(x)])\n",
    "\n",
    "    y_pred = np.array(result_pd['probability'].tolist())\n",
    "    y_true = np.array(result_pd['encoded_label'].tolist())    \n",
    "    \n",
    "    drawROC2(y_true[:,0], y_pred[:,0])\n",
    "    \n",
    "    return\n",
    "\n",
    "# Draw feature importance (only GBT models)\n",
    "def drawFeatures(feature, model):\n",
    "    fig, ax = plt.subplots(figsize=(8,10))\n",
    "    ax.barh(range(28), model.featureImportances.toArray())\n",
    "    ax.set_yticks(range(28))\n",
    "    ax.set_yticklabels(feature)\n",
    "    ax.set_xlabel('Importances')\n",
    "    ax.set_title('Feature importance')\n",
    "    plt.tight_layout()\n",
    "    plt.show()\n",
    "    \n",
    "    return\n",
    "\n",
    "def printMetrics(evaluator, prediction):\n",
    "\n",
    "    auc = evaluator.evaluate(prediction, {evaluator.metricName: 'areaUnderROC'})\n",
    "    print('AUC: %0.3f' % auc)\n",
    "    # compute TN, TP, FN, and FP\n",
    "    prediction.groupBy('label', 'prediction').count().show()\n",
    "\n",
    "    # Calculate the elements of the confusion matrix\n",
    "    TN = prediction.filter('prediction = 0 AND label = prediction').count()\n",
    "    TP = prediction.filter('prediction = 1 AND label = prediction').count()\n",
    "    FN = prediction.filter('prediction = 0 AND label <> prediction').count()\n",
    "    FP = prediction.filter('prediction = 1 AND label <> prediction').count()\n",
    "\n",
    "    # calculate accuracy, precision, recall, and F1-score\n",
    "    accuracy = (TN + TP) / (TN + TP + FN + FP)\n",
    "    precision = TP / (TP + FP)\n",
    "    recall = TP / (TP + FN)\n",
    "    F =  2 * (precision*recall) / (precision + recall)\n",
    "    print('n precision: %0.3f' % precision)\n",
    "    print('n recall: %0.3f' % recall)\n",
    "    print('n accuracy: %0.3f' % accuracy)\n",
    "    print('n F1 score: %0.3f' % F)\n",
    "    \n",
    "    return"
   ]
  },
  {
   "cell_type": "code",
   "execution_count": 16,
   "metadata": {
    "execution": {
     "iopub.execute_input": "2024-11-20T10:32:38.266744Z",
     "iopub.status.busy": "2024-11-20T10:32:38.266220Z",
     "iopub.status.idle": "2024-11-20T10:32:41.676694Z",
     "shell.execute_reply": "2024-11-20T10:32:41.675148Z",
     "shell.execute_reply.started": "2024-11-20T10:32:38.266684Z"
    },
    "tags": []
   },
   "outputs": [
    {
     "data": {
      "image/png": "[encoded data removed]",
      "text/plain": [
       "<Figure size 432x288 with 1 Axes>"
      ]
     },
     "metadata": {
      "needs_background": "light"
     },
     "output_type": "display_data"
    }
   ],
   "source": [
    "# |-- m_jj: double (nullable = true)\n",
    "# |-- m_jjj: double (nullable = true)\n",
    "# |-- m_lv: double (nullable = true)\n",
    "# |-- m_jlv: double (nullable = true)\n",
    "# |-- m_bb: double (nullable = true)\n",
    "# |-- m_wbb: double (nullable = true)\n",
    "# |-- m_wwbb: double (nullable = true\n",
    "plotSignalvsBg(df, 'm_jj')\n"
   ]
  },
  {
   "cell_type": "code",
   "execution_count": 17,
   "metadata": {
    "execution": {
     "iopub.execute_input": "2024-11-20T10:32:41.679292Z",
     "iopub.status.busy": "2024-11-20T10:32:41.678834Z",
     "iopub.status.idle": "2024-11-20T10:32:43.898055Z",
     "shell.execute_reply": "2024-11-20T10:32:43.896230Z",
     "shell.execute_reply.started": "2024-11-20T10:32:41.679228Z"
    }
   },
   "outputs": [
    {
     "data": {
      "image/png": "[encoded data removed]",
      "text/plain": [
       "<Figure size 432x288 with 1 Axes>"
      ]
     },
     "metadata": {
      "needs_background": "light"
     },
     "output_type": "display_data"
    }
   ],
   "source": [
    "plotSignalvsBg(df, 'm_jjj')"
   ]
  },
  {
   "cell_type": "code",
   "execution_count": 18,
   "metadata": {
    "execution": {
     "iopub.execute_input": "2024-11-20T10:32:43.900084Z",
     "iopub.status.busy": "2024-11-20T10:32:43.899810Z",
     "iopub.status.idle": "2024-11-20T10:32:45.641164Z",
     "shell.execute_reply": "2024-11-20T10:32:45.640397Z",
     "shell.execute_reply.started": "2024-11-20T10:32:43.900049Z"
    }
   },
   "outputs": [
    {
     "data": {
      "image/png": "[encoded data removed]",
      "text/plain": [
       "<Figure size 432x288 with 1 Axes>"
      ]
     },
     "metadata": {
      "needs_background": "light"
     },
     "output_type": "display_data"
    }
   ],
   "source": [
    "plotSignalvsBg(df, 'm_lv')"
   ]
  },
  {
   "cell_type": "code",
   "execution_count": 19,
   "metadata": {
    "execution": {
     "iopub.execute_input": "2024-11-20T10:32:45.642360Z",
     "iopub.status.busy": "2024-11-20T10:32:45.642184Z",
     "iopub.status.idle": "2024-11-20T10:32:47.335165Z",
     "shell.execute_reply": "2024-11-20T10:32:47.332548Z",
     "shell.execute_reply.started": "2024-11-20T10:32:45.642338Z"
    }
   },
   "outputs": [
    {
     "data": {
      "image/png": "[encoded data removed]",
      "text/plain": [
       "<Figure size 432x288 with 1 Axes>"
      ]
     },
     "metadata": {
      "needs_background": "light"
     },
     "output_type": "display_data"
    }
   ],
   "source": [
    "plotSignalvsBg(df, 'm_jlv')"
   ]
  },
  {
   "cell_type": "code",
   "execution_count": 20,
   "metadata": {
    "execution": {
     "iopub.execute_input": "2024-11-20T10:32:47.339499Z",
     "iopub.status.busy": "2024-11-20T10:32:47.338798Z",
     "iopub.status.idle": "2024-11-20T10:32:49.128493Z",
     "shell.execute_reply": "2024-11-20T10:32:49.127521Z",
     "shell.execute_reply.started": "2024-11-20T10:32:47.339434Z"
    }
   },
   "outputs": [
    {
     "data": {
      "image/png": "[encoded data removed]",
      "text/plain": [
       "<Figure size 432x288 with 1 Axes>"
      ]
     },
     "metadata": {
      "needs_background": "light"
     },
     "output_type": "display_data"
    }
   ],
   "source": [
    "plotSignalvsBg(df, 'm_bb')"
   ]
  },
  {
   "cell_type": "code",
   "execution_count": 21,
   "metadata": {
    "execution": {
     "iopub.execute_input": "2024-11-20T10:32:49.133110Z",
     "iopub.status.busy": "2024-11-20T10:32:49.132344Z",
     "iopub.status.idle": "2024-11-20T10:32:50.791830Z",
     "shell.execute_reply": "2024-11-20T10:32:50.790164Z",
     "shell.execute_reply.started": "2024-11-20T10:32:49.133038Z"
    }
   },
   "outputs": [
    {
     "data": {
      "image/png": "[encoded data removed]",
      "text/plain": [
       "<Figure size 432x288 with 1 Axes>"
      ]
     },
     "metadata": {
      "needs_background": "light"
     },
     "output_type": "display_data"
    }
   ],
   "source": [
    "plotSignalvsBg(df, 'm_wbb')"
   ]
  },
  {
   "cell_type": "code",
   "execution_count": 22,
   "metadata": {
    "execution": {
     "iopub.execute_input": "2024-11-20T10:32:50.794076Z",
     "iopub.status.busy": "2024-11-20T10:32:50.793604Z",
     "iopub.status.idle": "2024-11-20T10:32:52.328584Z",
     "shell.execute_reply": "2024-11-20T10:32:52.327292Z",
     "shell.execute_reply.started": "2024-11-20T10:32:50.794047Z"
    }
   },
   "outputs": [
    {
     "data": {
      "image/png": "[encoded data removed]",
      "text/plain": [
       "<Figure size 432x288 with 1 Axes>"
      ]
     },
     "metadata": {
      "needs_background": "light"
     },
     "output_type": "display_data"
    }
   ],
   "source": [
    "plotSignalvsBg(df, 'm_wwbb')"
   ]
  },
  {
   "cell_type": "code",
   "execution_count": 23,
   "metadata": {
    "execution": {
     "iopub.execute_input": "2024-11-20T10:32:52.331696Z",
     "iopub.status.busy": "2024-11-20T10:32:52.330907Z",
     "iopub.status.idle": "2024-11-20T10:32:52.335100Z",
     "shell.execute_reply": "2024-11-20T10:32:52.334452Z",
     "shell.execute_reply.started": "2024-11-20T10:32:52.331642Z"
    }
   },
   "outputs": [],
   "source": [
    "# Best varibles to determine the signal: m_lv, m_bb, m_wbb, m_wwbb"
   ]
  },
  {
   "cell_type": "markdown",
   "metadata": {
    "tags": []
   },
   "source": [
    "## Exercise 4 - Bonus\n",
    "\n",
    "### Create the input feature vector\n",
    "\n",
    "- Libraries for ML tipically take as inputs data in a very specific format. Documentation on how to do data preprocessing in Spark: https://spark.apache.org/docs/latest/ml-features.html\n",
    "- Try to add to the dataframe df a new column, called 'features' which is a vector column with all the variables above except for 'label'\n",
    "   - features = [lepton_pT, lepton_eta, lepton_phi, ...]\n",
    "   - Hint: look at the VectorAssembler transformer"
   ]
  },
  {
   "cell_type": "code",
   "execution_count": 24,
   "metadata": {
    "execution": {
     "iopub.execute_input": "2024-11-20T10:32:52.336151Z",
     "iopub.status.busy": "2024-11-20T10:32:52.335974Z",
     "iopub.status.idle": "2024-11-20T10:32:52.729574Z",
     "shell.execute_reply": "2024-11-20T10:32:52.727797Z",
     "shell.execute_reply.started": "2024-11-20T10:32:52.336127Z"
    },
    "tags": []
   },
   "outputs": [],
   "source": [
    "feature = df.columns\n",
    "first_element = feature.pop(0)"
   ]
  },
  {
   "cell_type": "code",
   "execution_count": 25,
   "metadata": {
    "execution": {
     "iopub.execute_input": "2024-11-20T10:32:52.732622Z",
     "iopub.status.busy": "2024-11-20T10:32:52.731943Z",
     "iopub.status.idle": "2024-11-20T10:32:52.882302Z",
     "shell.execute_reply": "2024-11-20T10:32:52.881017Z",
     "shell.execute_reply.started": "2024-11-20T10:32:52.732557Z"
    },
    "tags": []
   },
   "outputs": [
    {
     "data": {
      "text/plain": [
       "['lepton_pT',\n",
       " 'lepton_eta',\n",
       " 'lepton_phi',\n",
       " 'missing_energy_magnitude',\n",
       " 'missing_energy_phi',\n",
       " 'jet1_pt',\n",
       " 'jet1_eta',\n",
       " 'jet1_phi',\n",
       " 'jet1_b-tag',\n",
       " 'jet2_pt',\n",
       " 'jet2_eta',\n",
       " 'jet2_phi',\n",
       " 'jet2_b-tag',\n",
       " 'jet3_pt',\n",
       " 'jet3_eta',\n",
       " 'jet3_phi',\n",
       " 'jet3_b-tag',\n",
       " 'jet4_pt',\n",
       " 'je4_eta',\n",
       " 'jet4_phi',\n",
       " 'jet4_b-tag',\n",
       " 'm_jj',\n",
       " 'm_jjj',\n",
       " 'm_lv',\n",
       " 'm_jlv',\n",
       " 'm_bb',\n",
       " 'm_wbb',\n",
       " 'm_wwbb']"
      ]
     },
     "execution_count": 25,
     "metadata": {},
     "output_type": "execute_result"
    }
   ],
   "source": [
    "feature"
   ]
  },
  {
   "cell_type": "code",
   "execution_count": 26,
   "metadata": {
    "execution": {
     "iopub.execute_input": "2024-11-20T10:32:52.885862Z",
     "iopub.status.busy": "2024-11-20T10:32:52.885005Z",
     "iopub.status.idle": "2024-11-20T10:32:54.164115Z",
     "shell.execute_reply": "2024-11-20T10:32:54.161942Z",
     "shell.execute_reply.started": "2024-11-20T10:32:52.885739Z"
    },
    "tags": []
   },
   "outputs": [
    {
     "name": "stdout",
     "output_type": "stream",
     "text": [
      "+-----+-------------------+--------------------+-------------------+------------------------+--------------------+-------------------+--------------------+--------------------+------------------+------------------+--------------------+--------------------+-----------------+-------------------+--------------------+--------------------+------------------+-------------------+--------------------+--------------------+------------------+-------------------+------------------+------------------+------------------+------------------+------------------+------------------+--------------------+\n",
      "|label|          lepton_pT|          lepton_eta|         lepton_phi|missing_energy_magnitude|  missing_energy_phi|            jet1_pt|            jet1_eta|            jet1_phi|        jet1_b-tag|           jet2_pt|            jet2_eta|            jet2_phi|       jet2_b-tag|            jet3_pt|            jet3_eta|            jet3_phi|        jet3_b-tag|            jet4_pt|             je4_eta|            jet4_phi|        jet4_b-tag|               m_jj|             m_jjj|              m_lv|             m_jlv|              m_bb|             m_wbb|            m_wwbb|            features|\n",
      "+-----+-------------------+--------------------+-------------------+------------------------+--------------------+-------------------+--------------------+--------------------+------------------+------------------+--------------------+--------------------+-----------------+-------------------+--------------------+--------------------+------------------+-------------------+--------------------+--------------------+------------------+-------------------+------------------+------------------+------------------+------------------+------------------+------------------+--------------------+\n",
      "|  0.0| 1.7879987955093384|  0.7684071660041809| 0.9808564782142639|      0.7673001885414124| -0.4854492247104645|  1.868970513343811|  0.4792458415031433|  1.3772292137145996|2.1730761528015137|1.9357662200927734|-0.35449111461639404| -0.7436778545379639|              0.0|  1.953963041305542| -0.8918707966804504| -0.3186151385307312| 2.548224449157715| 0.5096945762634277|  -1.075635552406311|  0.9559520483016968|               0.0| 1.4346532821655273|1.1136564016342163|1.5721266269683838|1.3061838150024414|3.0459811687469482|1.7440675497055054|1.5476784706115723|[1.78799879550933...|\n",
      "|  1.0|  0.591668426990509| -1.8505947589874268|-1.4672969579696655|      0.6470494866371155|  0.5840333700180054| 1.4277900457382202| 0.08018318563699722|  -1.131978988647461|               0.0|1.3778879642486572| -0.8945748805999756|  0.7322748303413391|              0.0| 0.7836223840713501|  1.6668381690979004| 0.28725844621658325|               0.0| 1.2715590000152588| -1.3146557807922363|  0.3738492727279663|               0.0| 0.7957637310028076|0.8989623785018921|0.9884950518608093|0.8688117265701294|0.8730795383453369|0.8906264901161194|0.7622190713882446|[0.59166842699050...|\n",
      "|  0.0| 0.4793008267879486| -0.4461318552494049|  -0.12397500872612|      1.3658514022827148| -1.5205093622207642| 1.3374654054641724| -1.0773955583572388| -0.9723187685012817|1.0865380764007568|1.4247239828109741|-0.31077930331230164|  0.6945464611053467|2.214872121810913| 0.5005208253860474| -0.9455755949020386|  0.6372963786125183|               0.0| 0.5089643597602844| -2.2274301052093506|  0.7728310227394104|               0.0| 0.5124250054359436|0.8669569492340088|1.0663158893585205|0.9121872782707214|2.1782901287078857| 1.125464677810669| 0.954224169254303|[0.47930082678794...|\n",
      "|  1.0| 1.9942500591278076| 0.16844244301319122|-0.8181092739105225|     0.29640406370162964| -1.3435901403427124| 1.1676255464553833|   0.550542414188385|  0.8344957232475281|2.1730761528015137|0.8692377805709839|   1.025830864906311|  1.7204266786575317|2.214872121810913|0.39549925923347473|  0.9086011052131653|  -0.493911474943161|               0.0| 0.5016621351242065|   1.399515151977539|-0.00470347842201...|               0.0| 0.2704794704914093|0.7817426919937134|0.9872643947601318|0.9007529616355896|1.1249202489852905|1.0254664421081543|0.7940605878829956|[1.99425005912780...|\n",
      "|  0.0| 0.9833078384399414|   1.089816927909851|-0.3259445130825043|      0.4114922881126404|  1.2572717666625977| 1.0770260095596313|  0.2306981235742569| -0.9534700512886047|2.1730761528015137|0.9568665623664856| 0.07194191962480545|  1.1267588138580322|2.214872121810913| 0.5928975939750671|  1.8106575012207031|  0.7937317490577698|               0.0| 1.1053118705749512| 0.20524665713310242|  0.4920455515384674|               0.0| 0.9126222133636475|0.8641130924224854|0.9900844097137451|0.8645238876342773|1.4300209283828735|0.9789801239967346| 0.820871114730835|[0.98330783843994...|\n",
      "|  0.0| 0.7025718688964844|  1.0089775323867798|  1.284920573234558|      1.5229629278182983|  0.7622456550598145| 1.2279947996139526| 0.41191020607948303| -0.5909085869789124|2.1730761528015137|0.9262720346450806| -0.5147677063941956|  -1.679675817489624|2.214872121810913| 0.3962017297744751|  1.3027387857437134| -0.1372167021036148|               0.0| 0.8020265698432922|-0.38022807240486145| 0.48261207342147827|               0.0| 0.7539590001106262|0.9294874668121338|0.9812682271003723|1.3769923448562622|1.5145999193191528|1.1091622114181519|0.8893934488296509|[0.70257186889648...|\n",
      "|  1.0| 2.0837414264678955|  0.9203463196754456| 1.2754878997802734|      0.5777759552001953|  1.2139757871627808| 0.9497836232185364|  0.9456441402435303| -0.7649824619293213|2.1730761528015137|1.2699886560440063| -2.4468300342559814|-0.14334924519062042|              0.0| 1.1545346975326538|  0.8157557845115662|  1.6840819120407104|               0.0| 0.6620674729347229|  1.2296191453933716| 0.18684391677379608| 3.101961374282837| 0.9608207941055298| 1.033389687538147|0.9758481383323669| 0.697374165058136|0.6722856163978577|0.8853321075439453|0.7569085955619812|[2.08374142646789...|\n",
      "|  1.0| 0.9842228889465332|-0.38087594509124756| -1.592695713043213|       0.630572497844696|    0.49177086353302| 0.5708045959472656| -1.2219691276550293|   0.852790117263794|               0.0|1.4150294065475464|  0.7664740681648254|  -0.277063250541687|2.214872121810913| 0.5623395442962646| 0.11304372549057007|  -1.404789686203003|               0.0| 0.5070170760154724| -0.4385257065296173| -1.1350620985031128| 3.101961374282837| 1.1772291660308838|0.7196908593177795|1.0399842262268066| 1.153106689453125|0.7594916820526123|0.9321129322052002|0.8111515641212463|[0.98422288894653...|\n",
      "|  1.0|0.34661921858787537|  2.4017529487609863|   0.43764728307724|      0.6317252516746521|  0.5281542539596558|    0.9749755859375|  0.2376297414302826| 0.14707033336162567|1.0865380764007568|1.1946983337402344|0.001031646388582...|  -1.467176079750061|              0.0| 0.9771571159362793|    0.86946040391922| -1.6932519674301147|1.2741122245788574| 0.6803230047225952|  1.1130238771438599| -1.0041028261184692|               0.0| 0.9686592221260071|0.6951149106025696|0.9893805384635925|0.7903904914855957|1.2900804281234741|0.9190287590026855| 0.831978976726532|[0.34661921858787...|\n",
      "|  0.0| 0.8098152279853821| -0.4607413709163666| -1.017304539680481|      0.9319586157798767|  0.0978706032037735| 0.8914297819137573|  0.3455648124217987|  1.6710480451583862|2.1730761528015137|0.7488740086555481|   0.258445680141449| -0.5578098893165588|2.214872121810913| 0.5071943998336792|   1.056971549987793|  0.6472816467285156|               0.0|  1.308800220489502|-0.46101194620132446|  0.8016865253448486|               0.0| 0.8775008916854858|0.9648597836494446|1.0164258480072021|0.6438604593276978|1.0891766548156738|0.7841828465461731| 0.755719780921936|[0.80981522798538...|\n",
      "|  0.0| 0.3480833172798157|   0.481086403131485| 0.8088495135307312|       1.804448127746582| -1.2334548234939575|0.33051884174346924|  0.0900854840874672|-0.03431301191449165|               0.0|0.7744324207305908|  1.2210769653320312| 0.15358734130859375|              0.0| 1.1922932863235474| -0.2992989420890808| -1.6655153036117554| 2.548224449157715| 1.0534660816192627| -1.2372032403945923| -0.7260918617248535|               0.0| 0.9463479518890381|0.9315075874328613|1.0585658550262451| 0.636089026927948|0.6224555373191833|0.6668827533721924|0.7017270922660828|[0.34808331727981...|\n",
      "|  1.0| 1.2731943130493164|-0.39158961176872253|0.01428811252117157|      0.9411428570747375|  -1.013456106185913|  1.069972276687622| -0.9258904457092285|  -1.482898473739624|               0.0|0.9839358329772949| -0.8314355611801147|  0.6712435483932495|2.214872121810913| 0.5948294401168823| -1.0111134052276611|   1.336262822151184|1.2741122245788574| 1.1328169107437134|  0.4409356415271759|-0.14010195434093475|               0.0| 2.0694046020507812|1.2360460758209229|1.2112784385681152|0.9668536186218262| 0.470333456993103|0.9372199773788452|0.8764770030975342|[1.27319431304931...|\n",
      "|  0.0| 1.3873919248580933| -0.1685507446527481| 1.5712289810180664|      1.0456587076187134|  0.9737749695777893| 0.5095193386077881| -1.7616444826126099|  1.1488265991210938|               0.0| 0.824793815612793|   1.580485224723816| -1.4410990476608276|              0.0| 1.8766896724700928|-0.08356998860836029|-0.18880708515644073| 2.548224449157715| 0.9100993275642395|  0.5317133665084839|  -0.329881876707077|               0.0|  1.114261507987976|1.3768733739852905|0.9844493269920349| 0.930450439453125| 0.871412456035614|1.0919941663742065|1.1045273542404175|[1.38739192485809...|\n",
      "|  0.0| 1.5583224296569824|-0.10232087224721909| 0.5569424629211426|      0.9279969930648804|   0.330199271440506|  0.853596031665802| -0.4099806249141693|   1.351727843284607|2.1730761528015137|0.6455072164535522|  0.9597774147987366| -1.3262492418289185|              0.0| 1.2692153453826904|-0.00801934394985...| -1.0403285026550293| 2.548224449157715| 0.8923305869102478|  0.4176165759563446|  0.0403471365571022|               0.0| 0.9635768532752991|1.1322107315063477|0.9799012541770935|1.1272462606430054|1.1120498180389404|0.9701611399650574|0.8728577494621277|[1.55832242965698...|\n",
      "|  0.0|  1.101531744003296|  0.5502381920814514|0.32057157158851624|        2.41322660446167|  1.4366108179092407| 1.0911335945129395| 0.13563606142997742|-0.20616987347602844|               0.0|0.6521801352500916| 0.16325104236602783| -1.6569278240203857|2.214872121810913| 0.5858727693557739|-0.24377377331256866| -0.7862598299980164| 2.548224449157715| 0.5391468405723572| -1.9517656564712524| -1.3564720153808594|               0.0| 0.8426770567893982| 1.029065489768982|1.9080430269241333|1.1459704637527466|0.4859922230243683|0.7914611101150513|0.8774116039276123|[1.10153174400329...|\n",
      "|  1.0|  1.232200264930725|  0.6739321947097778| -1.121063470840454|      0.6007795333862305|-0.29825636744499207| 0.6911764144897461| -0.9070760607719421|  0.7319363355636597|2.1730761528015137|0.7517697811126709| -0.8693191409111023| -0.2626376450061798|2.214872121810913|  0.527039647102356| -0.6315397024154663|  -1.582859754562378|               0.0|0.39967453479766846|-0.21449625492095947|  0.5752823948860168|               0.0|0.48415911197662354|0.5649840235710144|0.9811233282089233| 1.422324776649475|  0.82896888256073|1.0711616277694702|0.8172069787979126|[1.23220026493072...|\n",
      "|  0.0| 1.2135332822799683| -0.5532684326171875| 1.7382421493530273|      0.5057433247566223|  0.7100196480751038|  0.927706241607666|  0.2831803262233734| -0.4916725754737854|2.1730761528015137|0.3731779456138611| -0.6633879542350769|  0.0936657190322876|2.214872121810913| 0.5637444853782654|-0.49318188428878784| -1.0486496686935425|               0.0| 0.7092884182929993|  1.1904765367507935|  1.0247610807418823|               0.0|  1.044678807258606|0.9538295865058899|0.9840243458747864|0.6415910124778748|0.6165345907211304| 0.781202495098114|0.7383844256401062|[1.21353328227996...|\n",
      "|  1.0|  0.570439338684082|  0.2629174292087555|-1.4478768110275269|      0.6346474885940552| -1.1377663612365723| 1.2255213260650635| -0.5397007465362549|-0.43235498666763306|1.0865380764007568| 1.287111520767212|  -1.563851237297058|  1.2371699810028076|              0.0| 1.5041967630386353|-0.39487504959106445|  0.5984649062156677|               0.0| 1.2228776216506958|-0.34108540415763855| -1.1644724607467651|1.5509806871414185| 1.7645437717437744|1.4035305976867676|0.9877188205718994|0.9470894932746887|0.7985662817955017| 1.243817687034607|1.0249675512313843|[0.57043933868408...|\n",
      "|  0.0|  0.958418607711792| -0.7918907999992371|0.43154382705688477|       1.459614634513855|  1.2297435998916626|  1.140876293182373|-0.34957659244537354|-0.13742676377296448|               0.0|  1.76957368850708|  2.2128496170043945| -1.5637164115905762|              0.0| 1.6856136322021484|  0.3688236176967621| -0.3446882367134094|1.2741122245788574| 1.0074621438980103|  1.0463981628417969| -0.9769121408462524|               0.0| 0.8809092044830322|0.9512640237808228| 1.080080509185791|1.3176846504211426|1.3250813484191895|1.1757938861846924|1.0820965766906738|[0.95841860771179...|\n",
      "|  1.0| 0.3160566985607147| -1.8369592428207397| 0.3871549367904663|      0.6320275664329529| -0.4049178957939148| 0.8408626317977905| -0.8486524820327759|  -1.019440770149231|2.1730761528015137| 0.754287838935852| -1.6736165285110474|  0.8177186846733093|              0.0| 1.0535523891448975|  -0.568732500076294|   1.060004711151123|               0.0| 1.3421469926834106|  -1.978415846824646| -1.6550147533416748|               0.0| 0.8427181243896484|1.0365451574325562|0.9862056374549866|0.8009846806526184|0.7828862071037292|0.8976846933364868|0.7869805693626404|[0.31605669856071...|\n",
      "+-----+-------------------+--------------------+-------------------+------------------------+--------------------+-------------------+--------------------+--------------------+------------------+------------------+--------------------+--------------------+-----------------+-------------------+--------------------+--------------------+------------------+-------------------+--------------------+--------------------+------------------+-------------------+------------------+------------------+------------------+------------------+------------------+------------------+--------------------+\n",
      "only showing top 20 rows\n",
      "\n"
     ]
    }
   ],
   "source": [
    "assembler = VectorAssembler(\n",
    "    inputCols=feature,\n",
    "    outputCol=\"features\")\n",
    "\n",
    "output = assembler.transform(df)\n",
    "output.show(truncate=True)"
   ]
  },
  {
   "cell_type": "code",
   "execution_count": 27,
   "metadata": {
    "execution": {
     "iopub.execute_input": "2024-11-20T10:32:54.168399Z",
     "iopub.status.busy": "2024-11-20T10:32:54.167350Z",
     "iopub.status.idle": "2024-11-20T10:32:54.650284Z",
     "shell.execute_reply": "2024-11-20T10:32:54.648892Z",
     "shell.execute_reply.started": "2024-11-20T10:32:54.168298Z"
    },
    "tags": []
   },
   "outputs": [
    {
     "data": {
      "text/plain": [
       "DataFrame[label: double, lepton_pT: double, lepton_eta: double, lepton_phi: double, missing_energy_magnitude: double, missing_energy_phi: double, jet1_pt: double, jet1_eta: double, jet1_phi: double, jet1_b-tag: double, jet2_pt: double, jet2_eta: double, jet2_phi: double, jet2_b-tag: double, jet3_pt: double, jet3_eta: double, jet3_phi: double, jet3_b-tag: double, jet4_pt: double, je4_eta: double, jet4_phi: double, jet4_b-tag: double, m_jj: double, m_jjj: double, m_lv: double, m_jlv: double, m_bb: double, m_wbb: double, m_wwbb: double, features: vector]"
      ]
     },
     "metadata": {},
     "output_type": "display_data"
    },
    {
     "data": {
      "text/plain": [
       "[Row(features=DenseVector([1.788, 0.7684, 0.9809, 0.7673, -0.4854, 1.869, 0.4792, 1.3772, 2.1731, 1.9358, -0.3545, -0.7437, 0.0, 1.954, -0.8919, -0.3186, 2.5482, 0.5097, -1.0756, 0.956, 0.0, 1.4347, 1.1137, 1.5721, 1.3062, 3.046, 1.7441, 1.5477]))]"
      ]
     },
     "execution_count": 27,
     "metadata": {},
     "output_type": "execute_result"
    }
   ],
   "source": [
    "display(output)\n",
    "output.select('features').take(1)"
   ]
  },
  {
   "cell_type": "markdown",
   "metadata": {},
   "source": [
    "## Exercise 5 - Bonus\n",
    "\n",
    "Print (or draw) the correlation matrix (a table showing correlation coefficients between variables)"
   ]
  },
  {
   "cell_type": "code",
   "execution_count": 28,
   "metadata": {
    "execution": {
     "iopub.execute_input": "2024-11-20T10:32:54.653033Z",
     "iopub.status.busy": "2024-11-20T10:32:54.652387Z",
     "iopub.status.idle": "2024-11-20T10:32:59.937407Z",
     "shell.execute_reply": "2024-11-20T10:32:59.934946Z",
     "shell.execute_reply.started": "2024-11-20T10:32:54.652945Z"
    },
    "tags": []
   },
   "outputs": [
    {
     "data": {
      "image/png": "[encoded data removed]",
      "text/plain": [
       "<Figure size 864x576 with 2 Axes>"
      ]
     },
     "metadata": {
      "needs_background": "light"
     },
     "output_type": "display_data"
    }
   ],
   "source": [
    "plotCorrelation(output,feature)"
   ]
  },
  {
   "cell_type": "markdown",
   "metadata": {},
   "source": [
    "#### when you're done, stop spark, this will release the resources you're using"
   ]
  },
  {
   "cell_type": "code",
   "execution_count": 31,
   "metadata": {
    "execution": {
     "iopub.execute_input": "2024-11-20T10:33:17.954445Z",
     "iopub.status.busy": "2024-11-20T10:33:17.953695Z",
     "iopub.status.idle": "2024-11-20T10:33:18.785155Z",
     "shell.execute_reply": "2024-11-20T10:33:18.783341Z",
     "shell.execute_reply.started": "2024-11-20T10:33:17.954378Z"
    },
    "tags": []
   },
   "outputs": [],
   "source": [
    "spark.stop()"
   ]
  },
  {
   "cell_type": "code",
   "execution_count": 32,
   "metadata": {
    "execution": {
     "iopub.execute_input": "2024-11-20T10:33:20.163551Z",
     "iopub.status.busy": "2024-11-20T10:33:20.162821Z",
     "iopub.status.idle": "2024-11-20T10:33:21.794350Z",
     "shell.execute_reply": "2024-11-20T10:33:21.792183Z",
     "shell.execute_reply.started": "2024-11-20T10:33:20.163485Z"
    },
    "tags": []
   },
   "outputs": [
    {
     "name": "stdout",
     "output_type": "stream",
     "text": [
      "No resources found in annalisagilioli namespace.\n"
     ]
    }
   ],
   "source": [
    "!kubectl get pods"
   ]
  },
  {
   "cell_type": "code",
   "execution_count": null,
   "metadata": {},
   "outputs": [],
   "source": []
  }
 ],
 "metadata": {
  "kernelspec": {
   "display_name": "Python 3 (ipykernel)",
   "language": "python",
   "name": "python3"
  },
  "language_info": {
   "codemirror_mode": {
    "name": "ipython",
    "version": 3
   },
   "file_extension": ".py",
   "mimetype": "text/x-python",
   "name": "python",
   "nbconvert_exporter": "python",
   "pygments_lexer": "ipython3",
   "version": "3.9.7"
  },
  "sparkconnect": {
   "bundled_options": [],
   "list_of_options": [
    {
     "name": "spark.driver.maxResultSize",
     "value": "0"
    }
   ]
  }
 },
 "nbformat": 4,
 "nbformat_minor": 4
}
